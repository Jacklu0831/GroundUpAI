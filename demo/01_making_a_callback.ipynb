{
 "cells": [
  {
   "cell_type": "code",
   "execution_count": 1,
   "metadata": {},
   "outputs": [],
   "source": [
    "import sys\n",
    "sys.path.insert(0, '/'.join(sys.path[0].split('/')[:-1] + ['scripts']))\n",
    "\n",
    "from callback import *"
   ]
  },
  {
   "cell_type": "code",
   "execution_count": 2,
   "metadata": {},
   "outputs": [],
   "source": [
    "#export\n",
    "class LearningRateSearch(Callback):\n",
    "    def __init__(self, max_iter=1000, min_lr=1e-4, max_lr=1):\n",
    "        self.max_iter = max_iter\n",
    "        self.min_lr, self.max_lr = min_lr, max_lr\n",
    "        self.cur_lr, self.best_lr = min_lr, min_lr\n",
    "        self.best_loss = float('inf')\n",
    "        \n",
    "    def before_batch(self): \n",
    "        if not self.model.training: return\n",
    "        position = self.iters_count / self.iters\n",
    "        self.cur_lr = self.min_lr * (self.max_lr/self.min_lr)**position\n",
    "        self.optimizer.hyper_params['learning_rate'] = self.cur_lr\n",
    "            \n",
    "    def after_step(self):\n",
    "        if self.iters_count >= self.max_iter or self.loss > self.best_loss*10:\n",
    "            raise CancelTrainException()\n",
    "        if self.loss < self.best_loss:\n",
    "            self.best_loss = self.loss\n",
    "            self.best_lr = self.cur_lr"
   ]
  }
 ],
 "metadata": {
  "kernelspec": {
   "display_name": "Python 3",
   "language": "python",
   "name": "python3"
  },
  "language_info": {
   "codemirror_mode": {
    "name": "ipython",
    "version": 3
   },
   "file_extension": ".py",
   "mimetype": "text/x-python",
   "name": "python",
   "nbconvert_exporter": "python",
   "pygments_lexer": "ipython3",
   "version": "3.7.6"
  }
 },
 "nbformat": 4,
 "nbformat_minor": 4
}

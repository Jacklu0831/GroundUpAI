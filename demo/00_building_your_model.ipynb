{
 "cells": [
  {
   "cell_type": "code",
   "execution_count": 1,
   "metadata": {},
   "outputs": [],
   "source": [
    "import sys\n",
    "sys.path.insert(0, '/'.join(sys.path[0].split('/')[:-1] + ['scripts']))\n",
    "\n",
    "from batch_norm import *"
   ]
  },
  {
   "cell_type": "code",
   "execution_count": 2,
   "metadata": {},
   "outputs": [],
   "source": [
    "model = Sequential(Reshape((1, 28, 28)),\n",
    "                   Conv(c_in=1, c_out=4, k_s=5, stride=2, pad=1), # 4, 13, 13\n",
    "                   AvgPool(k_s=2, pad=0), # 4, 12, 12\n",
    "                   BatchNorm(4),\n",
    "                   Conv(c_in=4, c_out=16, stride=2, leak=1.), # 16, 5, 5\n",
    "                   BatchNorm(16),\n",
    "                   Flatten(),\n",
    "                   Linear(400, 64), # 16 * 5 * 5 -> 400\n",
    "                   ReLU(),\n",
    "                   Linear(64, 10, True))"
   ]
  },
  {
   "cell_type": "code",
   "execution_count": 3,
   "metadata": {},
   "outputs": [
    {
     "data": {
      "text/plain": [
       "(Model)\n",
       "    Reshape(1, 28, 28)\n",
       "    Conv(1, 4, 5, 2)\n",
       "    AvgPool(2, 1)\n",
       "    BatchNorm()\n",
       "    Conv(4, 16, 3, 2)\n",
       "    BatchNorm()\n",
       "    Flatten()\n",
       "    Linear(400, 64)\n",
       "    ReLU()\n",
       "    Linear(64, 10)"
      ]
     },
     "execution_count": 3,
     "metadata": {},
     "output_type": "execute_result"
    }
   ],
   "source": [
    "model"
   ]
  },
  {
   "cell_type": "code",
   "execution_count": 4,
   "metadata": {},
   "outputs": [
    {
     "name": "stdout",
     "output_type": "stream",
     "text": [
      "shape: (4, 1, 5, 5), grad: True\n",
      "shape: (4,), grad: True\n",
      "shape: (1, 4, 1, 1), grad: True\n",
      "shape: (1, 4, 1, 1), grad: True\n",
      "shape: (16, 4, 3, 3), grad: True\n",
      "shape: (16,), grad: True\n",
      "shape: (1, 16, 1, 1), grad: True\n",
      "shape: (1, 16, 1, 1), grad: True\n",
      "shape: (400, 64), grad: True\n",
      "shape: (64,), grad: True\n",
      "shape: (64, 10), grad: True\n",
      "shape: (10,), grad: True\n"
     ]
    }
   ],
   "source": [
    "for p in model.parameters():\n",
    "    print(p)"
   ]
  },
  {
   "cell_type": "code",
   "execution_count": 5,
   "metadata": {},
   "outputs": [
    {
     "name": "stdout",
     "output_type": "stream",
     "text": [
      "layer2:     Conv(1, 4, 5, 2)\n",
      "\n",
      "shape: (4, 1, 5, 5), grad: True\n",
      "shape: (4,), grad: True\n"
     ]
    }
   ],
   "source": [
    "print(f'layer2: {model.layers[1]}\\n')\n",
    "for p in model.layers[1].parameters():\n",
    "    print(p)"
   ]
  },
  {
   "cell_type": "code",
   "execution_count": null,
   "metadata": {},
   "outputs": [],
   "source": []
  }
 ],
 "metadata": {
  "kernelspec": {
   "display_name": "Python 3",
   "language": "python",
   "name": "python3"
  },
  "language_info": {
   "codemirror_mode": {
    "name": "ipython",
    "version": 3
   },
   "file_extension": ".py",
   "mimetype": "text/x-python",
   "name": "python",
   "nbconvert_exporter": "python",
   "pygments_lexer": "ipython3",
   "version": "3.7.6"
  }
 },
 "nbformat": 4,
 "nbformat_minor": 4
}

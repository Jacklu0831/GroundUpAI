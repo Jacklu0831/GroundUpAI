{
 "cells": [
  {
   "cell_type": "markdown",
   "metadata": {},
   "source": [
    "# Stateless Optimizer"
   ]
  },
  {
   "cell_type": "code",
   "execution_count": 1,
   "metadata": {},
   "outputs": [],
   "source": [
    "%load_ext autoreload\n",
    "%autoreload 2\n",
    "\n",
    "%matplotlib inline"
   ]
  },
  {
   "cell_type": "code",
   "execution_count": 2,
   "metadata": {},
   "outputs": [],
   "source": [
    "#export\n",
    "import sys\n",
    "from os.path import join\n",
    "\n",
    "sys.path.insert(0, '/'.join(sys.path[0].split('/')[:-1] + ['scripts']))\n",
    "from lr_search import *"
   ]
  },
  {
   "cell_type": "code",
   "execution_count": 3,
   "metadata": {},
   "outputs": [],
   "source": [
    "#export\n",
    "def sgd(param, learning_rate, **kwargs):\n",
    "    '''Basic stochastic gradient descent'''\n",
    "    param.data -= learning_rate * param.grad\n",
    "    \n",
    "def l2_reg(param, weight_decay, **kwargs):\n",
    "    '''L2 regularization'''\n",
    "    param.grad += weight_decay * param.data"
   ]
  },
  {
   "cell_type": "code",
   "execution_count": 4,
   "metadata": {},
   "outputs": [],
   "source": [
    "#export\n",
    "def compose_inplace(item, fns, **hyper_params):\n",
    "    '''Simplified compose function that modifies input item in-place'''\n",
    "    for fn in fns:\n",
    "        fn(item, **hyper_params)"
   ]
  },
  {
   "cell_type": "code",
   "execution_count": 5,
   "metadata": {},
   "outputs": [],
   "source": [
    "#export\n",
    "class StatelessOpt():\n",
    "    '''Improve dynamicOpt that allows different layers to have different hyperparameters'''\n",
    "    def __init__(self, params, steppers=None, **hyper_params):\n",
    "        # list of list of params\n",
    "        self.params = [params] if isinstance(params, list) else [[params]]\n",
    "        # set of hyperparams for each param\n",
    "        self.hypers = [dict(hyper_params) for p in self.params]\n",
    "        self.steppers = steppers if steppers != None else [sgd]\n",
    "\n",
    "    def step(self):\n",
    "        for params, hyper_params in zip(self.params, self.hypers):\n",
    "            for param in params:\n",
    "                compose_inplace(param, self.steppers, **hyper_params)              \n",
    "        \n",
    "    def zero_grad(self):\n",
    "        for hps in self.params: \n",
    "            for hp in hps:\n",
    "                hp.zero_grad()\n",
    "\n",
    "    def __repr__(self):\n",
    "        return f'(StatelessOpt) steppers: {[stepper.__name__ for stepper in self.steppers]}'"
   ]
  },
  {
   "cell_type": "markdown",
   "metadata": {},
   "source": [
    "## Renew callbacks"
   ]
  },
  {
   "cell_type": "code",
   "execution_count": 6,
   "metadata": {},
   "outputs": [],
   "source": [
    "#export\n",
    "class Recorder(Callback):\n",
    "    '''Callback for recording specified hyper parameters (good for debugging param scheduler)'''\n",
    "    def __init__(self, param_names=['learning_rate']):\n",
    "        self.parameters = {name: [] for name in param_names}\n",
    "        \n",
    "    def before_fit(self):\n",
    "        self.losses = []\n",
    "        \n",
    "    def after_batch(self): \n",
    "        if not self.model.training: return\n",
    "        self.losses.append(self.loss)\n",
    "        for i, param in enumerate(self.parameters):\n",
    "            self.parameters[param].append(self.optimizer.hypers[i][param])       \n",
    "\n",
    "    def plot_losses(self): \n",
    "        plt.plot(self.losses)\n",
    "        plt.ylabel('loss')\n",
    "        plt.xlabel('batch')\n",
    "    \n",
    "    def plot_parameter(self, name):\n",
    "        plt.plot(self.parameters[name])\n",
    "        plt.ylabel(' '.join(name.split('_')))\n",
    "        plt.xlabel('batch')\n",
    "\n",
    "class LearningRateSearch(Callback):\n",
    "    '''Callback to search for optimal learning rate before actual training'''\n",
    "    def __init__(self, max_iter=1000, min_lr=1e-4, max_lr=1):\n",
    "        self.max_iter = max_iter\n",
    "        self.min_lr, self.max_lr = min_lr, max_lr\n",
    "        self.cur_lr, self.best_lr = min_lr, min_lr\n",
    "        self.best_loss = float('inf')\n",
    "        \n",
    "    def before_batch(self): \n",
    "        if self.model.training:\n",
    "            position = self.iters_count / self.iters\n",
    "            self.cur_lr = self.min_lr * (self.max_lr / self.min_lr) ** position\n",
    "            for hp in self.optimizer.hypers:\n",
    "                hp['learning_rate'] = self.cur_lr\n",
    "            \n",
    "    def after_step(self):\n",
    "        if self.iters_count >= self.max_iter or self.loss > self.best_loss*10:\n",
    "            raise CancelTrainException()\n",
    "        if self.loss < self.best_loss:\n",
    "            self.best_loss = self.loss\n",
    "            self.best_lr = self.cur_lr\n",
    "            \n",
    "class ParamScheduler(Callback):\n",
    "    '''Callback for scheduling hyper parameter value each epoch'''\n",
    "    def __init__(self, param_name, schedule_fn): \n",
    "        self.param_name = param_name\n",
    "        self.schedule_fn = schedule_fn\n",
    "        \n",
    "    def set_param(self):\n",
    "        for hp in self.optimizer.hypers:\n",
    "            hp[self.param_name] = self.schedule_fn(self.iters_count / self.iters)\n",
    "            \n",
    "    def before_batch(self): \n",
    "        if self.model.training:\n",
    "            self.set_param()"
   ]
  },
  {
   "cell_type": "markdown",
   "metadata": {},
   "source": [
    "# Tests"
   ]
  },
  {
   "cell_type": "code",
   "execution_count": 7,
   "metadata": {},
   "outputs": [],
   "source": [
    "hyper_params = {'weight_decay':1e-4, 'learning_rate':0.1}\n",
    "\n",
    "data_bunch = get_data_bunch(*get_mnist_data(), batch_size=64)\n",
    "model = get_lin_model(data_bunch)\n",
    "optimizer = StatelessOpt(list(model.parameters()), [l2_reg, sgd], **hyper_params)\n",
    "loss_fn = CrossEntropy()\n",
    "callbacks = [LearningRateSearch(), Recorder()]"
   ]
  },
  {
   "cell_type": "code",
   "execution_count": 8,
   "metadata": {},
   "outputs": [
    {
     "name": "stdout",
     "output_type": "stream",
     "text": [
      "(DataBunch) \n",
      "    (DataLoader) \n",
      "        (Dataset) x: (50000, 784), y: (50000,)\n",
      "        (Sampler) total: 50000, batch_size: 64, shuffle: True\n",
      "    (DataLoader) \n",
      "        (Dataset) x: (10000, 784), y: (10000,)\n",
      "        (Sampler) total: 10000, batch_size: 128, shuffle: False\n",
      "(Model)\n",
      "    Linear(784, 50)\n",
      "    ReLU()\n",
      "    Linear(50, 10)\n",
      "(CrossEntropy)\n",
      "(StatelessOpt) steppers: ['l2_reg', 'sgd']\n",
      "(Callbacks) ['TrainEval', 'LearningRateSearch', 'Recorder']\n"
     ]
    }
   ],
   "source": [
    "learner = Learner(data_bunch, model, loss_fn, optimizer, callbacks)\n",
    "print(learner)"
   ]
  },
  {
   "cell_type": "code",
   "execution_count": 9,
   "metadata": {},
   "outputs": [],
   "source": [
    "learner.fit(100)"
   ]
  },
  {
   "cell_type": "code",
   "execution_count": 10,
   "metadata": {},
   "outputs": [
    {
     "data": {
      "image/png": "[encoded data removed]",
      "text/plain": [
       "<Figure size 432x288 with 1 Axes>"
      ]
     },
     "metadata": {
      "needs_background": "light"
     },
     "output_type": "display_data"
    }
   ],
   "source": [
    "plot_lr_loss(learner.callbacks[2])"
   ]
  },
  {
   "cell_type": "code",
   "execution_count": 11,
   "metadata": {},
   "outputs": [
    {
     "name": "stdout",
     "output_type": "stream",
     "text": [
      "0.15190976005157217\n"
     ]
    }
   ],
   "source": [
    "best_lr = learner.callbacks[1].best_lr\n",
    "print(best_lr)"
   ]
  },
  {
   "cell_type": "markdown",
   "metadata": {},
   "source": [
    "### Test ParamScheduler"
   ]
  },
  {
   "cell_type": "code",
   "execution_count": 12,
   "metadata": {},
   "outputs": [
    {
     "name": "stdout",
     "output_type": "stream",
     "text": [
      "(DataBunch) \n",
      "    (DataLoader) \n",
      "        (Dataset) x: (50000, 784), y: (50000,)\n",
      "        (Sampler) total: 50000, batch_size: 64, shuffle: True\n",
      "    (DataLoader) \n",
      "        (Dataset) x: (10000, 784), y: (10000,)\n",
      "        (Sampler) total: 10000, batch_size: 128, shuffle: False\n",
      "(Model)\n",
      "    Linear(784, 50)\n",
      "    ReLU()\n",
      "    Linear(50, 10)\n",
      "(CrossEntropy)\n",
      "(StatelessOpt) steppers: ['l2_reg', 'sgd']\n",
      "(Callbacks) ['TrainEval', 'ParamScheduler', 'StatsLogging', 'Recorder']\n"
     ]
    }
   ],
   "source": [
    "hyper_params = {'weight_decay':1e-4, 'learning_rate':0.1}\n",
    "schedule = combine_schedules([0.4, 0.6], one_cycle_cos(best_lr/3, best_lr*3, best_lr/3))\n",
    "\n",
    "data_bunch = get_data_bunch(*get_mnist_data(), batch_size=64)\n",
    "model = get_lin_model(data_bunch)\n",
    "optimizer = StatelessOpt(list(model.parameters()), [l2_reg, sgd], **hyper_params)\n",
    "loss_fn = CrossEntropy()\n",
    "callbacks = [ParamScheduler('learning_rate', schedule), StatsLogging(), Recorder()]\n",
    "\n",
    "learner = Learner(data_bunch, model, loss_fn, optimizer, callbacks)\n",
    "print(learner)"
   ]
  },
  {
   "cell_type": "code",
   "execution_count": 13,
   "metadata": {},
   "outputs": [
    {
     "name": "stdout",
     "output_type": "stream",
     "text": [
      "Epoch - 1\n",
      "train metrics - [5.564815044403076e-05, 0.90206]\n",
      "valid metrics - [1.1678791046142578e-05, 0.9655]\n",
      "\n",
      "Epoch - 2\n",
      "train metrics - [9.74273681640625e-07, 0.9581]\n",
      "valid metrics - [6.900358200073242e-06, 0.9691]\n",
      "\n",
      "Epoch - 3\n",
      "train metrics - [3.1070518493652343e-06, 0.96738]\n",
      "valid metrics - [6.411838531494141e-06, 0.9724]\n",
      "\n"
     ]
    }
   ],
   "source": [
    "learner.fit(3)"
   ]
  },
  {
   "cell_type": "code",
   "execution_count": 14,
   "metadata": {},
   "outputs": [
    {
     "data": {
      "image/png": "[encoded data removed]",
      "text/plain": [
       "<Figure size 432x288 with 1 Axes>"
      ]
     },
     "metadata": {
      "needs_background": "light"
     },
     "output_type": "display_data"
    }
   ],
   "source": [
    "learner.callbacks[3].plot_losses()"
   ]
  },
  {
   "cell_type": "code",
   "execution_count": 15,
   "metadata": {},
   "outputs": [
    {
     "data": {
      "image/png": "[encoded data removed]",
      "text/plain": [
       "<Figure size 432x288 with 1 Axes>"
      ]
     },
     "metadata": {
      "needs_background": "light"
     },
     "output_type": "display_data"
    }
   ],
   "source": [
    "learner.callbacks[3].plot_parameter('learning_rate')"
   ]
  },
  {
   "cell_type": "code",
   "execution_count": null,
   "metadata": {},
   "outputs": [],
   "source": []
  }
 ],
 "metadata": {
  "kernelspec": {
   "display_name": "Python 3",
   "language": "python",
   "name": "python3"
  },
  "language_info": {
   "codemirror_mode": {
    "name": "ipython",
    "version": 3
   },
   "file_extension": ".py",
   "mimetype": "text/x-python",
   "name": "python",
   "nbconvert_exporter": "python",
   "pygments_lexer": "ipython3",
   "version": "3.7.6"
  }
 },
 "nbformat": 4,
 "nbformat_minor": 4
}

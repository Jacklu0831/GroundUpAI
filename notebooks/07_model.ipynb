{
 "cells": [
  {
   "cell_type": "markdown",
   "metadata": {},
   "source": [
    "# Model"
   ]
  },
  {
   "cell_type": "code",
   "execution_count": 1,
   "metadata": {},
   "outputs": [],
   "source": [
    "%load_ext autoreload\n",
    "%autoreload 2\n",
    "\n",
    "%matplotlib inline"
   ]
  },
  {
   "cell_type": "code",
   "execution_count": 2,
   "metadata": {},
   "outputs": [],
   "source": [
    "#export\n",
    "import sys\n",
    "sys.path.insert(0, '/'.join(sys.path[0].split('/')[:-1] + ['scripts']))\n",
    "\n",
    "from loss import *"
   ]
  },
  {
   "cell_type": "code",
   "execution_count": 3,
   "metadata": {},
   "outputs": [],
   "source": [
    "#export\n",
    "class Sequential():\n",
    "    '''Sequential Model with stored layers and training status'''\n",
    "    def __init__(self, *args):\n",
    "        assert args, 'empty model'\n",
    "        self.layers = args[0] if isinstance(args[0], list) else list(args)\n",
    "        self.training = True\n",
    "    \n",
    "    def __call__(self, inp):\n",
    "        for layer in self.layers:\n",
    "            inp = layer(inp)\n",
    "        return inp\n",
    "    \n",
    "    def train(self): self.training = True\n",
    "    \n",
    "    def eval_(self): self.training = False\n",
    "        \n",
    "    def backward(self):\n",
    "        for layer in reversed(self.layers):\n",
    "            layer.backward()\n",
    "        \n",
    "    def parameters(self):\n",
    "        for layer in self.layers:\n",
    "            for parameter in layer.parameters():\n",
    "                yield parameter\n",
    "\n",
    "    def __repr__(self, t=''):\n",
    "        header = '(Model)\\n' if t == '' else ''\n",
    "        return header + ('\\n').join(layer.__repr__(t) for layer in self.layers)"
   ]
  },
  {
   "cell_type": "markdown",
   "metadata": {},
   "source": [
    "# Tests"
   ]
  },
  {
   "cell_type": "code",
   "execution_count": 4,
   "metadata": {},
   "outputs": [],
   "source": [
    "from linear import Module\n",
    "\n",
    "class Null(Module):\n",
    "    def fwd(self, inp):\n",
    "        pass\n",
    "    \n",
    "    def bwd(self, out, inp):\n",
    "        pass\n",
    "        \n",
    "    def __repr__(self, t=''):\n",
    "        return f\"{t+'    '}Null()\""
   ]
  },
  {
   "cell_type": "code",
   "execution_count": 5,
   "metadata": {},
   "outputs": [],
   "source": [
    "m1 = Sequential([Null(), Null()])\n",
    "m2 = Sequential(Null(), Null())\n",
    "assert str(m1) == str(m2)"
   ]
  },
  {
   "cell_type": "code",
   "execution_count": 6,
   "metadata": {},
   "outputs": [
    {
     "data": {
      "text/plain": [
       "(Model)\n",
       "    Null()\n",
       "    Null()"
      ]
     },
     "execution_count": 6,
     "metadata": {},
     "output_type": "execute_result"
    }
   ],
   "source": [
    "m1"
   ]
  },
  {
   "cell_type": "code",
   "execution_count": 7,
   "metadata": {},
   "outputs": [
    {
     "name": "stdout",
     "output_type": "stream",
     "text": [
      "empty model exception\n"
     ]
    }
   ],
   "source": [
    "try:\n",
    "    Sequential()\n",
    "except:\n",
    "    print('empty model exception')"
   ]
  }
 ],
 "metadata": {
  "kernelspec": {
   "display_name": "Python 3",
   "language": "python",
   "name": "python3"
  },
  "language_info": {
   "codemirror_mode": {
    "name": "ipython",
    "version": 3
   },
   "file_extension": ".py",
   "mimetype": "text/x-python",
   "name": "python",
   "nbconvert_exporter": "python",
   "pygments_lexer": "ipython3",
   "version": "3.7.6"
  }
 },
 "nbformat": 4,
 "nbformat_minor": 4
}

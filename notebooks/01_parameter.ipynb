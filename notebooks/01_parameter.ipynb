{
 "cells": [
  {
   "cell_type": "code",
   "execution_count": 1,
   "metadata": {},
   "outputs": [],
   "source": [
    "#export\n",
    "import sys\n",
    "sys.path.insert(0, '/'.join(sys.path[0].split('/')[:-1] + ['scripts']))\n",
    "\n",
    "from utils import *"
   ]
  },
  {
   "cell_type": "code",
   "execution_count": 2,
   "metadata": {},
   "outputs": [],
   "source": [
    "#export\n",
    "class Parameter():\n",
    "    def __init__(self, data, requires_grad=True):\n",
    "        self.data = data if data != None else torch.Tensor()\n",
    "        self.requires_grad = requires_grad\n",
    "        self.grad = 0.\n",
    "        \n",
    "    def __get__(self, instance, owner):\n",
    "        return self.data\n",
    "    \n",
    "    def __repr__(self):\n",
    "        return f'shape: {tuple(self.data.shape)}, grad: {self.requires_grad}'\n",
    "    \n",
    "    def step(self, learning_rate):\n",
    "        self.data -= learning_rate * self.grad\n",
    "    \n",
    "    def zero_data(self):\n",
    "        self.data.zero_()\n",
    "        \n",
    "    def zero_grad(self):\n",
    "        self.grad = 0.\n",
    "    \n",
    "    def update(self, grad):\n",
    "        self.grad = grad"
   ]
  },
  {
   "cell_type": "code",
   "execution_count": 3,
   "metadata": {},
   "outputs": [
    {
     "data": {
      "text/plain": [
       "shape: (3, 3), grad: True"
      ]
     },
     "execution_count": 3,
     "metadata": {},
     "output_type": "execute_result"
    }
   ],
   "source": [
    "x = Parameter(torch.randn(3, 3))\n",
    "x"
   ]
  },
  {
   "cell_type": "code",
   "execution_count": 4,
   "metadata": {},
   "outputs": [
    {
     "name": "stdout",
     "output_type": "stream",
     "text": [
      "0.0\n",
      "tensor([[-0.9028,  0.3043, -0.5382],\n",
      "        [-0.3015,  0.0077, -0.6539],\n",
      "        [-2.1795,  1.0472,  0.8356]])\n",
      "tensor([[0., 0., 0.],\n",
      "        [0., 0., 0.],\n",
      "        [0., 0., 0.]])\n"
     ]
    }
   ],
   "source": [
    "print(x.grad)\n",
    "print(x.data)\n",
    "x.zero_data()\n",
    "print(x.data)"
   ]
  },
  {
   "cell_type": "code",
   "execution_count": null,
   "metadata": {},
   "outputs": [],
   "source": []
  }
 ],
 "metadata": {
  "kernelspec": {
   "display_name": "Python 3",
   "language": "python",
   "name": "python3"
  },
  "language_info": {
   "codemirror_mode": {
    "name": "ipython",
    "version": 3
   },
   "file_extension": ".py",
   "mimetype": "text/x-python",
   "name": "python",
   "nbconvert_exporter": "python",
   "pygments_lexer": "ipython3",
   "version": "3.7.6"
  }
 },
 "nbformat": 4,
 "nbformat_minor": 4
}

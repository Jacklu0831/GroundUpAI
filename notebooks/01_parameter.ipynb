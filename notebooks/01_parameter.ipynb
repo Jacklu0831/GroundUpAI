{
 "cells": [
  {
   "cell_type": "markdown",
   "metadata": {},
   "source": [
    "# Parameter"
   ]
  },
  {
   "cell_type": "code",
   "execution_count": 1,
   "metadata": {},
   "outputs": [],
   "source": [
    "%load_ext autoreload\n",
    "%autoreload 2\n",
    "\n",
    "%matplotlib inline"
   ]
  },
  {
   "cell_type": "code",
   "execution_count": 2,
   "metadata": {},
   "outputs": [],
   "source": [
    "#export\n",
    "import sys\n",
    "sys.path.insert(0, '/'.join(sys.path[0].split('/')[:-1] + ['scripts']))\n",
    "\n",
    "from utils import *"
   ]
  },
  {
   "cell_type": "code",
   "execution_count": 3,
   "metadata": {},
   "outputs": [],
   "source": [
    "#export\n",
    "class Parameter():\n",
    "    def __init__(self, data, requires_grad=True):\n",
    "        '''Model parameter class with tensor data and gradient to imitate a basic pytorch tensor.\n",
    "            data: tensor data (with autograd turned off)\n",
    "            requires_grad: whether gradient of data is computed\n",
    "        '''\n",
    "        self.data = data if data != None else torch.Tensor()\n",
    "        self.requires_grad = requires_grad\n",
    "        self.grad = 0.\n",
    "        \n",
    "    def __get__(self, instance, owner): return self.data\n",
    "    \n",
    "    def step(self, learning_rate): self.data -= learning_rate * self.grad\n",
    "    \n",
    "    def zero_data(self): self.data.zero_()\n",
    "    \n",
    "    def zero_grad(self): self.grad = 0.\n",
    "    \n",
    "    def update(self, grad): self.grad = grad\n",
    "        \n",
    "    def __repr__(self): return f'shape: {tuple(self.data.shape)}, grad: {self.requires_grad}'"
   ]
  },
  {
   "cell_type": "markdown",
   "metadata": {},
   "source": [
    "# Tests"
   ]
  },
  {
   "cell_type": "code",
   "execution_count": 4,
   "metadata": {},
   "outputs": [],
   "source": [
    "x = Parameter(torch.randn(3, 3))"
   ]
  },
  {
   "cell_type": "code",
   "execution_count": 5,
   "metadata": {},
   "outputs": [
    {
     "name": "stdout",
     "output_type": "stream",
     "text": [
      "shape: (3, 3), grad: True\n",
      "0.0\n",
      "tensor([[ 0.0327, -0.7079, -0.3881],\n",
      "        [-1.1837,  1.1981, -0.4327],\n",
      "        [-1.2923, -0.5472, -0.1192]])\n"
     ]
    }
   ],
   "source": [
    "print(x)\n",
    "print(x.grad)\n",
    "print(x.data)"
   ]
  },
  {
   "cell_type": "code",
   "execution_count": 6,
   "metadata": {
    "scrolled": true
   },
   "outputs": [
    {
     "name": "stdout",
     "output_type": "stream",
     "text": [
      "tensor([[0., 0., 0.],\n",
      "        [0., 0., 0.],\n",
      "        [0., 0., 0.]])\n"
     ]
    }
   ],
   "source": [
    "x.zero_data()\n",
    "print(x.data)"
   ]
  },
  {
   "cell_type": "code",
   "execution_count": null,
   "metadata": {},
   "outputs": [],
   "source": []
  }
 ],
 "metadata": {
  "kernelspec": {
   "display_name": "Python 3",
   "language": "python",
   "name": "python3"
  },
  "language_info": {
   "codemirror_mode": {
    "name": "ipython",
    "version": 3
   },
   "file_extension": ".py",
   "mimetype": "text/x-python",
   "name": "python",
   "nbconvert_exporter": "python",
   "pygments_lexer": "ipython3",
   "version": "3.7.6"
  }
 },
 "nbformat": 4,
 "nbformat_minor": 4
}

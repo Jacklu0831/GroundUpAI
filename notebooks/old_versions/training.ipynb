{
 "cells": [
  {
   "cell_type": "code",
   "execution_count": 1,
   "metadata": {},
   "outputs": [],
   "source": [
    "%load_ext autoreload\n",
    "%autoreload 2\n",
    "\n",
    "%matplotlib inline"
   ]
  },
  {
   "cell_type": "code",
   "execution_count": 2,
   "metadata": {},
   "outputs": [],
   "source": [
    "#export\n",
    "import sys\n",
    "from os.path import join\n",
    "import math\n",
    "import matplotlib.pyplot as plt\n",
    "\n",
    "sys.path.insert(0, '/'.join(sys.path[0].split('/')[:-1] + ['scripts']))\n",
    "from operations import *\n",
    "from fcn import *"
   ]
  },
  {
   "cell_type": "code",
   "execution_count": 3,
   "metadata": {},
   "outputs": [],
   "source": [
    "#export\n",
    "class Dataset():\n",
    "    def __init__(self, x_data, y_data):\n",
    "        self.x_data = x_data\n",
    "        self.y_data = y_data\n",
    "    \n",
    "    def __len__(self):\n",
    "        return len(self.x_data)\n",
    "    \n",
    "    def __getitem__(self, i):\n",
    "        return self.x_data[i], self.y_data[i]"
   ]
  },
  {
   "cell_type": "code",
   "execution_count": 4,
   "metadata": {},
   "outputs": [],
   "source": [
    "#export\n",
    "class Sampler():\n",
    "    def __init__(self, size, batch_size, shuffle=True):\n",
    "        self.size = size\n",
    "        self.batch_size = batch_size\n",
    "        self.shuffle = shuffle\n",
    "    \n",
    "    def __iter__(self):\n",
    "        self.idxs = torch.randperm(self.size) if self.shuffle else torch.arange(self.size)\n",
    "        for i in range(0, self.size, self.batch_size):\n",
    "            yield self.idxs[i: i+self.batch_size]\n",
    "            \n",
    "def collate(batch):\n",
    "    x_batch, y_batch = zip(*batch)\n",
    "    return torch.stack(x_batch), torch.stack(y_batch)"
   ]
  },
  {
   "cell_type": "code",
   "execution_count": 5,
   "metadata": {},
   "outputs": [],
   "source": [
    "class DataLoader():\n",
    "    def __init__(self, dataset, sampler, collate_fn=collate):\n",
    "        self.dataset = dataset\n",
    "        self.sampler = sampler\n",
    "        self.collate_fn = collate_fn\n",
    "        \n",
    "    def __iter__(self):\n",
    "        for idxs in self.sampler:\n",
    "            yield self.collate_fn([self.dataset[i] for i in idxs])"
   ]
  },
  {
   "cell_type": "code",
   "execution_count": 6,
   "metadata": {},
   "outputs": [],
   "source": [
    "#export\n",
    "def compute_accuracy(pre, tar):\n",
    "    return (torch.argmax(pre, dim=1) == tar).float().mean()"
   ]
  },
  {
   "cell_type": "code",
   "execution_count": 7,
   "metadata": {},
   "outputs": [],
   "source": [
    "#export\n",
    "class Optimizer():\n",
    "    def __init__(self, parameters, learning_rate):\n",
    "        self.parameters = parameters\n",
    "        self.learning_rate = learning_rate\n",
    "    \n",
    "    def step(self):\n",
    "        for parameter in self.parameters:\n",
    "            parameter.step(self.learning_rate)\n",
    "    \n",
    "    def zero_grad(self):\n",
    "        for parameter in self.parameters:\n",
    "            parameter.zero_grad()"
   ]
  },
  {
   "cell_type": "code",
   "execution_count": 8,
   "metadata": {},
   "outputs": [],
   "source": [
    "#export\n",
    "def fit(num_epochs, model, optimizer, loss_fn, train_data, valid_data):\n",
    "    accuracies = []\n",
    "    losses = []\n",
    "    \n",
    "    for epoch in range(1, num_epochs+1):\n",
    "        for x_batch, y_batch in train_data:\n",
    "            pred = model(x_batch)\n",
    "            loss = loss_fn(pred, y_batch)\n",
    "            \n",
    "            loss_fn.backward()\n",
    "            model.backward()\n",
    "            \n",
    "            optimizer.step()\n",
    "            optimizer.zero_grad()\n",
    "            \n",
    "        count = accuracy = loss = 0\n",
    "        for x_batch, y_batch in valid_data:\n",
    "            pred = model(x_batch)\n",
    "            accuracy += compute_accuracy(pred, y_batch)\n",
    "            loss += loss_fn(pred, y_batch)\n",
    "            count += 1\n",
    "        accuracy /= count\n",
    "        loss /= count\n",
    "        \n",
    "        accuracies.append(accuracy)\n",
    "        losses.append(loss)\n",
    "        print(f'Epoch {epoch}    Accuracy {round(accuracy.item(), 3)}    Loss {round(loss.item(), 3)}')\n",
    "    \n",
    "    return accuracies, losses"
   ]
  },
  {
   "cell_type": "code",
   "execution_count": 9,
   "metadata": {},
   "outputs": [],
   "source": [
    "x_train, y_train, x_valid, y_valid = get_mnist_data()"
   ]
  },
  {
   "cell_type": "code",
   "execution_count": 10,
   "metadata": {},
   "outputs": [
    {
     "name": "stdout",
     "output_type": "stream",
     "text": [
      "50000 10000 784 50 10\n"
     ]
    }
   ],
   "source": [
    "num_hidden = 50\n",
    "num_train, in_dim = x_train.shape\n",
    "num_valid = len(x_valid)\n",
    "out_dim = int(y_train.max() + 1)\n",
    "batch_size = 64\n",
    "learning_rate = 0.1\n",
    "\n",
    "print(num_train, num_valid, in_dim, num_hidden, out_dim)"
   ]
  },
  {
   "cell_type": "code",
   "execution_count": 11,
   "metadata": {},
   "outputs": [],
   "source": [
    "train_ds = Dataset(x_train, y_train)\n",
    "valid_ds = Dataset(x_valid, y_valid)\n",
    "train_dl = DataLoader(train_ds, Sampler(len(train_ds), batch_size, True))\n",
    "valid_dl = DataLoader(valid_ds, Sampler(len(valid_ds), batch_size*2, False)) # twice batch size (no backprop)"
   ]
  },
  {
   "cell_type": "code",
   "execution_count": 12,
   "metadata": {},
   "outputs": [],
   "source": [
    "from torch import nn\n",
    "import torch.nn.functional as F\n",
    "\n",
    "class Model(nn.Module):\n",
    "    def __init__(self, n_in, nh, n_out):\n",
    "        super().__init__()\n",
    "        self.layers = [nn.Linear(n_in, nh), nn.ReLU(), nn.Linear(nh, n_out)]\n",
    "        \n",
    "    def __call__(self, x):\n",
    "        for l in self.layers:\n",
    "            x = l(x)\n",
    "        return x\n",
    "\n",
    "model = Model(in_dim, num_hidden, out_dim)\n",
    "pred = model(x_train)\n",
    "\n",
    "loss1 = nll_loss(log_softmax(pred), y_train)\n",
    "loss2 = cross_entropy(pred, y_train)\n",
    "loss3 = F.nll_loss(F.log_softmax(pred, -1), y_train)\n",
    "loss4 = F.cross_entropy(pred, y_train)\n",
    "\n",
    "test_near(loss1, loss2)\n",
    "test_near(loss2, loss3)\n",
    "test_near(loss3, loss4)"
   ]
  },
  {
   "cell_type": "code",
   "execution_count": 13,
   "metadata": {},
   "outputs": [
    {
     "name": "stdout",
     "output_type": "stream",
     "text": [
      "Epoch 1    Accuracy 0.922    Loss 0.265\n",
      "Epoch 2    Accuracy 0.942    Loss 0.214\n",
      "Epoch 3    Accuracy 0.954    Loss 0.169\n",
      "Epoch 4    Accuracy 0.956    Loss 0.162\n",
      "Epoch 5    Accuracy 0.961    Loss 0.144\n",
      "Epoch 6    Accuracy 0.964    Loss 0.127\n",
      "Epoch 7    Accuracy 0.967    Loss 0.121\n",
      "Epoch 8    Accuracy 0.969    Loss 0.111\n",
      "Epoch 9    Accuracy 0.97    Loss 0.111\n",
      "Epoch 10    Accuracy 0.969    Loss 0.113\n",
      "Epoch 11    Accuracy 0.97    Loss 0.105\n",
      "Epoch 12    Accuracy 0.972    Loss 0.101\n",
      "Epoch 13    Accuracy 0.969    Loss 0.106\n",
      "Epoch 14    Accuracy 0.972    Loss 0.101\n",
      "Epoch 15    Accuracy 0.969    Loss 0.108\n",
      "Epoch 16    Accuracy 0.972    Loss 0.097\n",
      "Epoch 17    Accuracy 0.973    Loss 0.098\n",
      "Epoch 18    Accuracy 0.974    Loss 0.094\n",
      "Epoch 19    Accuracy 0.973    Loss 0.098\n",
      "Epoch 20    Accuracy 0.972    Loss 0.094\n"
     ]
    }
   ],
   "source": [
    "model = Sequential(Linear(in_dim, num_hidden), ReLU(), Linear(num_hidden, out_dim, end=True))\n",
    "loss_fn = CrossEntropy()\n",
    "optimizer = Optimizer(list(model.parameters()), learning_rate)\n",
    "num_epochs = 20\n",
    "\n",
    "accuracies, losses = fit(num_epochs, model, optimizer, loss_fn, train_dl, valid_dl)"
   ]
  },
  {
   "cell_type": "code",
   "execution_count": 14,
   "metadata": {},
   "outputs": [],
   "source": [
    "#export\n",
    "def plot(data, label):\n",
    "    plt.plot(list(range(1,len(data)+1)), data)\n",
    "    plt.xlabel('epoch')\n",
    "    plt.ylabel(label)\n",
    "    plt.xticks(list(range(1,len(data)+1)))\n",
    "    plt.show()"
   ]
  },
  {
   "cell_type": "code",
   "execution_count": 15,
   "metadata": {},
   "outputs": [
    {
     "data": {
      "image/png": "[encoded data removed]",
      "text/plain": [
       "<Figure size 432x288 with 1 Axes>"
      ]
     },
     "metadata": {
      "needs_background": "light"
     },
     "output_type": "display_data"
    }
   ],
   "source": [
    "plot(accuracies, 'accuracies')"
   ]
  },
  {
   "cell_type": "code",
   "execution_count": 16,
   "metadata": {},
   "outputs": [
    {
     "data": {
      "image/png": "[encoded data removed]",
      "text/plain": [
       "<Figure size 432x288 with 1 Axes>"
      ]
     },
     "metadata": {
      "needs_background": "light"
     },
     "output_type": "display_data"
    }
   ],
   "source": [
    "plot(losses, 'losses')"
   ]
  },
  {
   "cell_type": "code",
   "execution_count": null,
   "metadata": {},
   "outputs": [],
   "source": []
  }
 ],
 "metadata": {
  "kernelspec": {
   "display_name": "Python 3",
   "language": "python",
   "name": "python3"
  },
  "language_info": {
   "codemirror_mode": {
    "name": "ipython",
    "version": 3
   },
   "file_extension": ".py",
   "mimetype": "text/x-python",
   "name": "python",
   "nbconvert_exporter": "python",
   "pygments_lexer": "ipython3",
   "version": "3.7.6"
  }
 },
 "nbformat": 4,
 "nbformat_minor": 4
}

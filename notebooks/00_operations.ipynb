{
 "cells": [
  {
   "cell_type": "code",
   "execution_count": 1,
   "metadata": {},
   "outputs": [],
   "source": [
    "%load_ext autoreload\n",
    "%autoreload 2\n",
    "\n",
    "%matplotlib inline"
   ]
  },
  {
   "cell_type": "code",
   "execution_count": 2,
   "metadata": {},
   "outputs": [],
   "source": [
    "#export\n",
    "from fastai import datasets\n",
    "from pathlib import Path\n",
    "import torch\n",
    "import gzip\n",
    "import pickle\n",
    "import matplotlib as mpl\n",
    "import matplotlib.pyplot as plt\n",
    "from torch import tensor\n",
    "import random\n",
    "import operator\n",
    "import os \n",
    "\n",
    "os.environ['KMP_DUPLICATE_LIB_OK']='True'"
   ]
  },
  {
   "cell_type": "code",
   "execution_count": 3,
   "metadata": {},
   "outputs": [],
   "source": [
    "#export\n",
    "mpl.rcParams['image.cmap'] = 'gray'\n",
    "\n",
    "def get_mnist_data():\n",
    "    return get_data('mnist')\n",
    "    \n",
    "def get_data(name):\n",
    "    name2url = {'mnist': 'http://deeplearning.net/data/mnist/mnist.pkl'}\n",
    "    name2fn = {'mnist': process_mnist}\n",
    "    if name not in name2url or name not in name2fn:\n",
    "        raise Exception('Unrecognized dataset')\n",
    "        \n",
    "    path = datasets.download_data(name2url[name], ext='.gz')\n",
    "    with gzip.open(path, 'rb') as f:\n",
    "        ((xt, yt), (xv, yv), _) = pickle.load(f, encoding='latin-1')\n",
    "    \n",
    "    return name2fn[name](xt, yt, xv, yv)\n",
    "\n",
    "def process_mnist(xt, yt, xv, yv):\n",
    "    xt, yt, xv, yv = map(tensor, (xt, yt, xv, yv))\n",
    "    xt, xv = xt.float(), xv.float()\n",
    "    mean, std = xt.mean(), xt.std()\n",
    "    xt, xv = normalize(xt, mean, std), normalize(xv, mean, std)\n",
    "    return xt, yt, xv, yv\n",
    "    \n",
    "def show_image(imgs):\n",
    "    img = random.choice(imgs)\n",
    "    if len(img.shape) == 1:\n",
    "        size = int(img.shape[0] ** 0.5)\n",
    "        shape = (size, size)\n",
    "    else:\n",
    "        shape = img.shape\n",
    "    plt.imshow(img.view(shape))"
   ]
  },
  {
   "cell_type": "code",
   "execution_count": 4,
   "metadata": {},
   "outputs": [],
   "source": [
    "#export\n",
    "def test(a, b, cmp, cname=None):\n",
    "    assert cmp(a, b), f\"{cname or cmp.__name__}: \\n{a}\\n{b}\"\n",
    "\n",
    "def near(a, b): \n",
    "    return torch.allclose(a, b, rtol=1e-3, atol=1e-5)\n",
    "\n",
    "def test_near(a, b): \n",
    "    test(a, b, near)\n",
    "\n",
    "def test_near_zero(a,tol=1e-3):\n",
    "    assert a.abs() < tol, f\"Near zero: {a}\""
   ]
  },
  {
   "cell_type": "code",
   "execution_count": 5,
   "metadata": {},
   "outputs": [],
   "source": [
    "#export\n",
    "def matmul_naive(a, b):\n",
    "    ar,ac = a.shape\n",
    "    br,bc = b.shape\n",
    "    assert ac==br\n",
    "    c = torch.zeros(ar, bc)\n",
    "    for i in range(ar):\n",
    "        for j in range(bc):\n",
    "            for k in range(ac):\n",
    "                c[i,j] += a[i,k] * b[k,j]\n",
    "    return c\n",
    "\n",
    "def matmul_element(a, b):\n",
    "    ar,ac = a.shape\n",
    "    br,bc = b.shape\n",
    "    assert ac==br\n",
    "    c = torch.zeros(ar, bc)\n",
    "    for i in range(ar):\n",
    "        for j in range(bc):\n",
    "            c[i,j] = (a[i,:] * b[:,j]).sum()\n",
    "    return c\n",
    "\n",
    "def matmul_broadcast(a, b):\n",
    "    ar,ac = a.shape\n",
    "    br,bc = b.shape\n",
    "    assert ac==br\n",
    "    c = torch.zeros(ar, bc)\n",
    "    for i in range(ar):\n",
    "        c[i] = (a[i].unsqueeze(-1) * b).sum(dim=0)\n",
    "    return c\n",
    "\n",
    "def matmul_einsum(a, b): \n",
    "    return torch.einsum('ik,kj->ij', a, b)\n",
    "\n",
    "def matmul_torch(a, b):\n",
    "    return a@b"
   ]
  },
  {
   "cell_type": "code",
   "execution_count": 6,
   "metadata": {},
   "outputs": [],
   "source": [
    "#export\n",
    "def normalize(x, m=None, s=None):\n",
    "    return (x - (m if m else x.mean())) / (s if s else x.std())"
   ]
  },
  {
   "cell_type": "code",
   "execution_count": 7,
   "metadata": {},
   "outputs": [
    {
     "data": {
      "text/plain": [
       "(torch.Tensor, torch.Tensor, torch.Tensor, torch.Tensor)"
      ]
     },
     "execution_count": 7,
     "metadata": {},
     "output_type": "execute_result"
    }
   ],
   "source": [
    "x_train, y_train, x_valid, y_valid = get_mnist_data()\n",
    "type(x_train), type(y_train), type(x_valid), type(y_valid)"
   ]
  },
  {
   "cell_type": "code",
   "execution_count": 8,
   "metadata": {},
   "outputs": [
    {
     "name": "stdout",
     "output_type": "stream",
     "text": [
      "CPU times: user 846 ms, sys: 3.28 ms, total: 850 ms\n",
      "Wall time: 851 ms\n",
      "CPU times: user 1.52 ms, sys: 99 µs, total: 1.62 ms\n",
      "Wall time: 1.59 ms\n",
      "CPU times: user 878 µs, sys: 177 µs, total: 1.06 ms\n",
      "Wall time: 1.03 ms\n",
      "CPU times: user 1.12 ms, sys: 506 µs, total: 1.63 ms\n",
      "Wall time: 1.47 ms\n",
      "CPU times: user 209 µs, sys: 80 µs, total: 289 µs\n",
      "Wall time: 231 µs\n"
     ]
    }
   ],
   "source": [
    "m1, m2 = x_valid[:5], torch.randn(784, 10)\n",
    "%time _ = matmul_naive(m1, m2)\n",
    "%time _ = matmul_element(m1, m2)\n",
    "%time _ = matmul_broadcast(m1, m2)\n",
    "%time _ = matmul_einsum(m1, m2)\n",
    "%time _ = matmul_torch(m1, m2) # literal sonic, thanks torch"
   ]
  },
  {
   "cell_type": "code",
   "execution_count": 9,
   "metadata": {
    "scrolled": true
   },
   "outputs": [
    {
     "data": {
      "image/png": "[encoded data removed]",
      "text/plain": [
       "<Figure size 432x288 with 1 Axes>"
      ]
     },
     "metadata": {
      "needs_background": "light"
     },
     "output_type": "display_data"
    }
   ],
   "source": [
    "show_image(x_train) # rerun to reselect images"
   ]
  },
  {
   "cell_type": "code",
   "execution_count": 10,
   "metadata": {},
   "outputs": [],
   "source": [
    "test_near_zero(x_train.mean())\n",
    "test_near_zero(1 - x_train.std())"
   ]
  },
  {
   "cell_type": "code",
   "execution_count": null,
   "metadata": {},
   "outputs": [],
   "source": []
  }
 ],
 "metadata": {
  "kernelspec": {
   "display_name": "Python 3",
   "language": "python",
   "name": "python3"
  },
  "language_info": {
   "codemirror_mode": {
    "name": "ipython",
    "version": 3
   },
   "file_extension": ".py",
   "mimetype": "text/x-python",
   "name": "python",
   "nbconvert_exporter": "python",
   "pygments_lexer": "ipython3",
   "version": "3.7.6"
  }
 },
 "nbformat": 4,
 "nbformat_minor": 4
}

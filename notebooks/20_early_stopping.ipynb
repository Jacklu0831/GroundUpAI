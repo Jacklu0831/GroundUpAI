{
 "cells": [
  {
   "cell_type": "markdown",
   "metadata": {},
   "source": [
    "# Early Stopping"
   ]
  },
  {
   "cell_type": "code",
   "execution_count": 1,
   "metadata": {},
   "outputs": [],
   "source": [
    "%load_ext autoreload\n",
    "%autoreload 2\n",
    "\n",
    "%matplotlib inline"
   ]
  },
  {
   "cell_type": "code",
   "execution_count": 2,
   "metadata": {},
   "outputs": [],
   "source": [
    "#export\n",
    "import sys\n",
    "sys.path.insert(0, '/'.join(sys.path[0].split('/')[:-1] + ['scripts']))\n",
    "\n",
    "from param_scheduling import *"
   ]
  },
  {
   "cell_type": "code",
   "execution_count": 3,
   "metadata": {},
   "outputs": [],
   "source": [
    "#export\n",
    "class ItersStopper(Callback):\n",
    "    '''Callback to stop on specified batch/iteration (good for debugging training loop)'''\n",
    "    def __init__(self, end_iter=10):\n",
    "        self.end_iter = end_iter\n",
    "\n",
    "    def after_step(self):\n",
    "        print(f'iteration: {self.iters_count}')\n",
    "        if self.iters_count >= self.end_iter:\n",
    "            raise CancelTrainException()\n",
    "    \n",
    "    def after_cancel_train(self):\n",
    "        print(f'Training cancelled at the end of iteration {self.end_iter}')\n",
    "\n",
    "class EpochsStopper(Callback):\n",
    "    '''Callback for stopping at specified epoch'''\n",
    "    def __init__(self, end_epoch=10):\n",
    "        self.end_epoch = end_epoch\n",
    "        \n",
    "    def before_epoch(self):\n",
    "        if self.epoch > self.end_epoch:\n",
    "            raise CancelTrainException()\n",
    "    \n",
    "    def after_cancel_train(self):\n",
    "        print(f'Training cancelled at the end of epoch {self.end_epoch}')"
   ]
  },
  {
   "cell_type": "code",
   "execution_count": 4,
   "metadata": {},
   "outputs": [],
   "source": [
    "#export\n",
    "class AccuracyStopper(Callback):\n",
    "    '''Callback for stopping training after model does not receive improvement in specific number of epochs'''\n",
    "    def __init__(self, patience=5, verbose=True):\n",
    "        self.valid_stats = AvgStats([compute_accuracy], False)\n",
    "        self.patience = patience\n",
    "        self.verbose = verbose\n",
    "        self.best_acc = 0\n",
    "        self.waited = 0\n",
    "        \n",
    "    def before_epoch(self):\n",
    "        self.valid_stats.reset()\n",
    "        \n",
    "    def after_loss(self):\n",
    "        self.valid_stats.accumulate(self.learner)\n",
    "    \n",
    "    def _update(self):\n",
    "        self.waited += 1\n",
    "        if self.best_acc < self.valid_stats.avg_stats[1]:\n",
    "            self.best_acc = self.valid_stats.avg_stats[1]\n",
    "            self.waited = 0\n",
    "        \n",
    "    def after_epoch(self):\n",
    "        if self.verbose: print(f'Epoch - {self.epoch}    Acc: {self.valid_stats.avg_stats[1]}')\n",
    "        self._update()\n",
    "        if self.waited > self.patience:\n",
    "            raise CancelTrainException()"
   ]
  },
  {
   "cell_type": "markdown",
   "metadata": {},
   "source": [
    "# Tests"
   ]
  },
  {
   "cell_type": "code",
   "execution_count": 5,
   "metadata": {},
   "outputs": [],
   "source": [
    "schedule = combine_schedules([0.4, 0.6], one_cycle_cos(0.01, 0.5, 0.01))\n",
    "\n",
    "data_bunch = get_data_bunch(*get_mnist_data(), batch_size=64)\n",
    "model = get_lin_model(data_bunch)\n",
    "optimizer = DynamicOpt(list(model.parameters()), learning_rate=0.1)\n",
    "loss_fn = CrossEntropy()"
   ]
  },
  {
   "cell_type": "code",
   "execution_count": 6,
   "metadata": {},
   "outputs": [
    {
     "name": "stdout",
     "output_type": "stream",
     "text": [
      "Epoch - 1\n",
      "train metrics - [0.0001536837387084961, 0.88354]\n",
      "valid metrics - [1.210627555847168e-05, 0.9621]\n",
      "\n",
      "Training cancelled at the end of epoch 1\n"
     ]
    }
   ],
   "source": [
    "callbacks = [EpochsStopper(1), ParamScheduler('learning_rate', schedule), StatsLogging()]\n",
    "learner = Learner(data_bunch, model, loss_fn, optimizer, callbacks)\n",
    "learner.fit(10000)"
   ]
  },
  {
   "cell_type": "code",
   "execution_count": 7,
   "metadata": {},
   "outputs": [
    {
     "name": "stdout",
     "output_type": "stream",
     "text": [
      "iteration: 0\n",
      "iteration: 1\n",
      "iteration: 2\n",
      "iteration: 3\n",
      "iteration: 4\n",
      "iteration: 5\n",
      "Training cancelled at the end of iteration 5\n"
     ]
    }
   ],
   "source": [
    "callbacks = [ItersStopper(5), ParamScheduler('learning_rate', schedule), StatsLogging()]\n",
    "learner = Learner(data_bunch, model, loss_fn, optimizer, callbacks)\n",
    "learner.fit(10000)"
   ]
  },
  {
   "cell_type": "code",
   "execution_count": 8,
   "metadata": {},
   "outputs": [
    {
     "name": "stdout",
     "output_type": "stream",
     "text": [
      "Epoch - 1    Acc: 0.9575666666666667\n",
      "Epoch - 2    Acc: 0.9656\n",
      "Epoch - 3    Acc: 0.9702333333333333\n",
      "Epoch - 4    Acc: 0.9726833333333333\n",
      "Epoch - 5    Acc: 0.9746833333333333\n",
      "Epoch - 6    Acc: 0.9760333333333333\n",
      "Epoch - 7    Acc: 0.97745\n",
      "Epoch - 8    Acc: 0.97775\n",
      "Epoch - 9    Acc: 0.9806333333333334\n",
      "Epoch - 10    Acc: 0.9813166666666666\n",
      "Epoch - 11    Acc: 0.9812\n",
      "Epoch - 12    Acc: 0.98305\n",
      "Epoch - 13    Acc: 0.9827\n",
      "Epoch - 14    Acc: 0.9838833333333333\n",
      "Epoch - 15    Acc: 0.9845\n",
      "Epoch - 16    Acc: 0.9844166666666667\n",
      "Epoch - 17    Acc: 0.9846833333333334\n",
      "Epoch - 18    Acc: 0.9861666666666666\n",
      "Epoch - 19    Acc: 0.98535\n",
      "Epoch - 20    Acc: 0.9856666666666667\n"
     ]
    }
   ],
   "source": [
    "callbacks = [AccuracyStopper(1), ParamScheduler('learning_rate', schedule)]\n",
    "learner = Learner(data_bunch, model, loss_fn, optimizer, callbacks)\n",
    "learner.fit(10000)"
   ]
  }
 ],
 "metadata": {
  "kernelspec": {
   "display_name": "Python 3",
   "language": "python",
   "name": "python3"
  },
  "language_info": {
   "codemirror_mode": {
    "name": "ipython",
    "version": 3
   },
   "file_extension": ".py",
   "mimetype": "text/x-python",
   "name": "python",
   "nbconvert_exporter": "python",
   "pygments_lexer": "ipython3",
   "version": "3.7.6"
  }
 },
 "nbformat": 4,
 "nbformat_minor": 4
}

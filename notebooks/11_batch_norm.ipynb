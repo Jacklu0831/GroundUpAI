{
 "cells": [
  {
   "cell_type": "markdown",
   "metadata": {},
   "source": [
    "# Batch Normalization"
   ]
  },
  {
   "cell_type": "code",
   "execution_count": 1,
   "metadata": {},
   "outputs": [],
   "source": [
    "%load_ext autoreload\n",
    "%autoreload 2\n",
    "\n",
    "%matplotlib inline"
   ]
  },
  {
   "cell_type": "code",
   "execution_count": 2,
   "metadata": {},
   "outputs": [],
   "source": [
    "#export\n",
    "import sys\n",
    "sys.path.insert(0, '/'.join(sys.path[0].split('/')[:-1] + ['scripts']))\n",
    "\n",
    "from pooling import *"
   ]
  },
  {
   "cell_type": "code",
   "execution_count": 3,
   "metadata": {},
   "outputs": [],
   "source": [
    "#export\n",
    "def weighted_sum(t1, t2, ratio):\n",
    "    '''Util function for linear combination of two elements.\n",
    "        t1: first tensor\n",
    "        t2: second tensor\n",
    "        ratio: weight for t1\n",
    "    '''\n",
    "    return t1 * ratio + t2 * (1 - ratio)"
   ]
  },
  {
   "cell_type": "markdown",
   "metadata": {},
   "source": [
    "\\begin{equation}\\label{eq:bnorm}\n",
    "    \\hat{x}_{i} =  \\frac{x_{i} - \\mu_{\\beta}}{\\sqrt{\\sigma_{\\beta}^2 + \\epsilon}}\n",
    "    \\\\\n",
    "    y_{i} = \\gamma\\hat{x}_{i} + \\beta\n",
    "\\end{equation}"
   ]
  },
  {
   "cell_type": "code",
   "execution_count": 4,
   "metadata": {},
   "outputs": [],
   "source": [
    "#export\n",
    "class BatchNorm(Module):\n",
    "    def __init__(self, c, momentum=0.1, epsilon=1e-6):      \n",
    "        '''Batch normalization layer.\n",
    "            c: number of channels\n",
    "            momentum: ratio from 0 to 1 for weighted sum of past mean and new value\n",
    "            epsilon: small number to prevent exploding weights\n",
    "        '''\n",
    "        super().__init__()\n",
    "        self.momentum = momentum\n",
    "        self.epsilon = epsilon\n",
    "        self.mean = torch.zeros(1,c,1,1)\n",
    "        self.var  = torch.ones (1,c,1,1)\n",
    "        # trainable linear transformation\n",
    "        self.gamma = Parameter(torch.ones (1,c,1,1))\n",
    "        self.beta  = Parameter(torch.zeros(1,c,1,1))\n",
    "    \n",
    "    def update_stats(self, inp):\n",
    "        mean = inp.mean((0,2,3), keepdim=True)\n",
    "        var =  inp.var ((0,2,3), keepdim=True)\n",
    "        self.mean = weighted_sum(self.mean, mean, self.momentum)\n",
    "        self.var = weighted_sum(self.var, var, self.momentum)\n",
    "        return mean, var\n",
    "    \n",
    "    def fwd(self, inp): \n",
    "        mean, var = self.update_stats(inp)\n",
    "        self.x_hat = (inp - mean) / (var + self.epsilon).sqrt()\n",
    "        return self.gamma.data * self.x_hat + self.beta.data\n",
    "        \n",
    "    def bwd(self, out, inp):\n",
    "        # learned from: https://kratzert.github.io/2016/02/12/understanding-the-gradient-flow-through-the-batch-normalization-layer.html\n",
    "        dL = out.g\n",
    "        dLdg = (dL * self.x_hat).sum((0,2,3), keepdim=True)\n",
    "        dLdb = dL.sum((0,2,3), keepdim=True)\n",
    "        self.gamma.update(dLdg)\n",
    "        self.beta.update(dLdb)\n",
    "        \n",
    "        n = dL.shape[0]\n",
    "        dLdx = dL * self.gamma.data\n",
    "        \n",
    "        denom = (self.var + self.epsilon).sqrt()\n",
    "        numer = inp - self.mean\n",
    "        \n",
    "        dv = (-1/2)*dLdx*numer / (self.var+self.epsilon)**1.5\n",
    "        dm = ( 2/n)*dLdx/denom + numer*dv\n",
    "        \n",
    "        inp.g = (2*dv*numer + dm)/n + dLdx/denom\n",
    "    \n",
    "    def __repr__(self, t=''): \n",
    "        return f\"{t+'    '}BatchNorm()\""
   ]
  },
  {
   "cell_type": "code",
   "execution_count": 5,
   "metadata": {},
   "outputs": [],
   "source": [
    "#export\n",
    "def get_conv_final_model(data_bunch):\n",
    "    '''Util function to get convolutional model with pooling and batch normalization layers.\n",
    "        data_bunch: data bunch with training and validation data\n",
    "    '''\n",
    "    return Sequential(Reshape((1, 28, 28)),\n",
    "                      Conv(c_in=1, c_out=4, k_s=5, stride=2, pad=1), # 4, 13, 13\n",
    "                      AvgPool(k_s=2, pad=0), # 4, 12, 12\n",
    "                      BatchNorm(4),\n",
    "                      Conv(c_in=4, c_out=16, stride=2, leak=1.), # 16, 5, 5\n",
    "                      BatchNorm(16),\n",
    "                      Flatten(),\n",
    "                      Linear(400, 64),\n",
    "                      ReLU(),\n",
    "                      Linear(64, 10, True))"
   ]
  },
  {
   "cell_type": "markdown",
   "metadata": {},
   "source": [
    "# Test"
   ]
  },
  {
   "cell_type": "code",
   "execution_count": 6,
   "metadata": {},
   "outputs": [],
   "source": [
    "data_bunch = get_data_bunch(*get_mnist_data(), batch_size=64)\n",
    "model = get_conv_final_model(data_bunch)\n",
    "loss_fn = CrossEntropy()"
   ]
  },
  {
   "cell_type": "code",
   "execution_count": 7,
   "metadata": {},
   "outputs": [
    {
     "data": {
      "text/plain": [
       "(Model)\n",
       "    Reshape(1, 28, 28)\n",
       "    Conv(1, 4, 5, 2)\n",
       "    AvgPool(2, 1)\n",
       "    BatchNorm()\n",
       "    Conv(4, 16, 3, 2)\n",
       "    BatchNorm()\n",
       "    Flatten()\n",
       "    Linear(400, 64)\n",
       "    ReLU()\n",
       "    Linear(64, 10)"
      ]
     },
     "execution_count": 7,
     "metadata": {},
     "output_type": "execute_result"
    }
   ],
   "source": [
    "model"
   ]
  },
  {
   "cell_type": "code",
   "execution_count": null,
   "metadata": {},
   "outputs": [],
   "source": []
  }
 ],
 "metadata": {
  "kernelspec": {
   "display_name": "Python 3",
   "language": "python",
   "name": "python3"
  },
  "language_info": {
   "codemirror_mode": {
    "name": "ipython",
    "version": 3
   },
   "file_extension": ".py",
   "mimetype": "text/x-python",
   "name": "python",
   "nbconvert_exporter": "python",
   "pygments_lexer": "ipython3",
   "version": "3.7.6"
  }
 },
 "nbformat": 4,
 "nbformat_minor": 4
}

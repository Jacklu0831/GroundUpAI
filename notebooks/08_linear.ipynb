{
 "cells": [
  {
   "cell_type": "markdown",
   "metadata": {},
   "source": [
    "# Linear"
   ]
  },
  {
   "cell_type": "code",
   "execution_count": 1,
   "metadata": {},
   "outputs": [],
   "source": [
    "%load_ext autoreload\n",
    "%autoreload 2\n",
    "\n",
    "%matplotlib inline"
   ]
  },
  {
   "cell_type": "code",
   "execution_count": 2,
   "metadata": {},
   "outputs": [],
   "source": [
    "#export\n",
    "import sys\n",
    "sys.path.insert(0, '/'.join(sys.path[0].split('/')[:-1] + ['scripts']))\n",
    "\n",
    "from model import *"
   ]
  },
  {
   "cell_type": "code",
   "execution_count": 3,
   "metadata": {},
   "outputs": [],
   "source": [
    "#export\n",
    "class Module():\n",
    "    '''Similar to pytorch Module, parent class to layers'''\n",
    "    def __init__(self):\n",
    "        self._parameters = {}\n",
    "        \n",
    "    def __setattr__(self, k, v):\n",
    "        if isinstance(v, Parameter): \n",
    "            self._parameters[k] = v\n",
    "        super().__setattr__(k, v)\n",
    "        \n",
    "    def __call__(self, *args):\n",
    "        self.args = args\n",
    "        self.out = self.fwd(*args)\n",
    "        return self.out\n",
    "    \n",
    "    def parameters(self):\n",
    "        for param in self._parameters.values():\n",
    "            yield param\n",
    "    \n",
    "    def forward(self): raise NotImplementedError('Module.forward')\n",
    "    \n",
    "    def backward(self): self.bwd(self.out, *self.args)"
   ]
  },
  {
   "cell_type": "code",
   "execution_count": 4,
   "metadata": {},
   "outputs": [],
   "source": [
    "#export\n",
    "class Linear(Module):\n",
    "    '''Linear layer'''\n",
    "    def __init__(self, in_dim, num_hidden, end=False, require_grad=True):\n",
    "        super().__init__()\n",
    "        self.w = Parameter(init_weight(in_dim, num_hidden, end), require_grad)\n",
    "        self.b = Parameter(init_bias(num_hidden), require_grad)\n",
    "        \n",
    "    def fwd(self, inp):\n",
    "        return inp @ self.w.data + self.b.data\n",
    "    \n",
    "    def bwd(self, out, inp):\n",
    "        inp.g = out.g @ self.w.data.t()\n",
    "        self.w.update(inp.t() @ out.g)\n",
    "        self.b.update(out.g.sum(0))\n",
    "        \n",
    "    def __repr__(self, t=''):\n",
    "        return f\"{t+'    '}Linear({self.w.data.shape[0]}, {self.w.data.shape[1]})\"\n",
    "\n",
    "class ReLU(Module):\n",
    "    '''ReLU activation function (as a module)'''\n",
    "    def fwd(self, inp):\n",
    "        return inp.clamp_min(0.) - 0.5\n",
    "    \n",
    "    def bwd(self, out, inp):\n",
    "        inp.g = (inp > 0).float() * out.g\n",
    "        \n",
    "    def __repr__(self, t=''):\n",
    "        return f\"{t+'    '}ReLU()\"\n",
    "        \n",
    "class CrossEntropy(Module):\n",
    "    '''Cross Entropy loss function (as a module)'''\n",
    "    def fwd(self, inp, tar):\n",
    "        return cross_entropy(inp, tar)\n",
    "    \n",
    "    def bwd(self, loss, inp, tar):\n",
    "        inp_soft = softmax(inp)\n",
    "        inp_soft[range(tar.shape[0]), tar] -= 1\n",
    "        inp.g = inp_soft / tar.shape[0]\n",
    "\n",
    "    def __repr__(self):\n",
    "        return '(CrossEntropy)'"
   ]
  },
  {
   "cell_type": "code",
   "execution_count": 5,
   "metadata": {},
   "outputs": [],
   "source": [
    "#export\n",
    "def get_lin_model(data_bunch, num_hidden=50):\n",
    "    '''Util function for obtaining two (linear) layer fully connected model'''\n",
    "    in_dim = data_bunch.train_ds.x_data.shape[1]\n",
    "    out_dim = int(max(data_bunch.train_ds.y_data) + 1)\n",
    "    return Sequential(Linear(in_dim, num_hidden), \n",
    "                      ReLU(), \n",
    "                      Linear(num_hidden, out_dim, end=True))"
   ]
  },
  {
   "cell_type": "markdown",
   "metadata": {},
   "source": [
    "# Tests"
   ]
  },
  {
   "cell_type": "code",
   "execution_count": 6,
   "metadata": {},
   "outputs": [],
   "source": [
    "nh = 50\n",
    "\n",
    "x_train, y_train, x_valid, y_valid = get_mnist_data()\n",
    "(num_data, in_dim), out_dim = x_train.shape, int(y_train.max() + 1)"
   ]
  },
  {
   "cell_type": "code",
   "execution_count": 7,
   "metadata": {},
   "outputs": [],
   "source": [
    "model = Sequential(Linear(in_dim, nh), \n",
    "                   ReLU(), \n",
    "                   Linear(nh, out_dim, True))\n",
    "loss_fn = CrossEntropy()"
   ]
  },
  {
   "cell_type": "code",
   "execution_count": 8,
   "metadata": {},
   "outputs": [
    {
     "data": {
      "text/plain": [
       "(Model)\n",
       "    Linear(784, 50)\n",
       "    ReLU()\n",
       "    Linear(50, 10)"
      ]
     },
     "execution_count": 8,
     "metadata": {},
     "output_type": "execute_result"
    }
   ],
   "source": [
    "model"
   ]
  },
  {
   "cell_type": "code",
   "execution_count": 9,
   "metadata": {},
   "outputs": [
    {
     "name": "stdout",
     "output_type": "stream",
     "text": [
      "shape: (784, 50), grad: True\n",
      "shape: (50,), grad: True\n",
      "shape: (50, 10), grad: True\n",
      "shape: (10,), grad: True\n"
     ]
    }
   ],
   "source": [
    "for param in model.parameters():\n",
    "    print(param)"
   ]
  },
  {
   "cell_type": "code",
   "execution_count": 10,
   "metadata": {},
   "outputs": [],
   "source": [
    "loss = loss_fn(model(x_train), y_train)\n",
    "loss_fn.backward()\n",
    "model.backward()\n",
    "\n",
    "xtg = x_train.g.clone()\n",
    "w1g = model.layers[0].w.grad.clone()\n",
    "b1g = model.layers[0].b.grad.clone()\n",
    "w2g = model.layers[2].w.grad.clone()\n",
    "b2g = model.layers[2].b.grad.clone()\n",
    "\n",
    "x_train2 = x_train.clone().requires_grad_(True)\n",
    "model.layers[0].w.data.requires_grad_(True)\n",
    "model.layers[0].b.data.requires_grad_(True)\n",
    "model.layers[2].w.data.requires_grad_(True)\n",
    "model.layers[2].b.data.requires_grad_(True)\n",
    "\n",
    "loss = loss_fn(model(x_train2), y_train)\n",
    "loss.backward()\n",
    "\n",
    "test_near(w1g, model.layers[0].w.data.grad)\n",
    "test_near(b1g, model.layers[0].b.data.grad)\n",
    "test_near(w2g, model.layers[2].w.data.grad)\n",
    "test_near(b2g, model.layers[2].b.data.grad)"
   ]
  }
 ],
 "metadata": {
  "kernelspec": {
   "display_name": "Python 3",
   "language": "python",
   "name": "python3"
  },
  "language_info": {
   "codemirror_mode": {
    "name": "ipython",
    "version": 3
   },
   "file_extension": ".py",
   "mimetype": "text/x-python",
   "name": "python",
   "nbconvert_exporter": "python",
   "pygments_lexer": "ipython3",
   "version": "3.7.6"
  }
 },
 "nbformat": 4,
 "nbformat_minor": 4
}

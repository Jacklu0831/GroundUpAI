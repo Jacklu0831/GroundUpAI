{
 "cells": [
  {
   "cell_type": "markdown",
   "metadata": {},
   "source": [
    "# Data Bunch"
   ]
  },
  {
   "cell_type": "code",
   "execution_count": 1,
   "metadata": {},
   "outputs": [],
   "source": [
    "%load_ext autoreload\n",
    "%autoreload 2\n",
    "\n",
    "%matplotlib inline"
   ]
  },
  {
   "cell_type": "code",
   "execution_count": 2,
   "metadata": {},
   "outputs": [],
   "source": [
    "#export\n",
    "import sys\n",
    "sys.path.insert(0, '/'.join(sys.path[0].split('/')[:-1] + ['scripts']))\n",
    "\n",
    "import math\n",
    "from data_block import *"
   ]
  },
  {
   "cell_type": "code",
   "execution_count": 3,
   "metadata": {},
   "outputs": [],
   "source": [
    "#export\n",
    "class Dataset():\n",
    "    def __init__(self, x_data, y_data):\n",
    "        '''Dataset class to store data and labels.\n",
    "            x_data: input data\n",
    "            y_data: output labels\n",
    "        '''\n",
    "        self.x_data = x_data\n",
    "        self.y_data = y_data\n",
    "    \n",
    "    def __repr__(self, t=''):\n",
    "        return f'{t}(Dataset) x: {tuple(self.x_data.shape)}, y: {tuple(self.y_data.shape)}'\n",
    "    \n",
    "    def __len__(self): return len(self.x_data)\n",
    "    \n",
    "    def __getitem__(self, i): return self.x_data[i], self.y_data[i]"
   ]
  },
  {
   "cell_type": "code",
   "execution_count": 4,
   "metadata": {},
   "outputs": [],
   "source": [
    "#export\n",
    "class Sampler():\n",
    "    def __init__(self, size, batch_size, shuffle):\n",
    "        '''Simple indices generator with option to randomly sample input data.\n",
    "            size: total size of data\n",
    "            batch_size: number of items per iteration\n",
    "            shuffle: boolean of whether to shuffle the data\n",
    "        '''\n",
    "        self.size = size\n",
    "        self.batch_size = batch_size\n",
    "        self.shuffle = shuffle\n",
    "    \n",
    "    def __iter__(self):\n",
    "        self.idxs = torch.randperm(self.size) if self.shuffle else torch.arange(self.size)\n",
    "        for i in range(0, self.size, self.batch_size):\n",
    "            yield self.idxs[i: i+self.batch_size]\n",
    "    \n",
    "    def __repr__(self, t=''):\n",
    "        return f'{t}(Sampler) total: {self.size}, batch_size: {self.batch_size}, shuffle: {self.shuffle}'\n",
    "        \n",
    "    def __len__(self): return self.batch_size\n",
    "            \n",
    "def collate(batch):\n",
    "    '''Util function to stack batches of x and y data.\n",
    "        batch: container of input data\n",
    "    '''\n",
    "    x_batch, y_batch = zip(*batch)\n",
    "    return torch.stack(x_batch), torch.stack(y_batch)"
   ]
  },
  {
   "cell_type": "code",
   "execution_count": 5,
   "metadata": {},
   "outputs": [],
   "source": [
    "#export\n",
    "class DataLoader():\n",
    "    def __init__(self, dataset, sampler, collate_fn=collate):\n",
    "        '''Data loader class with data/label data and sampler to batch generation.\n",
    "            dataset: Dataset class with x and y data\n",
    "            sampler: Sampler class\n",
    "            collate_fn: collate function for sampled batches\n",
    "        '''\n",
    "        self.dataset = dataset\n",
    "        self.sampler = sampler\n",
    "        self.collate_fn = collate_fn\n",
    "        \n",
    "    def __iter__(self):\n",
    "        for idxs in self.sampler:\n",
    "            yield self.collate_fn([self.dataset[i] for i in idxs])\n",
    "    \n",
    "    def __repr__(self, t=''):\n",
    "        tt = t + '    '\n",
    "        return f'{t}(DataLoader) \\n{self.dataset.__repr__(tt)}\\n{self.sampler.__repr__(tt)}'\n",
    "        \n",
    "    def __len__(self):\n",
    "        return math.ceil(len(self.dataset) / len(self.sampler))\n",
    "\n",
    "class DataBunch():\n",
    "    def __init__(self, train_dl, valid_dl):\n",
    "        '''Data bunch class with both training and validation data loaders.\n",
    "            train_dl: data loader for training data\n",
    "            valid_dl: data loader for validation data\n",
    "        '''\n",
    "        self.train_dl = train_dl\n",
    "        self.valid_dl = valid_dl\n",
    "    \n",
    "    @property\n",
    "    def train_ds(self): return self.train_dl.dataset\n",
    "    \n",
    "    @property\n",
    "    def valid_ds(self): return self.valid_dl.dataset\n",
    "    \n",
    "    def __repr__(self, t=''):\n",
    "        tt = t + '    '\n",
    "        return f'{t}(DataBunch) \\n{self.train_dl.__repr__(tt)}\\n{self.valid_dl.__repr__(tt)}'\n",
    "        \n",
    "    def __len__(self): return len(self.train_dl)"
   ]
  },
  {
   "cell_type": "code",
   "execution_count": 6,
   "metadata": {},
   "outputs": [],
   "source": [
    "#export\n",
    "def get_data_bunch(xt, yt, xv, yv, batch_size):\n",
    "    '''Util function for converting existing data to data bunch class for training.\n",
    "        xt: x (input) training data\n",
    "        yt: y (label) training data\n",
    "        xv: x (input) validation data\n",
    "        yv: y (label) validation data\n",
    "        batch_size: number of items per iteration\n",
    "    '''\n",
    "    train_ds = Dataset(xt, yt)\n",
    "    valid_ds = Dataset(xv, yv)\n",
    "    train_dl = DataLoader(train_ds, Sampler(len(train_ds), batch_size, True))\n",
    "    valid_dl = DataLoader(valid_ds, Sampler(len(valid_ds), batch_size*2, False)) # twice batch size (no backprop)\n",
    "    return DataBunch(train_dl, valid_dl)"
   ]
  },
  {
   "cell_type": "markdown",
   "metadata": {},
   "source": [
    "# Tests"
   ]
  },
  {
   "cell_type": "code",
   "execution_count": 7,
   "metadata": {},
   "outputs": [
    {
     "name": "stdout",
     "output_type": "stream",
     "text": [
      "(Dataset) x: (50000, 784), y: (50000,)\n",
      "(Dataset) x: (10000, 784), y: (10000,)\n"
     ]
    }
   ],
   "source": [
    "x_train, y_train, x_valid, y_valid = get_mnist_data()\n",
    "train_ds = Dataset(x_train, y_train)\n",
    "valid_ds = Dataset(x_valid, y_valid)\n",
    "print(train_ds)\n",
    "print(valid_ds)"
   ]
  },
  {
   "cell_type": "code",
   "execution_count": 8,
   "metadata": {},
   "outputs": [
    {
     "name": "stdout",
     "output_type": "stream",
     "text": [
      "(Sampler) total: 50000, batch_size: 64, shuffle: True\n",
      "(Sampler) total: 10000, batch_size: 128, shuffle: False\n"
     ]
    }
   ],
   "source": [
    "train_sampler = Sampler(len(train_ds), 64, True)\n",
    "valid_sampler = Sampler(len(valid_ds), 64*2, False)\n",
    "print(train_sampler)\n",
    "print(valid_sampler)"
   ]
  },
  {
   "cell_type": "code",
   "execution_count": 9,
   "metadata": {},
   "outputs": [
    {
     "name": "stdout",
     "output_type": "stream",
     "text": [
      "(DataLoader) \n",
      "    (Dataset) x: (50000, 784), y: (50000,)\n",
      "    (Sampler) total: 50000, batch_size: 64, shuffle: True\n",
      "(DataLoader) \n",
      "    (Dataset) x: (10000, 784), y: (10000,)\n",
      "    (Sampler) total: 10000, batch_size: 128, shuffle: False\n"
     ]
    }
   ],
   "source": [
    "train_dl = DataLoader(train_ds, train_sampler)\n",
    "valid_dl = DataLoader(valid_ds, valid_sampler)\n",
    "print(train_dl)\n",
    "print(valid_dl)"
   ]
  },
  {
   "cell_type": "code",
   "execution_count": 10,
   "metadata": {},
   "outputs": [
    {
     "name": "stdout",
     "output_type": "stream",
     "text": [
      "(DataBunch) \n",
      "    (DataLoader) \n",
      "        (Dataset) x: (50000, 784), y: (50000,)\n",
      "        (Sampler) total: 50000, batch_size: 64, shuffle: True\n",
      "    (DataLoader) \n",
      "        (Dataset) x: (10000, 784), y: (10000,)\n",
      "        (Sampler) total: 10000, batch_size: 128, shuffle: False\n"
     ]
    }
   ],
   "source": [
    "data_bunch = DataBunch(train_dl, valid_dl)\n",
    "print(data_bunch)"
   ]
  },
  {
   "cell_type": "code",
   "execution_count": 11,
   "metadata": {},
   "outputs": [
    {
     "data": {
      "text/plain": [
       "(DataBunch) \n",
       "    (DataLoader) \n",
       "        (Dataset) x: (50000, 784), y: (50000,)\n",
       "        (Sampler) total: 50000, batch_size: 64, shuffle: True\n",
       "    (DataLoader) \n",
       "        (Dataset) x: (10000, 784), y: (10000,)\n",
       "        (Sampler) total: 10000, batch_size: 128, shuffle: False"
      ]
     },
     "execution_count": 11,
     "metadata": {},
     "output_type": "execute_result"
    }
   ],
   "source": [
    "data_bunch = get_data_bunch(*get_mnist_data(), batch_size=64)\n",
    "data_bunch"
   ]
  },
  {
   "cell_type": "code",
   "execution_count": 12,
   "metadata": {},
   "outputs": [
    {
     "data": {
      "image/png": "[encoded data removed]",
      "text/plain": [
       "<Figure size 432x288 with 1 Axes>"
      ]
     },
     "metadata": {
      "needs_background": "light"
     },
     "output_type": "display_data"
    }
   ],
   "source": [
    "# rerun for random sampled image\n",
    "x_batch, _ = next(iter(data_bunch.train_dl))\n",
    "show_random_image(x_batch)"
   ]
  }
 ],
 "metadata": {
  "kernelspec": {
   "display_name": "Python 3",
   "language": "python",
   "name": "python3"
  },
  "language_info": {
   "codemirror_mode": {
    "name": "ipython",
    "version": 3
   },
   "file_extension": ".py",
   "mimetype": "text/x-python",
   "name": "python",
   "nbconvert_exporter": "python",
   "pygments_lexer": "ipython3",
   "version": "3.7.6"
  }
 },
 "nbformat": 4,
 "nbformat_minor": 4
}

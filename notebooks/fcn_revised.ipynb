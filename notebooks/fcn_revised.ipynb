{
 "cells": [
  {
   "cell_type": "code",
   "execution_count": 1,
   "metadata": {},
   "outputs": [],
   "source": [
    "#export\n",
    "import sys\n",
    "from os.path import join\n",
    "import math\n",
    "\n",
    "sys.path.insert(0, '/'.join(sys.path[0].split('/')[:-1] + ['scripts']))\n",
    "from operations import *"
   ]
  },
  {
   "cell_type": "code",
   "execution_count": 2,
   "metadata": {},
   "outputs": [],
   "source": [
    "#export\n",
    "def init_weight_he(in_dim, num_hidden):\n",
    "    return torch.randn(in_dim, num_hidden) * (2./in_dim) ** 0.5\n",
    "\n",
    "def init_weight_norm(in_dim, num_hidden):\n",
    "    return torch.randn(in_dim, num_hidden) * (2./in_dim) ** 0.5\n",
    "\n",
    "def init_weight(in_dim, num_hidden, end=False):\n",
    "    if end:\n",
    "        return init_weight_norm(in_dim, num_hidden)\n",
    "    else:\n",
    "        return init_weight_he(in_dim, num_hidden)\n",
    "\n",
    "def init_bias_zero(num_hidden):\n",
    "    return torch.zeros(num_hidden)\n",
    "\n",
    "def init_bias_uni(num_hidden):\n",
    "    return torch.zeros()\n",
    "\n",
    "def init_bias(num_hidden, zero=True):\n",
    "    if zero:\n",
    "        return init_bias_zero(num_hidden)\n",
    "    else:\n",
    "        return init_bias_uni(num_hidden)"
   ]
  },
  {
   "cell_type": "code",
   "execution_count": 3,
   "metadata": {},
   "outputs": [],
   "source": [
    "#export\n",
    "class Parameter():\n",
    "    # own data struct instead of acyclic directed graph\n",
    "    def __init__(self, data=torch.Tensor(), requires_grad=True):\n",
    "        self.data = data\n",
    "        self.requires_grad = requires_grad \n",
    "        self.grad = 0\n",
    "        \n",
    "    def __get__(self, instance, owner):\n",
    "        return self.data\n",
    "    \n",
    "    def step(self, lr):\n",
    "        self.data -= lr * self.grad\n",
    "    \n",
    "    def zero_data(self):\n",
    "        self.data = torch.zero_()\n",
    "        \n",
    "    def zero_grad(self):\n",
    "        self.grad = 0\n",
    "    \n",
    "    def update(self, new_grad):\n",
    "        self.grad = new_grad     "
   ]
  },
  {
   "cell_type": "code",
   "execution_count": 4,
   "metadata": {},
   "outputs": [],
   "source": [
    "#export\n",
    "class Sequential():\n",
    "    def __init__(self, *args):\n",
    "        self.layers = list(args)\n",
    "        self.train = True\n",
    "    \n",
    "    def __call__(self, x):\n",
    "        for layer in layers:\n",
    "            x = layer(x)\n",
    "        return x\n",
    "    \n",
    "    def backward(self):\n",
    "        for layer in reversed(self.layers):\n",
    "            layer.backward()\n",
    "        \n",
    "    def parameters(self):\n",
    "        for layer in self.layers:\n",
    "            for parameter in layer.parameters():\n",
    "                yield parameter"
   ]
  },
  {
   "cell_type": "code",
   "execution_count": 5,
   "metadata": {},
   "outputs": [],
   "source": [
    "#export\n",
    "class Module():\n",
    "    def __init__(self, name=None):\n",
    "        self._parameters = {}\n",
    "        self.name = name if name else 'unnamed_module'\n",
    "        \n",
    "    def __setattr__(self, k, v):\n",
    "        if isinstance(v, Parameter): \n",
    "            self._parameters[k] = v\n",
    "        super().__setattr__(k, v)\n",
    "        \n",
    "    def __call__(self, *args):\n",
    "        self.args = args\n",
    "        self.out = self.fwd(*args)\n",
    "        return self.out\n",
    "    \n",
    "    def parameters(self):\n",
    "        for p in self._parameters.values():\n",
    "            yield p\n",
    "    \n",
    "    def forward(self):\n",
    "        raise NotImplementedError('Module.forward')\n",
    "    \n",
    "    def backward(self):\n",
    "        self.bwd(self.out, *self.args)"
   ]
  },
  {
   "cell_type": "code",
   "execution_count": 6,
   "metadata": {},
   "outputs": [],
   "source": [
    "#export\n",
    "class Linear(Module):\n",
    "    def __init__(self, in_dim, num_hidden, end=False, require_grad=True):\n",
    "        super().__init__()\n",
    "        self.w = Parameter(init_weight(in_dim, num_hidden, end), require_grad)\n",
    "        self.b = Parameter(init_bias(num_hidden))\n",
    "    \n",
    "    def fwd(self, inp):\n",
    "        return inp @ self.w.data + self.b\n",
    "    \n",
    "    def bwd(self, out, inp):\n",
    "        inp.g = out.g @ self.w.data.t()\n",
    "        self.w.update(inp.t() @ out.g)\n",
    "        self.b.update(out.g.sum(0))\n",
    "\n",
    "class ReLU(Module):\n",
    "    def fwd(self, inp):\n",
    "        return inp.clamp_min(0.) - 0.5\n",
    "    \n",
    "    def bwd(self, out, inp):\n",
    "        inp.g = (inp > 0).float() * out.g"
   ]
  },
  {
   "cell_type": "code",
   "execution_count": 7,
   "metadata": {},
   "outputs": [],
   "source": [
    "x_train, y_train, x_valid, y_valid = get_mnist_data()\n",
    "x_train, x_valid = normalize_data(x_train, x_valid)\n",
    "\n",
    "nh = 50\n",
    "(num_data, in_dim), out_dim = x_train.shape, y_train.max() + 1"
   ]
  },
  {
   "cell_type": "code",
   "execution_count": 8,
   "metadata": {},
   "outputs": [],
   "source": [
    "model = Sequential(Linear(in_dim, nh), ReLU(), Linear(nh, out_dim, True))"
   ]
  },
  {
   "cell_type": "code",
   "execution_count": null,
   "metadata": {},
   "outputs": [],
   "source": []
  }
 ],
 "metadata": {
  "kernelspec": {
   "display_name": "Python 3",
   "language": "python",
   "name": "python3"
  },
  "language_info": {
   "codemirror_mode": {
    "name": "ipython",
    "version": 3
   },
   "file_extension": ".py",
   "mimetype": "text/x-python",
   "name": "python",
   "nbconvert_exporter": "python",
   "pygments_lexer": "ipython3",
   "version": "3.7.6"
  }
 },
 "nbformat": 4,
 "nbformat_minor": 4
}

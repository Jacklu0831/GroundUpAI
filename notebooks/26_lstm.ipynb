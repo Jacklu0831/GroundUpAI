{
 "cells": [
  {
   "cell_type": "markdown",
   "metadata": {},
   "source": [
    "# LSTM\n",
    "source: https://arxiv.org/abs/1909.09586"
   ]
  },
  {
   "cell_type": "code",
   "execution_count": 1,
   "metadata": {},
   "outputs": [],
   "source": [
    "%load_ext autoreload\n",
    "%autoreload 2\n",
    "\n",
    "%matplotlib inline"
   ]
  },
  {
   "cell_type": "code",
   "execution_count": 2,
   "metadata": {},
   "outputs": [],
   "source": [
    "#export\n",
    "import sys\n",
    "\n",
    "sys.path.insert(0, '/'.join(sys.path[0].split('/')[:-1] + ['scripts']))\n",
    "from resnet import *"
   ]
  },
  {
   "cell_type": "code",
   "execution_count": 3,
   "metadata": {},
   "outputs": [],
   "source": [
    "#export\n",
    "class LSTMCell(nn.Module):\n",
    "    def __init__(self, i, h):\n",
    "        '''LSTM cell (naive implementation).\n",
    "            i: input data dimension\n",
    "            h: number of hidden units in the lstm cell\n",
    "        '''\n",
    "        super().__init__()\n",
    "        self.i, self.h = i, h\n",
    "        self.Ui = nn.Parameter(init_2d_weight((i, h)))\n",
    "        self.Uf = nn.Parameter(init_2d_weight((i, h)))\n",
    "        self.Uo = nn.Parameter(init_2d_weight((i, h)))\n",
    "        self.Ug = nn.Parameter(init_2d_weight((i, h)))\n",
    "        self.Wi = nn.Parameter(init_2d_weight((h, h)))\n",
    "        self.Wf = nn.Parameter(init_2d_weight((h, h)))\n",
    "        self.Wo = nn.Parameter(init_2d_weight((h, h)))\n",
    "        self.Wg = nn.Parameter(init_2d_weight((h, h)))\n",
    "\n",
    "    def forward(self, x, state):\n",
    "        h, c = state\n",
    "        \n",
    "        i   = (x @ self.Ui + h @ self.Wi).sigmoid()\n",
    "        f   = (x @ self.Uf + h @ self.Wf).sigmoid()\n",
    "        o   = (x @ self.Uo + h @ self.Wo).sigmoid()\n",
    "        c_t = (x @ self.Ug + h @ self.Wg).tanh()\n",
    "        \n",
    "        c = (f*c + i*c_t).sigmoid()\n",
    "        h = c.tanh() * o\n",
    "        return h, (h, c)\n",
    "    \n",
    "    def __repr__(self):\n",
    "        return f'LSTM({self.i}, {self.h})'"
   ]
  },
  {
   "cell_type": "code",
   "execution_count": 4,
   "metadata": {},
   "outputs": [],
   "source": [
    "#export\n",
    "class LSTMLayer(nn.Module):\n",
    "    def __init__(self, i, h):\n",
    "        '''Wrapper for passing different input timestamps into LSTM cell\n",
    "            i: input data dimension\n",
    "            h: number of hidden units in the lstm cell\n",
    "        '''\n",
    "        super().__init__()\n",
    "        self.cell = LSTMCell(i, h)\n",
    "\n",
    "    def forward(self, inps, state):\n",
    "        outputs = []\n",
    "        for inp in inps.unbind(1):\n",
    "            out, state = self.cell(inp, state)\n",
    "            outputs.append(out)\n",
    "        return torch.stack(outputs, 1), state\n",
    "    \n",
    "    def __repr__(self): return f'{self.cell}'"
   ]
  },
  {
   "cell_type": "code",
   "execution_count": 5,
   "metadata": {},
   "outputs": [],
   "source": [
    "#export\n",
    "class FastLSTMCell(nn.Module):\n",
    "    def __init__(self, i, h):\n",
    "        '''LSTM cell (fast implementation using linear layers).\n",
    "            i: input data dimension\n",
    "            h: number of hidden units in the lstm cell\n",
    "        '''\n",
    "        super().__init__()\n",
    "        self.i, self.h = i, h\n",
    "        # also adds a small bias\n",
    "        self.x_gates = nn.Linear(i, 4*h)\n",
    "        self.h_gates = nn.Linear(i, 4*h)\n",
    "    \n",
    "    def forward(self, x, state):\n",
    "        h, c = state\n",
    "        gates = (self.x_gates(x) + self.h_gates(h)).chunk(4, 1)\n",
    "        \n",
    "        i   = gates[0].sigmoid()\n",
    "        f   = gates[1].sigmoid()\n",
    "        o   = gates[2].sigmoid()\n",
    "        c_t = gates[3].tanh()\n",
    "        \n",
    "        c = f*c + i*c_t\n",
    "        h = o * c.tanh()\n",
    "        return h, (h, c)\n",
    "\n",
    "    def __repr__(self): return f'LSTM({self.i}, {self.h})'"
   ]
  },
  {
   "cell_type": "code",
   "execution_count": 6,
   "metadata": {},
   "outputs": [],
   "source": [
    "#export\n",
    "class FastLSTMLayer(nn.Module):\n",
    "    def __init__(self, i, h):\n",
    "        '''Wrapper for passing different input timestamps into FastLSTM cell\n",
    "            i: input data dimension\n",
    "            h: number of hidden units in the lstm cell\n",
    "        '''        \n",
    "        super().__init__()\n",
    "        self.cell = FastLSTMCell(i, h)\n",
    "\n",
    "    def forward(self, inps, state):\n",
    "        outputs = []\n",
    "        for inp in inps.unbind(1):\n",
    "            out, state = self.cell(inp, state)\n",
    "            outputs.append(out)\n",
    "        return torch.stack(outputs, 1), state\n",
    "    \n",
    "    def __repr__(self): return f'{self.cell}'"
   ]
  },
  {
   "cell_type": "markdown",
   "metadata": {},
   "source": [
    "# Tests"
   ]
  },
  {
   "cell_type": "code",
   "execution_count": 7,
   "metadata": {},
   "outputs": [],
   "source": [
    "fastlstm = FastLSTMLayer(1024, 1024)\n",
    "lstm = LSTMLayer(1024, 1024)"
   ]
  },
  {
   "cell_type": "code",
   "execution_count": 8,
   "metadata": {
    "scrolled": true
   },
   "outputs": [
    {
     "name": "stdout",
     "output_type": "stream",
     "text": [
      "FastLSTM shapes:\n",
      "torch.Size([128, 100, 1024])\n",
      "torch.Size([128, 1024])\n",
      "torch.Size([128, 1024])\n",
      "\n",
      "LSTM shapes:\n",
      "torch.Size([128, 100, 1024])\n",
      "torch.Size([128, 1024])\n",
      "torch.Size([128, 1024])\n"
     ]
    }
   ],
   "source": [
    "x = torch.randn(128, 100, 1024)\n",
    "h = torch.zeros(128, 1024)\n",
    "c = torch.zeros(128, 1024)\n",
    "\n",
    "y, (h_out, c_out) = fastlstm(x, (h, c))\n",
    "print('FastLSTM shapes:')\n",
    "print(y.shape)\n",
    "print(h_out.shape)\n",
    "print(c_out.shape)\n",
    "y, (h_out, c_out) = lstm(x, (h, c))\n",
    "print('\\nLSTM shapes:')\n",
    "print(y.shape)\n",
    "print(h_out.shape)\n",
    "print(c_out.shape)"
   ]
  },
  {
   "cell_type": "code",
   "execution_count": 9,
   "metadata": {},
   "outputs": [
    {
     "name": "stdout",
     "output_type": "stream",
     "text": [
      "CPU times: user 6.09 s, sys: 91.1 ms, total: 6.18 s\n",
      "Wall time: 1.04 s\n",
      "CPU times: user 6.36 s, sys: 154 ms, total: 6.51 s\n",
      "Wall time: 1.09 s\n"
     ]
    }
   ],
   "source": [
    "%time _ = fastlstm(x, (h, c))\n",
    "%time _ = lstm(x, (h, c))"
   ]
  },
  {
   "cell_type": "code",
   "execution_count": 10,
   "metadata": {},
   "outputs": [
    {
     "name": "stdout",
     "output_type": "stream",
     "text": [
      "LSTM(1024, 1024)\n",
      "LSTM(1024, 1024)\n"
     ]
    }
   ],
   "source": [
    "print(lstm)\n",
    "print(fastlstm)"
   ]
  }
 ],
 "metadata": {
  "kernelspec": {
   "display_name": "Python 3",
   "language": "python",
   "name": "python3"
  },
  "language_info": {
   "codemirror_mode": {
    "name": "ipython",
    "version": 3
   },
   "file_extension": ".py",
   "mimetype": "text/x-python",
   "name": "python",
   "nbconvert_exporter": "python",
   "pygments_lexer": "ipython3",
   "version": "3.7.6"
  }
 },
 "nbformat": 4,
 "nbformat_minor": 4
}

{
 "cells": [
  {
   "cell_type": "markdown",
   "metadata": {},
   "source": [
    "# Utils"
   ]
  },
  {
   "cell_type": "code",
   "execution_count": 1,
   "metadata": {},
   "outputs": [],
   "source": [
    "%load_ext autoreload\n",
    "%autoreload 2\n",
    "\n",
    "%matplotlib inline"
   ]
  },
  {
   "cell_type": "code",
   "execution_count": 2,
   "metadata": {},
   "outputs": [],
   "source": [
    "#export\n",
    "from fastai import datasets\n",
    "import torch\n",
    "import gzip\n",
    "import pickle\n",
    "import matplotlib as mpl\n",
    "import matplotlib.pyplot as plt\n",
    "from torch import tensor\n",
    "import random\n",
    "import operator\n",
    "import os\n",
    "\n",
    "os.environ['KMP_DUPLICATE_LIB_OK']='True'"
   ]
  },
  {
   "cell_type": "code",
   "execution_count": 3,
   "metadata": {},
   "outputs": [],
   "source": [
    "#export\n",
    "def process_mnist(xt, yt, xv, yv):\n",
    "    '''Process mnist data with normalization.\n",
    "        xt: x (input) training data\n",
    "        yt: y (label) training data\n",
    "        xv: x (input) validation data\n",
    "        yv: y (label) validation data\n",
    "    '''\n",
    "    xt, yt, xv, yv = map(tensor, (xt, yt, xv, yv))\n",
    "    xt, xv = xt.float(), xv.float()\n",
    "    mean, std = xt.mean(), xt.std()\n",
    "    xt, xv = normalize(xt, mean, std), normalize(xv, mean, std)\n",
    "    return xt, yt, xv, yv"
   ]
  },
  {
   "cell_type": "code",
   "execution_count": 4,
   "metadata": {},
   "outputs": [],
   "source": [
    "#export\n",
    "mpl.rcParams['image.cmap'] = 'gray'\n",
    "\n",
    "name2url = {'mnist': 'http://deeplearning.net/data/mnist/mnist.pkl'}\n",
    "name2fn = {'mnist': process_mnist}\n",
    "\n",
    "def get_mnist_data():\n",
    "    '''Get mnist dataset.'''\n",
    "    return get_data('mnist')\n",
    "    \n",
    "def get_data(name):\n",
    "    '''Get dataset by name.\n",
    "        name: dataset name\n",
    "    '''\n",
    "    if name not in name2url or name not in name2fn:\n",
    "        raise Exception('Unrecognized dataset')\n",
    "        \n",
    "    path = datasets.download_data(name2url[name], ext='.gz')\n",
    "    with gzip.open(path, 'rb') as f:\n",
    "        ((xt, yt), (xv, yv), _) = pickle.load(f, encoding='latin-1')\n",
    "    \n",
    "    return name2fn[name](xt, yt, xv, yv)\n",
    "\n",
    "def show_random_image(imgs):\n",
    "    '''Show random image from a batch of images with matplotlib.\n",
    "        imgs: container of images to randomly choose from\n",
    "    '''\n",
    "    img = random.choice(imgs)\n",
    "    if len(img.shape) == 1:\n",
    "        size = int(img.shape[0] ** 0.5)\n",
    "        shape = (size, size)\n",
    "    else:\n",
    "        shape = img.shape\n",
    "    plt.imshow(img.view(shape))"
   ]
  },
  {
   "cell_type": "code",
   "execution_count": 5,
   "metadata": {},
   "outputs": [],
   "source": [
    "#export\n",
    "def plot_by_epoch(data, label):\n",
    "    '''Plot data vs. epoch and name data with given label.\n",
    "        data: range data to be plotted on the y-axis\n",
    "        label: name of the data on the y-axis\n",
    "    '''\n",
    "    plt.plot(list(range(1,len(data)+1)), data)\n",
    "    plt.xlabel('epoch')\n",
    "    plt.ylabel(label)\n",
    "    plt.xticks(list(range(1,len(data)+1)))\n",
    "    plt.show()"
   ]
  },
  {
   "cell_type": "code",
   "execution_count": 6,
   "metadata": {},
   "outputs": [],
   "source": [
    "#export\n",
    "def test(a, b, cmp, cname=None):\n",
    "    '''General two value test with selectable comparison function.\n",
    "        a: first value in comparison\n",
    "        b: second value in comparison \n",
    "        cmp: comparison function\n",
    "        cname: custom comparison function name\n",
    "    '''\n",
    "    assert cmp(a, b), f\"{cname or cmp.__name__}: \\n{a}\\n{b}\"\n",
    "\n",
    "def near(a, b): \n",
    "    '''Function to assert tensor similarity (very useful for accounting floating point errors.\n",
    "        a: first value in comparison\n",
    "        b: second value in comparison\n",
    "    '''\n",
    "    return torch.allclose(a, b, rtol=1e-3, atol=1e-5)\n",
    "    \n",
    "def test_near(a, b): \n",
    "    '''Test whether two tensors are near each other to account for floating point errors.\n",
    "        a: first value in comparison\n",
    "        b: second value in comparison \n",
    "    '''\n",
    "    test(a, b, near)\n",
    "\n",
    "def test_near_zero(a, tol=1e-3):\n",
    "    '''Test whether tensor is near zero tensor size.\n",
    "        a: value to be compared to zero tensor\n",
    "        tol: tolerance deviation from zero tensor\n",
    "    '''\n",
    "    assert a.abs() < tol, f\"Near zero: {a}\"\n",
    "    \n",
    "def test_eq(a, b):\n",
    "    '''Test whether two tensors are exactly equal.\n",
    "        a: first value in comparison\n",
    "        b: second value in comparison \n",
    "    '''\n",
    "    return test(a, b, operator.eq)"
   ]
  },
  {
   "cell_type": "code",
   "execution_count": 7,
   "metadata": {},
   "outputs": [],
   "source": [
    "#export\n",
    "def matmul_naive(a, b):\n",
    "    '''Brute force matmul with 3 levels of for loop.\n",
    "        a: left tensor\n",
    "        b: right tensor\n",
    "    '''\n",
    "    ar,ac = a.shape\n",
    "    br,bc = b.shape\n",
    "    assert ac==br\n",
    "    c = torch.zeros(ar, bc)\n",
    "    for i in range(ar):\n",
    "        for j in range(bc):\n",
    "            for k in range(ac):\n",
    "                c[i,j] += a[i,k] * b[k,j]\n",
    "    return c\n",
    "\n",
    "def matmul_element(a, b):\n",
    "    '''Sped up matmul_naive by dot producting 1d vectors.\n",
    "        a: left tensor\n",
    "        b: right tensor\n",
    "    '''\n",
    "    ar,ac = a.shape\n",
    "    br,bc = b.shape\n",
    "    assert ac==br\n",
    "    c = torch.zeros(ar, bc)\n",
    "    for i in range(ar):\n",
    "        for j in range(bc):\n",
    "            c[i,j] = (a[i,:] * b[:,j]).sum()\n",
    "    return c\n",
    "\n",
    "def matmul_broadcast(a, b):\n",
    "    '''Sped up matmul_element by leveraging pytorch tensor broadcasting.\n",
    "        a: left tensor\n",
    "        b: right tensor\n",
    "    '''\n",
    "    ar,ac = a.shape\n",
    "    br,bc = b.shape\n",
    "    assert ac==br\n",
    "    c = torch.zeros(ar, bc)\n",
    "    for i in range(ar):\n",
    "        c[i] = (a[i].unsqueeze(-1) * b).sum(dim=0)\n",
    "    return c\n",
    "\n",
    "def matmul_einsum(a, b): \n",
    "    '''Sped up matmul_broadcast by using pytorch built-in function (einstein sum notation).\n",
    "        a: left tensor\n",
    "        b: right tensor\n",
    "    '''\n",
    "    return torch.einsum('ik,kj->ij', a, b)\n",
    "\n",
    "def matmul_torch(a, b):\n",
    "    '''Sped up matmul_broadcast by using pytorch built-in function (the @ operator).\n",
    "        a: left tensor\n",
    "        b: right tensor\n",
    "    '''\n",
    "    return a@b"
   ]
  },
  {
   "cell_type": "code",
   "execution_count": 8,
   "metadata": {},
   "outputs": [],
   "source": [
    "#export\n",
    "def normalize(x, m=None, s=None):\n",
    "    '''Normalize data.\n",
    "        x: input data\n",
    "        m: mean (default to x.mean())\n",
    "        s: std (default to x.std())\n",
    "    '''\n",
    "    return (x - (m if m else x.mean())) / (s if s else x.std())"
   ]
  },
  {
   "cell_type": "markdown",
   "metadata": {},
   "source": [
    "# Tests"
   ]
  },
  {
   "cell_type": "code",
   "execution_count": 9,
   "metadata": {},
   "outputs": [
    {
     "data": {
      "text/plain": [
       "(torch.Tensor, torch.Tensor, torch.Tensor, torch.Tensor)"
      ]
     },
     "execution_count": 9,
     "metadata": {},
     "output_type": "execute_result"
    }
   ],
   "source": [
    "x_train, y_train, x_valid, y_valid = get_mnist_data()\n",
    "type(x_train), type(y_train), type(x_valid), type(y_valid)"
   ]
  },
  {
   "cell_type": "code",
   "execution_count": 10,
   "metadata": {},
   "outputs": [
    {
     "name": "stdout",
     "output_type": "stream",
     "text": [
      "CPU times: user 1.05 s, sys: 4.93 ms, total: 1.05 s\n",
      "Wall time: 1.06 s\n",
      "CPU times: user 1.6 ms, sys: 127 µs, total: 1.73 ms\n",
      "Wall time: 1.67 ms\n",
      "CPU times: user 490 µs, sys: 91 µs, total: 581 µs\n",
      "Wall time: 550 µs\n",
      "CPU times: user 1.09 ms, sys: 397 µs, total: 1.49 ms\n",
      "Wall time: 1.32 ms\n",
      "CPU times: user 224 µs, sys: 97 µs, total: 321 µs\n",
      "Wall time: 268 µs\n"
     ]
    }
   ],
   "source": [
    "m1, m2 = x_valid[:5], torch.randn(784, 10)\n",
    "%time _ = matmul_naive(m1, m2)\n",
    "%time _ = matmul_element(m1, m2)\n",
    "%time _ = matmul_broadcast(m1, m2)\n",
    "%time _ = matmul_einsum(m1, m2)\n",
    "%time _ = matmul_torch(m1, m2) # literal sonic, thanks torch"
   ]
  },
  {
   "cell_type": "code",
   "execution_count": 11,
   "metadata": {
    "scrolled": true
   },
   "outputs": [
    {
     "data": {
      "image/png": "[encoded data removed]",
      "text/plain": [
       "<Figure size 432x288 with 1 Axes>"
      ]
     },
     "metadata": {
      "needs_background": "light"
     },
     "output_type": "display_data"
    }
   ],
   "source": [
    "show_random_image(x_train) # rerun to reselect images"
   ]
  },
  {
   "cell_type": "code",
   "execution_count": 12,
   "metadata": {},
   "outputs": [],
   "source": [
    "test_near_zero(x_train.mean())\n",
    "test_near_zero(1 - x_train.std())"
   ]
  },
  {
   "cell_type": "code",
   "execution_count": 13,
   "metadata": {},
   "outputs": [
    {
     "data": {
      "image/png": "[encoded data removed]",
      "text/plain": [
       "<Figure size 432x288 with 1 Axes>"
      ]
     },
     "metadata": {
      "needs_background": "light"
     },
     "output_type": "display_data"
    }
   ],
   "source": [
    "x = [1,2,5,8,5,2,0,6,2,7,4,7,6,4,1,9]\n",
    "plot_by_epoch(x, 'values')"
   ]
  },
  {
   "cell_type": "code",
   "execution_count": null,
   "metadata": {},
   "outputs": [],
   "source": []
  }
 ],
 "metadata": {
  "kernelspec": {
   "display_name": "Python 3",
   "language": "python",
   "name": "python3"
  },
  "language_info": {
   "codemirror_mode": {
    "name": "ipython",
    "version": 3
   },
   "file_extension": ".py",
   "mimetype": "text/x-python",
   "name": "python",
   "nbconvert_exporter": "python",
   "pygments_lexer": "ipython3",
   "version": "3.7.6"
  }
 },
 "nbformat": 4,
 "nbformat_minor": 4
}

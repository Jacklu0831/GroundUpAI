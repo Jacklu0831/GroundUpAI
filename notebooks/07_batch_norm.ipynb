{
 "cells": [
  {
   "cell_type": "code",
   "execution_count": 1,
   "metadata": {},
   "outputs": [],
   "source": [
    "%load_ext autoreload\n",
    "%autoreload 2\n",
    "\n",
    "%matplotlib inline"
   ]
  },
  {
   "cell_type": "code",
   "execution_count": 2,
   "metadata": {},
   "outputs": [],
   "source": [
    "#export\n",
    "import sys\n",
    "from os.path import join\n",
    "\n",
    "sys.path.insert(0, '/'.join(sys.path[0].split('/')[:-1] + ['scripts']))\n",
    "from pooling import *"
   ]
  },
  {
   "cell_type": "code",
   "execution_count": 3,
   "metadata": {},
   "outputs": [],
   "source": [
    "#export\n",
    "def weighted_sum(t1, t2, ratio):\n",
    "    assert(0 <= ratio <= 1)\n",
    "    return t1 * ratio + t2 * (1 - ratio) "
   ]
  },
  {
   "cell_type": "markdown",
   "metadata": {},
   "source": [
    "\\begin{equation}\\label{eq:bnorm}\n",
    "    \\hat{x}_{i} =  \\frac{x_{i} - \\mu_{\\beta}}{\\sqrt{\\sigma_{\\beta}^2 + \\epsilon}}\n",
    "    \\\\\n",
    "    y_{i} = \\gamma\\hat{x}_{i} + \\beta\n",
    "\\end{equation}"
   ]
  },
  {
   "cell_type": "code",
   "execution_count": 4,
   "metadata": {},
   "outputs": [],
   "source": [
    "#export\n",
    "class BatchNorm(Module):\n",
    "    def __init__(self, c, momentum=0.1, epsilon=1e-6):\n",
    "        super().__init__()\n",
    "        self.momentum = momentum\n",
    "        self.epsilon = epsilon\n",
    "        self.mean = torch.zeros(1,c,1,1)\n",
    "        self.var  = torch.ones (1,c,1,1)\n",
    "        # trainable linear transformation\n",
    "        self.gamma = Parameter(torch.ones (1,c,1,1))\n",
    "        self.beta  = Parameter(torch.zeros(1,c,1,1))\n",
    "    \n",
    "    def update_stats(self, inp):\n",
    "        mean = inp.mean((0,2,3), keepdim=True)\n",
    "        var =  inp.var ((0,2,3), keepdim=True) \n",
    "        self.mean = weighted_sum(self.mean, mean, self.momentum)\n",
    "        self.var = weighted_sum(self.var, var, self.momentum)\n",
    "        return mean, var\n",
    "    \n",
    "    def fwd(self, inp): \n",
    "        mean, var = self.update_stats(inp)\n",
    "        self.x_hat = (inp - mean) / (var + self.epsilon).sqrt()\n",
    "        return self.gamma.data * self.x_hat + self.beta.data\n",
    "        \n",
    "    def bwd(self, out, inp):\n",
    "        # learned from: https://kratzert.github.io/2016/02/12/understanding-the-gradient-flow-through-the-batch-normalization-layer.html\n",
    "        dL = out.g\n",
    "        dLdg = (dL * self.x_hat).sum((0,2,3), keepdim=True)\n",
    "        dLdb = dL.sum((0,2,3), keepdim=True)\n",
    "        self.gamma.update(dLdg)\n",
    "        self.beta.update(dLdb)\n",
    "        \n",
    "        n = dL.shape[0]\n",
    "        dLdx = dL * self.gamma.data\n",
    "        \n",
    "        denom = (self.var + self.epsilon).sqrt()\n",
    "        numer = inp - self.mean\n",
    "        \n",
    "        dv = (-1/2)*dLdx*numer / (self.var+self.epsilon)**1.5\n",
    "        dm = ( 2/n)*dLdx/denom + numer*dv\n",
    "        \n",
    "        inp.g = (2*dv*numer + dm)/n + dLdx/denom\n",
    "    \n",
    "    def __repr__(self): return f'BatchNorm()'"
   ]
  },
  {
   "cell_type": "code",
   "execution_count": 5,
   "metadata": {},
   "outputs": [],
   "source": [
    "#export\n",
    "def get_conv_final_model(data_bunch):\n",
    "    return Sequential(Reshape((1, 28, 28)),\n",
    "                      Conv2d(c_in=1, c_out=4, k_s=5, stride=2, pad=1), # 4, 13, 13\n",
    "                      AvgPool2d(k_s=2, pad=0), # 4, 12, 12\n",
    "                      BatchNorm(4),\n",
    "                      Conv2d(c_in=4, c_out=16, stride=2, leak=1.), # 16, 5, 5\n",
    "                      BatchNorm(16),\n",
    "                      Flatten(),\n",
    "                      Linear(400, 64),\n",
    "                      ReLU(),\n",
    "                      Linear(64, 10, True))"
   ]
  },
  {
   "cell_type": "code",
   "execution_count": 6,
   "metadata": {},
   "outputs": [],
   "source": [
    "x_train, y_train, x_valid, y_valid = get_mnist_data()\n",
    "x_train, y_train, x_valid, y_valid = x_train[:8000], y_train[:8000], x_valid[:2000], y_valid[:2000]\n",
    "\n",
    "data_bunch = get_data_bunch(x_train, y_train, x_valid, y_valid, batch_size=64)\n",
    "model = get_conv_final_model(data_bunch)\n",
    "optimizer = DynamicOpt(list(model.parameters()), learning_rate=0.1)\n",
    "loss_fn = CrossEntropy()\n",
    "callbacks = [StatsLogging()]"
   ]
  },
  {
   "cell_type": "code",
   "execution_count": 7,
   "metadata": {
    "scrolled": true
   },
   "outputs": [
    {
     "name": "stdout",
     "output_type": "stream",
     "text": [
      "(DataBunch) \n",
      "\t(DataLoader) \n",
      "\t\t(Dataset) x: (8000, 784), y: (8000,)\n",
      "\t\t(Sampler) total: 8000, batch_size: 64, shuffle: True\n",
      "\t(DataLoader) \n",
      "\t\t(Dataset) x: (2000, 784), y: (2000,)\n",
      "\t\t(Sampler) total: 2000, batch_size: 128, shuffle: False\n",
      "(Sequential)\n",
      "\t(Layer1) Reshape(1, 28, 28)\n",
      "\t(Layer2) Conv2D(in: 1, out: 4, kernel: 5, stride: 2, pad: 1)\n",
      "\t(Layer3) AvgPool2d(kernel: 2, stride: 1, pad: 0)\n",
      "\t(Layer4) BatchNorm()\n",
      "\t(Layer5) Conv2D(in: 4, out: 16, kernel: 3, stride: 2, pad: 0)\n",
      "\t(Layer6) BatchNorm()\n",
      "\t(Layer7) Flatten()\n",
      "\t(Layer8) Linear(400, 64)\n",
      "\t(Layer9) ReLU()\n",
      "\t(Layer10) Linear(64, 10)\n",
      "(CrossEntropy)\n",
      "(DynamicOpt) num_params: 12, hyper_params: ['learning_rate']\n",
      "(Callbacks) ['TrainEval', 'StatsLogging']\n"
     ]
    }
   ],
   "source": [
    "learner = Learner(data_bunch, model, loss_fn, optimizer, callbacks)\n",
    "print(learner)"
   ]
  },
  {
   "cell_type": "code",
   "execution_count": 8,
   "metadata": {},
   "outputs": [
    {
     "name": "stdout",
     "output_type": "stream",
     "text": [
      "Epoch - 1\n",
      "train metrics - [0.0011055092811584472, 0.85675]\n",
      "valid metrics - [0.018804485321044923, 0.8905]\n",
      "\n",
      "Epoch - 2\n",
      "train metrics - [0.0009419311881065369, 0.932375]\n",
      "valid metrics - [0.013131357192993165, 0.926]\n",
      "\n",
      "Epoch - 3\n",
      "train metrics - [0.0014515787363052369, 0.943]\n",
      "valid metrics - [0.0122059907913208, 0.9335]\n",
      "\n",
      "Epoch - 4\n",
      "train metrics - [0.0015083916187286378, 0.954875]\n",
      "valid metrics - [0.008289137840270995, 0.935]\n",
      "\n",
      "Epoch - 5\n",
      "train metrics - [0.0008319444060325622, 0.96]\n",
      "valid metrics - [0.007107770442962647, 0.933]\n",
      "\n"
     ]
    }
   ],
   "source": [
    "learner.fit(5)"
   ]
  }
 ],
 "metadata": {
  "kernelspec": {
   "display_name": "Python 3",
   "language": "python",
   "name": "python3"
  },
  "language_info": {
   "codemirror_mode": {
    "name": "ipython",
    "version": 3
   },
   "file_extension": ".py",
   "mimetype": "text/x-python",
   "name": "python",
   "nbconvert_exporter": "python",
   "pygments_lexer": "ipython3",
   "version": "3.7.6"
  }
 },
 "nbformat": 4,
 "nbformat_minor": 4
}

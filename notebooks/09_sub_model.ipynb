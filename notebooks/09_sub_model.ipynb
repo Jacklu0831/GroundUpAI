{
 "cells": [
  {
   "cell_type": "code",
   "execution_count": 1,
   "metadata": {},
   "outputs": [],
   "source": [
    "%load_ext autoreload\n",
    "%autoreload 2\n",
    "\n",
    "%matplotlib inline"
   ]
  },
  {
   "cell_type": "code",
   "execution_count": 2,
   "metadata": {},
   "outputs": [],
   "source": [
    "#export\n",
    "import sys\n",
    "from os.path import join\n",
    "\n",
    "sys.path.insert(0, '/'.join(sys.path[0].split('/')[:-1] + ['scripts']))\n",
    "from optimizer import *"
   ]
  },
  {
   "cell_type": "code",
   "execution_count": 3,
   "metadata": {},
   "outputs": [],
   "source": [
    "#export\n",
    "class SubModel(Module):\n",
    "    def __init__(self):\n",
    "        super().__init__()\n",
    "    \n",
    "    def parameters(self):\n",
    "        for param in self.sub_model.parameters():\n",
    "            yield param\n",
    "            \n",
    "    def fwd(self, inp):\n",
    "        return self.sub_model(inp)\n",
    "    \n",
    "    def bwd(self, out, inp):\n",
    "        self.sub_model.backward()\n",
    "        \n",
    "    def __repr__(self, t):\n",
    "        return self.sub_model.__repr__(t+'    ')"
   ]
  },
  {
   "cell_type": "markdown",
   "metadata": {},
   "source": [
    "## Test"
   ]
  },
  {
   "cell_type": "code",
   "execution_count": 4,
   "metadata": {},
   "outputs": [],
   "source": [
    "class FirstNest(SubModel):\n",
    "    def __init__(self):\n",
    "        self.sub_model = Sequential(Linear(700, 640), ReLU(), SecondNest(), Linear(40, 20), ReLU())\n",
    "\n",
    "class SecondNest(SubModel):\n",
    "    def __init__(self):\n",
    "        self.sub_model = Sequential(Linear(640, 320), ReLU(), ThirdNest(), Linear(80, 40), ReLU())\n",
    "        \n",
    "class ThirdNest(SubModel):\n",
    "    def __init__(self):\n",
    "        self.sub_model = Sequential(Linear(320, 160), ReLU(), Linear(160, 80), ReLU())"
   ]
  },
  {
   "cell_type": "code",
   "execution_count": 5,
   "metadata": {},
   "outputs": [
    {
     "data": {
      "text/plain": [
       "(Model)\n",
       "    Linear(784, 700)\n",
       "    ReLU()\n",
       "        Linear(700, 640)\n",
       "        ReLU()\n",
       "            Linear(640, 320)\n",
       "            ReLU()\n",
       "                Linear(320, 160)\n",
       "                ReLU()\n",
       "                Linear(160, 80)\n",
       "                ReLU()\n",
       "            Linear(80, 40)\n",
       "            ReLU()\n",
       "        Linear(40, 20)\n",
       "        ReLU()\n",
       "    Linear(20, 10)\n",
       "    ReLU()"
      ]
     },
     "execution_count": 5,
     "metadata": {},
     "output_type": "execute_result"
    }
   ],
   "source": [
    "from training import fit\n",
    "from optimizer import Optimizer\n",
    "\n",
    "data_bunch = get_data_bunch(*get_mnist_data(), batch_size=64)\n",
    "model = Sequential(Linear(784, 700), ReLU(), FirstNest(), Linear(20, 10), ReLU())\n",
    "optimizer = Optimizer(list(model.parameters()), learning_rate=0.1)\n",
    "loss_fn = CrossEntropy()\n",
    "\n",
    "model"
   ]
  },
  {
   "cell_type": "code",
   "execution_count": 6,
   "metadata": {},
   "outputs": [
    {
     "name": "stdout",
     "output_type": "stream",
     "text": [
      "Epoch 1  Accuracy 0.966  Loss 0.121\n"
     ]
    }
   ],
   "source": [
    "accuracies, losses = fit(1, data_bunch, model, loss_fn, optimizer)"
   ]
  },
  {
   "cell_type": "code",
   "execution_count": null,
   "metadata": {},
   "outputs": [],
   "source": []
  }
 ],
 "metadata": {
  "kernelspec": {
   "display_name": "Python 3",
   "language": "python",
   "name": "python3"
  },
  "language_info": {
   "codemirror_mode": {
    "name": "ipython",
    "version": 3
   },
   "file_extension": ".py",
   "mimetype": "text/x-python",
   "name": "python",
   "nbconvert_exporter": "python",
   "pygments_lexer": "ipython3",
   "version": "3.7.6"
  }
 },
 "nbformat": 4,
 "nbformat_minor": 4
}

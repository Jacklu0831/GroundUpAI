{
 "cells": [
  {
   "cell_type": "code",
   "execution_count": 1,
   "metadata": {},
   "outputs": [],
   "source": [
    "%load_ext autoreload\n",
    "%autoreload 2\n",
    "\n",
    "%matplotlib inline"
   ]
  },
  {
   "cell_type": "code",
   "execution_count": 2,
   "metadata": {},
   "outputs": [],
   "source": [
    "#export\n",
    "import sys\n",
    "from os.path import join\n",
    "\n",
    "sys.path.insert(0, '/'.join(sys.path[0].split('/')[:-1] + ['scripts']))\n",
    "from hyper_param_scheduling import *"
   ]
  },
  {
   "cell_type": "code",
   "execution_count": 3,
   "metadata": {},
   "outputs": [],
   "source": [
    "#export\n",
    "class CancelTrainException(Exception): pass\n",
    "class CancelEpochException(Exception): pass\n",
    "class CancelBatchException(Exception): pass"
   ]
  },
  {
   "cell_type": "code",
   "execution_count": 4,
   "metadata": {},
   "outputs": [],
   "source": [
    "#export\n",
    "class Runner():\n",
    "    def __init__(self, learner, callbacks=[]):\n",
    "        self.learner = learner\n",
    "        self.stop = False\n",
    "        self.callbacks = sorted([TrainEval()] + callbacks, key=lambda cb: cb.order)\n",
    "        for callback in self.callbacks:\n",
    "            callback.runner = self\n",
    "    \n",
    "    def __repr__(self):\n",
    "        return f'{self.learner}\\n(Callbacks) ' + ' '.join(map(lambda cb: cb.name, self.callbacks))\n",
    "        \n",
    "    @property\n",
    "    def data_bunch(self): return self.learner.data_bunch\n",
    "    @property\n",
    "    def model(self):      return self.learner.model\n",
    "    @property\n",
    "    def loss_fn(self):    return self.learner.loss_fn\n",
    "    @property\n",
    "    def optimizer(self):  return self.learner.optimizer\n",
    "\n",
    "    def one_batch(self, x_batch, y_batch):\n",
    "        try:\n",
    "            self.x_batch = x_batch\n",
    "            self.y_batch = y_batch\n",
    "\n",
    "            if self('before_batch'):     return\n",
    "            self.pred = self.model(self.x_batch)\n",
    "            if self('after_pred'):       return\n",
    "            self.loss = self.loss_fn(self.pred, self.y_batch)\n",
    "            if self('after_loss'):       return\n",
    "            if not self.model.training:  return\n",
    "            self.loss_fn.backward()\n",
    "            if self('after_loss_back'):  return\n",
    "            self.model.backward()\n",
    "            if self('after_model_back'): return\n",
    "            self.optimizer.step()\n",
    "            if self('after_step'):       return\n",
    "            self.optimizer.zero_grad()\n",
    "        except CancelBatchException: \n",
    "            self('after_cancel_batch')\n",
    "\n",
    "    def all_batches(self):\n",
    "        data_loader = self.data_bunch.train_dl if self.model.training else self.data_bunch.valid_dl\n",
    "        self.iters_count, self.iters = 0, len(data_loader)\n",
    "        try:\n",
    "            for x_batch, y_batch in data_loader:\n",
    "                if self.stop: break\n",
    "                self.one_batch(x_batch, y_batch)\n",
    "                self.iters_count += 1\n",
    "                self('after_batch')\n",
    "        except CancelEpochException: \n",
    "            self('after_cancel_epoch')\n",
    "\n",
    "    def fit(self, num_epochs):\n",
    "        self.num_epochs = num_epochs\n",
    "        \n",
    "        for callback in self.callbacks:\n",
    "            callback.set_runner(self)\n",
    "\n",
    "        if self('before_fit'):       return\n",
    "        try:\n",
    "            for epoch in range(1, num_epochs+1):\n",
    "                if self.stop: break\n",
    "                self.epoch = epoch\n",
    "                if self('before_epoch'): return\n",
    "                if self('before_train'): return \n",
    "                self.all_batches()\n",
    "                if self('before_valid'): return\n",
    "                self.all_batches()\n",
    "                if self('after_epoch'): break\n",
    "        except CancelTrainException:\n",
    "            self('after_cancel_train')\n",
    "        finally:\n",
    "            self('after_fit')\n",
    "\n",
    "    def __call__(self, callback_name):\n",
    "        for callback in self.callbacks:\n",
    "            if callback(callback_name):\n",
    "                return True\n",
    "        return False"
   ]
  },
  {
   "cell_type": "code",
   "execution_count": 5,
   "metadata": {},
   "outputs": [],
   "source": [
    "#export\n",
    "class ItersStop(Callback):\n",
    "    def after_step(self):\n",
    "        print(f'iteration: {self.iters_count}')\n",
    "        if self.iters_count >= 10:\n",
    "            raise CancelTrainException()"
   ]
  },
  {
   "cell_type": "code",
   "execution_count": 6,
   "metadata": {},
   "outputs": [
    {
     "name": "stdout",
     "output_type": "stream",
     "text": [
      "(DataBunch) \n",
      "\t(DataLoader) \n",
      "\t\t(Dataset) x: (50000, 784), y: (50000,)\n",
      "\t\t(Sampler) total: 50000, batch_size: 64, shuffle: True\n",
      "\t(DataLoader) \n",
      "\t\t(Dataset) x: (10000, 784), y: (10000,)\n",
      "\t\t(Sampler) total: 10000, batch_size: 128, shuffle: False\n",
      "(Sequential)\n",
      "\t(Layer1) Linear(784, 50)\n",
      "\t(Layer2) ReLU()\n",
      "\t(Layer3) Linear(50, 10)\n",
      "(CrossEntropy)\n",
      "(Optimizer) num_params: 4, hyper_params: ['learning_rate']\n",
      "(Callbacks) TrainEval ItersStop ParamScheduler StatsLogging\n"
     ]
    }
   ],
   "source": [
    "num_hidden = 50\n",
    "batch_size = 64\n",
    "num_epochs = 20\n",
    "learning_rate = 0.1\n",
    "schedule = combine_schedules([0.4, 0.6], one_cycle_cos(0.01, 0.5, 0.01))\n",
    "\n",
    "data_bunch = get_data_bunch(*get_mnist_data(), batch_size)\n",
    "model, optimizer = get_model(data_bunch, learning_rate, num_hidden)\n",
    "loss_fn = CrossEntropy()\n",
    "learner = Learner(model, optimizer, loss_fn, data_bunch)\n",
    "\n",
    "runner = Runner(learner, [ItersStop(), ParamScheduler('learning_rate', schedule), StatsLogging([compute_accuracy])])\n",
    "print(runner)"
   ]
  },
  {
   "cell_type": "code",
   "execution_count": 7,
   "metadata": {},
   "outputs": [
    {
     "name": "stdout",
     "output_type": "stream",
     "text": [
      "iteration: 0\n",
      "iteration: 1\n",
      "iteration: 2\n",
      "iteration: 3\n",
      "iteration: 4\n",
      "iteration: 5\n",
      "iteration: 6\n",
      "iteration: 7\n",
      "iteration: 8\n",
      "iteration: 9\n",
      "iteration: 10\n"
     ]
    }
   ],
   "source": [
    "runner.fit(10000)"
   ]
  },
  {
   "cell_type": "code",
   "execution_count": null,
   "metadata": {},
   "outputs": [],
   "source": []
  }
 ],
 "metadata": {
  "kernelspec": {
   "display_name": "Python 3",
   "language": "python",
   "name": "python3"
  },
  "language_info": {
   "codemirror_mode": {
    "name": "ipython",
    "version": 3
   },
   "file_extension": ".py",
   "mimetype": "text/x-python",
   "name": "python",
   "nbconvert_exporter": "python",
   "pygments_lexer": "ipython3",
   "version": "3.7.6"
  }
 },
 "nbformat": 4,
 "nbformat_minor": 4
}

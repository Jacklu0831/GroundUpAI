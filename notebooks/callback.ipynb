{
 "cells": [
  {
   "cell_type": "code",
   "execution_count": 1,
   "metadata": {},
   "outputs": [],
   "source": [
    "%load_ext autoreload\n",
    "%autoreload 2\n",
    "\n",
    "%matplotlib inline"
   ]
  },
  {
   "cell_type": "code",
   "execution_count": 2,
   "metadata": {},
   "outputs": [],
   "source": [
    "#export\n",
    "import sys\n",
    "from os.path import join\n",
    "\n",
    "sys.path.insert(0, '/'.join(sys.path[0].split('/')[:-1] + ['scripts']))\n",
    "from training import *"
   ]
  },
  {
   "cell_type": "code",
   "execution_count": 3,
   "metadata": {},
   "outputs": [],
   "source": [
    "#export\n",
    "import re\n",
    "\n",
    "def camel2snake(name):\n",
    "    camel_re1 = re.compile('(.)([A-Z][a-z]+)')\n",
    "    camel_re2 = re.compile('([a-z0-9])([A-Z])')\n",
    "    s1 = re.sub(camel_re1, r'\\1_\\2', name)\n",
    "    return re.sub(camel_re2, r'\\1_\\2', s1).lower()\n",
    "\n",
    "class Callback():\n",
    "    order = 0\n",
    "    def __getattr__(self, k): \n",
    "        # delegate attribute checking to runner\n",
    "        return getattr(self.runner, k)\n",
    "\n",
    "    def set_runner(self, runner):\n",
    "        self.runner = runner\n",
    "        \n",
    "    @property\n",
    "    def name(self):\n",
    "        return re.sub(r'Callback$', '', self.__class__.__name__) or 'callback'\n",
    "        \n",
    "    def __repr__(self):\n",
    "        return f'(callback) {camel2snake(self.name)}'\n",
    "    \n",
    "    def __call__(self, cb_name):\n",
    "        fn = getattr(self, cb_name, None)\n",
    "        if fn and fn(): \n",
    "            return True\n",
    "        return False"
   ]
  },
  {
   "cell_type": "code",
   "execution_count": 4,
   "metadata": {},
   "outputs": [
    {
     "data": {
      "text/plain": [
       "'hello_world_my_name_is_jack'"
      ]
     },
     "execution_count": 4,
     "metadata": {},
     "output_type": "execute_result"
    }
   ],
   "source": [
    "camel2snake('helloWorldMyNameIsJack')"
   ]
  },
  {
   "cell_type": "code",
   "execution_count": 5,
   "metadata": {},
   "outputs": [],
   "source": [
    "#export\n",
    "class TrainEval(Callback):\n",
    "    def before_train(self):\n",
    "        self.model.train()\n",
    "\n",
    "    def before_valid(self):\n",
    "        self.model.eval_()\n",
    "\n",
    "class ItersStop(Callback):\n",
    "    def after_batch(self):\n",
    "        print(f'iteration: {self.iters_count}')\n",
    "        if self.iters_count > 10:\n",
    "            self.runner.stop = True\n",
    "\n",
    "class AvgStats():\n",
    "    def __init__(self, metrics, training): \n",
    "        self.metrics = metrics\n",
    "        self.training = training\n",
    "    \n",
    "    def reset(self):\n",
    "        self.count = 0\n",
    "        self.total_loss = torch.Tensor([0])\n",
    "        self.totals = [torch.Tensor([0])] * len(self.metrics)\n",
    "        \n",
    "    @property\n",
    "    def all_stats(self): return [self.total_loss] + self.totals\n",
    "    \n",
    "    @property\n",
    "    def avg_stats(self): return [s.item()/self.count for s in self.all_stats]\n",
    "    \n",
    "    def __repr__(self):\n",
    "        if not self.count: \n",
    "            return ''\n",
    "        return f\"{'train' if self.training else 'valid'} metrics - {self.avg_stats}\"\n",
    "\n",
    "    def accumulate(self, runner):\n",
    "        batch_size = runner.x_batch.shape[0]\n",
    "        self.count += batch_size\n",
    "        self.total_loss = runner.loss * batch_size\n",
    "        for i, metric in enumerate(self.metrics):\n",
    "            self.totals[i] += metric(runner.pred, runner.y_batch) * batch_size\n",
    "\n",
    "class StatsLogging(Callback):\n",
    "    def __init__(self, metrics):\n",
    "        self.train_stats = AvgStats(metrics, True)\n",
    "        self.valid_stats = AvgStats(metrics, False)\n",
    "        \n",
    "    def before_epoch(self):\n",
    "        self.train_stats.reset()\n",
    "        self.valid_stats.reset()\n",
    "        \n",
    "    def after_loss(self):\n",
    "        stats = self.train_stats if self.model.training else self.valid_stats\n",
    "        stats.accumulate(self.runner)\n",
    "    \n",
    "    def after_epoch(self):\n",
    "        print(f'Epoch - {self.epoch}\\n{self.train_stats}\\n{self.valid_stats}\\n')"
   ]
  },
  {
   "cell_type": "code",
   "execution_count": 6,
   "metadata": {},
   "outputs": [],
   "source": [
    "#export\n",
    "class Runner():\n",
    "    def __init__(self, learner, callbacks=[]):\n",
    "        self.learner = learner\n",
    "        self.stop = False\n",
    "        self.callbacks = sorted([TrainEval()] + callbacks, key=lambda cb: cb.order)\n",
    "        for callback in self.callbacks:\n",
    "            callback.runner = self\n",
    "    \n",
    "    def __repr__(self):\n",
    "        return f'{self.learner}\\n(Callbacks) ' + ' '.join(map(lambda cb: cb.name, self.callbacks))\n",
    "        \n",
    "    @property\n",
    "    def data_bunch(self): return self.learner.data_bunch\n",
    "    @property\n",
    "    def model(self):      return self.learner.model\n",
    "    @property\n",
    "    def loss_fn(self):    return self.learner.loss_fn\n",
    "    @property\n",
    "    def optimizer(self):  return self.learner.optimizer\n",
    "\n",
    "    def one_batch(self, x_batch, y_batch):\n",
    "        self.x_batch = x_batch\n",
    "        self.y_batch = y_batch\n",
    "        \n",
    "        if self('before_batch'):     return\n",
    "        self.pred = self.model(self.x_batch)\n",
    "        if self('after_pred'):       return\n",
    "        self.loss = self.loss_fn(self.pred, self.y_batch)\n",
    "        if self('after_loss'):       return\n",
    "        if not self.model.training:  return\n",
    "        self.loss_fn.backward()\n",
    "        if self('after_loss_back'):  return\n",
    "        self.model.backward()\n",
    "        if self('after_model_back'): return\n",
    "        self.optimizer.step()\n",
    "        if self('after_step'):       return\n",
    "        self.optimizer.zero_grad()\n",
    "\n",
    "    def all_batches(self):\n",
    "        data_loader = self.data_bunch.train_dl if self.model.training else self.data_bunch.valid_dl\n",
    "        self.iters_count, self.iters = 0, len(data_loader)\n",
    "        for x_batch, y_batch in data_loader:\n",
    "            if self.stop: break\n",
    "            self.one_batch(x_batch, y_batch)\n",
    "            self.iters_count += 1\n",
    "            self('after_batch')\n",
    "\n",
    "    def fit(self, num_epochs):\n",
    "        self.num_epochs = num_epochs\n",
    "\n",
    "        for callback in self.callbacks:\n",
    "            callback.set_runner(self)\n",
    "            \n",
    "        if self('before_fit'):       return\n",
    "        for epoch in range(1, num_epochs+1):\n",
    "            if self.stop: break\n",
    "            self.epoch = epoch\n",
    "            if self('before_epoch'): return\n",
    "            if self('before_train'): return \n",
    "            self.all_batches()\n",
    "            if self('before_valid'): return\n",
    "            self.all_batches()\n",
    "            if self('after_epoch'): break\n",
    "        self('after_fit')\n",
    "\n",
    "    def __call__(self, callback_name):\n",
    "        for callback in self.callbacks:\n",
    "            if callback(callback_name):\n",
    "                return True\n",
    "        return False"
   ]
  },
  {
   "cell_type": "code",
   "execution_count": 7,
   "metadata": {},
   "outputs": [],
   "source": [
    "num_hidden = 50\n",
    "batch_size = 64\n",
    "num_epochs = 20\n",
    "learning_rate = 0.1\n",
    "\n",
    "data_bunch = get_data_bunch(*get_mnist_data(), batch_size)\n",
    "model, optimizer = get_model(data_bunch, learning_rate, num_hidden)\n",
    "loss_fn = CrossEntropy()\n",
    "learner = Learner(model, optimizer, loss_fn, data_bunch)"
   ]
  },
  {
   "cell_type": "code",
   "execution_count": 8,
   "metadata": {},
   "outputs": [
    {
     "name": "stdout",
     "output_type": "stream",
     "text": [
      "(DataBunch) \n",
      "\t(DataLoader) \n",
      "\t\t(Dataset) x: (50000, 784), y: (50000,)\n",
      "\t\t(Sampler) total: 50000, batch_size: 64, shuffle: True\n",
      "\t(DataLoader) \n",
      "\t\t(Dataset) x: (10000, 784), y: (10000,)\n",
      "\t\t(Sampler) total: 10000, batch_size: 128, shuffle: False\n",
      "(Sequential)\n",
      "\t(Layer1) Linear(784, 50)\n",
      "\t(Layer2) ReLU()\n",
      "\t(Layer3) Linear(50, 10)\n",
      "(CrossEntropy)\n",
      "(Optimizer) num_params: 4, learning_rate: 0.1\n",
      "(Callbacks) TrainEval StatsLogging\n"
     ]
    }
   ],
   "source": [
    "runner = Runner(learner, [StatsLogging([compute_accuracy])])\n",
    "print(runner)"
   ]
  },
  {
   "cell_type": "code",
   "execution_count": 9,
   "metadata": {
    "scrolled": true
   },
   "outputs": [
    {
     "name": "stdout",
     "output_type": "stream",
     "text": [
      "Epoch - 1\n",
      "train metrics - [5.21607780456543e-05, 0.88386]\n",
      "valid metrics - [0.00013459482192993165, 0.9249]\n",
      "\n",
      "Epoch - 2\n",
      "train metrics - [8.116597175598144e-05, 0.92818]\n",
      "valid metrics - [9.224777221679688e-05, 0.9399]\n",
      "\n",
      "Epoch - 3\n",
      "train metrics - [5.448760986328125e-06, 0.94276]\n",
      "valid metrics - [7.916407585144043e-05, 0.953]\n",
      "\n",
      "Epoch - 4\n",
      "train metrics - [1.526219367980957e-05, 0.95276]\n",
      "valid metrics - [7.73298740386963e-05, 0.9573]\n",
      "\n",
      "Epoch - 5\n",
      "train metrics - [4.177288055419922e-05, 0.95864]\n",
      "valid metrics - [7.447586059570312e-05, 0.9617]\n",
      "\n"
     ]
    }
   ],
   "source": [
    "runner.fit(5)"
   ]
  }
 ],
 "metadata": {
  "kernelspec": {
   "display_name": "Python 3",
   "language": "python",
   "name": "python3"
  },
  "language_info": {
   "codemirror_mode": {
    "name": "ipython",
    "version": 3
   },
   "file_extension": ".py",
   "mimetype": "text/x-python",
   "name": "python",
   "nbconvert_exporter": "python",
   "pygments_lexer": "ipython3",
   "version": "3.7.6"
  }
 },
 "nbformat": 4,
 "nbformat_minor": 4
}

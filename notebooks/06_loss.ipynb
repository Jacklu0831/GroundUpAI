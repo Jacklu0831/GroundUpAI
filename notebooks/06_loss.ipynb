{
 "cells": [
  {
   "cell_type": "code",
   "execution_count": 1,
   "metadata": {},
   "outputs": [],
   "source": [
    "%load_ext autoreload\n",
    "%autoreload 2\n",
    "\n",
    "%matplotlib inline"
   ]
  },
  {
   "cell_type": "code",
   "execution_count": 2,
   "metadata": {},
   "outputs": [],
   "source": [
    "#export\n",
    "import sys\n",
    "sys.path.insert(0, '/'.join(sys.path[0].split('/')[:-1] + ['scripts']))\n",
    "\n",
    "from sub_model import *"
   ]
  },
  {
   "cell_type": "code",
   "execution_count": 3,
   "metadata": {},
   "outputs": [],
   "source": [
    "#export\n",
    "def softmax(inp):\n",
    "    # prone to overflow (floating aint precise)\n",
    "    return inp.exp() / inp.exp().sum(-1, keepdim=True)\n",
    "\n",
    "def log_sum_exp(inp):\n",
    "    e = inp.max(-1)[0]\n",
    "    return e + (inp - e[:, None]).exp().sum(-1).log()\n",
    "    \n",
    "def log_softmax(inp):\n",
    "    # LogSumExp trick to avoid floating point error\n",
    "    return inp - log_sum_exp(inp).unsqueeze(-1)\n",
    "\n",
    "def nll_loss(pre, tar):\n",
    "    # use multiple indexing \n",
    "    return -pre[range(tar.shape[0]), tar].mean()\n",
    "\n",
    "def cross_entropy(inp, tar):\n",
    "    return nll_loss(log_softmax(inp), tar)\n",
    "\n",
    "def compute_accuracy(pre, tar):\n",
    "    return (torch.argmax(pre, dim=1) == tar).float().mean()"
   ]
  }
 ],
 "metadata": {
  "kernelspec": {
   "display_name": "Python 3",
   "language": "python",
   "name": "python3"
  },
  "language_info": {
   "codemirror_mode": {
    "name": "ipython",
    "version": 3
   },
   "file_extension": ".py",
   "mimetype": "text/x-python",
   "name": "python",
   "nbconvert_exporter": "python",
   "pygments_lexer": "ipython3",
   "version": "3.7.6"
  }
 },
 "nbformat": 4,
 "nbformat_minor": 4
}

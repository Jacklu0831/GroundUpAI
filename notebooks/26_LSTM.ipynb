{
 "cells": [
  {
   "cell_type": "code",
   "execution_count": 1,
   "metadata": {},
   "outputs": [],
   "source": [
    "%load_ext autoreload\n",
    "%autoreload 2\n",
    "\n",
    "%matplotlib inline"
   ]
  },
  {
   "cell_type": "code",
   "execution_count": 2,
   "metadata": {},
   "outputs": [],
   "source": [
    "#export\n",
    "import sys\n",
    "\n",
    "sys.path.insert(0, '/'.join(sys.path[0].split('/')[:-1] + ['scripts']))\n",
    "from resnet import *"
   ]
  },
  {
   "cell_type": "code",
   "execution_count": 3,
   "metadata": {},
   "outputs": [],
   "source": [
    "#export\n",
    "def init_2d_weight(shape, leak=1.):\n",
    "    # default to he init\n",
    "    assert len(shape) == 2\n",
    "    fan = shape[0]\n",
    "    gain_sq = 2.0 / (1 + leak**2)\n",
    "    return torch.randn(*shape) * (gain_sq / fan)**0.5"
   ]
  },
  {
   "cell_type": "code",
   "execution_count": 4,
   "metadata": {},
   "outputs": [],
   "source": [
    "#export\n",
    "class LSTMCell(nn.Module):\n",
    "    def __init__(self, i_dim, h_dim):\n",
    "        super().__init__()\n",
    "        self.i_dim, self.h_dim = i_dim, h_dim\n",
    "        self.Ui = nn.Parameter(init_2d_weight((i_dim, h_dim)))\n",
    "        self.Uf = nn.Parameter(init_2d_weight((i_dim, h_dim)))\n",
    "        self.Uo = nn.Parameter(init_2d_weight((i_dim, h_dim)))\n",
    "        self.Ug = nn.Parameter(init_2d_weight((i_dim, h_dim)))\n",
    "        self.Wi = nn.Parameter(init_2d_weight((h_dim, h_dim)))\n",
    "        self.Wf = nn.Parameter(init_2d_weight((h_dim, h_dim)))\n",
    "        self.Wo = nn.Parameter(init_2d_weight((h_dim, h_dim)))\n",
    "        self.Wg = nn.Parameter(init_2d_weight((h_dim, h_dim)))\n",
    "\n",
    "    def forward(self, x, state):\n",
    "        h, c = state\n",
    "        \n",
    "        i   = (x @ self.Ui + h @ self.Wi).sigmoid()\n",
    "        f   = (x @ self.Uf + h @ self.Wf).sigmoid()\n",
    "        o   = (x @ self.Uo + h @ self.Wo).sigmoid()\n",
    "        c_t = (x @ self.Ug + h @ self.Wg).tanh()\n",
    "        \n",
    "        c = (f*c + i*c_t).sigmoid()\n",
    "        h = c.tanh() * o\n",
    "        return h, (h, c)\n",
    "    \n",
    "    def __repr__(self):\n",
    "        return f'LSTM({self.i_dim}, {self.h_dim})'"
   ]
  },
  {
   "cell_type": "code",
   "execution_count": 5,
   "metadata": {},
   "outputs": [],
   "source": [
    "#export\n",
    "class LSTMLayer(nn.Module):\n",
    "    def __init__(self, i_dim, h_dim):\n",
    "        super().__init__()\n",
    "        self.cell = LSTMCell(i_dim, h_dim)\n",
    "\n",
    "    def forward(self, inps, state):\n",
    "        outputs = []\n",
    "        for inp in inps.unbind(1):\n",
    "            out, state = self.cell(inp, state)\n",
    "            outputs.append(out)\n",
    "        return torch.stack(outputs, 1), state\n",
    "    \n",
    "    def __repr__(self):\n",
    "        return f'{self.cell}'"
   ]
  },
  {
   "cell_type": "code",
   "execution_count": 6,
   "metadata": {},
   "outputs": [],
   "source": [
    "#export\n",
    "class FastLSTMCell(nn.Module):\n",
    "    def __init__(self, i_dim, h_dim):\n",
    "        super().__init__()\n",
    "        self.i_dim, self.h_dim = i_dim, h_dim\n",
    "        # also adds a small bias\n",
    "        self.x_gates = nn.Linear(i_dim, 4*h_dim)\n",
    "        self.h_gates = nn.Linear(i_dim, 4*h_dim)\n",
    "    \n",
    "    def forward(self, x, state):\n",
    "        h, c = state\n",
    "        gates = (self.x_gates(x) + self.h_gates(h)).chunk(4, 1)\n",
    "        \n",
    "        i   = gates[0].sigmoid()\n",
    "        f   = gates[1].sigmoid()\n",
    "        o   = gates[2].sigmoid()\n",
    "        c_t = gates[3].tanh()\n",
    "        \n",
    "        c = f*c + i*c_t\n",
    "        h = o * c.tanh()\n",
    "        return h, (h, c)\n",
    "\n",
    "    def __repr__(self):\n",
    "        return f'LSTM({self.i_dim}, {self.h_dim})'"
   ]
  },
  {
   "cell_type": "code",
   "execution_count": 7,
   "metadata": {},
   "outputs": [],
   "source": [
    "#export\n",
    "class FastLSTMLayer(nn.Module):\n",
    "    def __init__(self, i_dim, h_dim):\n",
    "        super().__init__()\n",
    "        self.cell = FastLSTMCell(i_dim, h_dim)\n",
    "\n",
    "    def forward(self, inps, state):\n",
    "        outputs = []\n",
    "        for inp in inps.unbind(1):\n",
    "            out, state = self.cell(inp, state)\n",
    "            outputs.append(out)\n",
    "        return torch.stack(outputs, 1), state\n",
    "    \n",
    "    def __repr__(self):\n",
    "        return f'{self.cell}'"
   ]
  },
  {
   "cell_type": "code",
   "execution_count": 8,
   "metadata": {},
   "outputs": [],
   "source": [
    "fastlstm = FastLSTMLayer(1024, 1024)\n",
    "lstm = LSTMLayer(1024, 1024)"
   ]
  },
  {
   "cell_type": "code",
   "execution_count": 9,
   "metadata": {
    "scrolled": true
   },
   "outputs": [
    {
     "name": "stdout",
     "output_type": "stream",
     "text": [
      "FastLSTM shapes:\n",
      "torch.Size([128, 100, 1024])\n",
      "torch.Size([128, 1024])\n",
      "torch.Size([128, 1024])\n",
      "\n",
      "LSTM shapes:\n",
      "torch.Size([128, 100, 1024])\n",
      "torch.Size([128, 1024])\n",
      "torch.Size([128, 1024])\n"
     ]
    }
   ],
   "source": [
    "x = torch.randn(128, 100, 1024)\n",
    "h = torch.zeros(128, 1024)\n",
    "c = torch.zeros(128, 1024)\n",
    "\n",
    "y, (h_out, c_out) = fastlstm(x, (h, c))\n",
    "print('FastLSTM shapes:')\n",
    "print(y.shape)\n",
    "print(h_out.shape)\n",
    "print(c_out.shape)\n",
    "y, (h_out, c_out) = lstm(x, (h, c))\n",
    "print('\\nLSTM shapes:')\n",
    "print(y.shape)\n",
    "print(h_out.shape)\n",
    "print(c_out.shape)"
   ]
  },
  {
   "cell_type": "code",
   "execution_count": 10,
   "metadata": {},
   "outputs": [
    {
     "name": "stdout",
     "output_type": "stream",
     "text": [
      "CPU times: user 5.34 s, sys: 61 ms, total: 5.4 s\n",
      "Wall time: 902 ms\n",
      "CPU times: user 5.46 s, sys: 79.1 ms, total: 5.53 s\n",
      "Wall time: 925 ms\n"
     ]
    }
   ],
   "source": [
    "%time _ = fastlstm(x, (h, c))\n",
    "%time _ = lstm(x, (h, c))"
   ]
  },
  {
   "cell_type": "code",
   "execution_count": 11,
   "metadata": {},
   "outputs": [
    {
     "name": "stdout",
     "output_type": "stream",
     "text": [
      "LSTM(1024, 1024)\n",
      "LSTM(1024, 1024)\n"
     ]
    }
   ],
   "source": [
    "print(lstm)\n",
    "print(fastlstm)"
   ]
  }
 ],
 "metadata": {
  "kernelspec": {
   "display_name": "Python 3",
   "language": "python",
   "name": "python3"
  },
  "language_info": {
   "codemirror_mode": {
    "name": "ipython",
    "version": 3
   },
   "file_extension": ".py",
   "mimetype": "text/x-python",
   "name": "python",
   "nbconvert_exporter": "python",
   "pygments_lexer": "ipython3",
   "version": "3.7.6"
  }
 },
 "nbformat": 4,
 "nbformat_minor": 4
}

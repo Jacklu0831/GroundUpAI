{
 "cells": [
  {
   "cell_type": "code",
   "execution_count": 1,
   "metadata": {},
   "outputs": [],
   "source": [
    "%load_ext autoreload\n",
    "%autoreload 2\n",
    "\n",
    "%matplotlib inline"
   ]
  },
  {
   "cell_type": "code",
   "execution_count": 2,
   "metadata": {},
   "outputs": [],
   "source": [
    "#export\n",
    "import sys\n",
    "sys.path.insert(0, '/'.join(sys.path[0].split('/')[:-1] + ['scripts']))\n",
    "\n",
    "from model import *"
   ]
  },
  {
   "cell_type": "code",
   "execution_count": 3,
   "metadata": {},
   "outputs": [],
   "source": [
    "#export\n",
    "def init_weight_he(d1, d2):\n",
    "    return torch.randn(d1, d2) * (2./d1) ** 0.5\n",
    "\n",
    "def init_weight_norm(d1, d2):\n",
    "    return torch.randn(d1, d2) * (2./d1) ** 0.5\n",
    "\n",
    "def init_weight(d1, d2, end=False):\n",
    "    return init_weight_norm(d1, d2) if end else init_weight_he(d1, d2)\n",
    "\n",
    "def init_bias_zero(d):\n",
    "    return torch.zeros(d)\n",
    "\n",
    "def init_bias_uni(d):\n",
    "    return torch.randn(d)\n",
    "\n",
    "def init_bias(d, zero=True):\n",
    "    return init_bias_zero(d) if zero else init_bias_uni(d)"
   ]
  },
  {
   "cell_type": "code",
   "execution_count": 4,
   "metadata": {},
   "outputs": [],
   "source": [
    "#export\n",
    "def init_2d_weight(shape, leak=1.):\n",
    "    # default to he init\n",
    "    assert len(shape) == 2\n",
    "    fan = shape[0]\n",
    "    gain_sq = 2.0 / (1 + leak**2)\n",
    "    return torch.randn(*shape) * (gain_sq / fan)**0.5\n",
    "\n",
    "def init_3d_weight(shape, leak=1.):\n",
    "    # default to he init\n",
    "    assert(shape[2] == shape[3])\n",
    "    # in channel * receptive field (kernel area)\n",
    "    fan = shape[1] * shape[2] * shape[3]\n",
    "    gain_sq = 2.0 / (1 + leak**2)\n",
    "    return torch.randn(*shape) * (gain_sq / fan)**0.5"
   ]
  }
 ],
 "metadata": {
  "kernelspec": {
   "display_name": "Python 3",
   "language": "python",
   "name": "python3"
  },
  "language_info": {
   "codemirror_mode": {
    "name": "ipython",
    "version": 3
   },
   "file_extension": ".py",
   "mimetype": "text/x-python",
   "name": "python",
   "nbconvert_exporter": "python",
   "pygments_lexer": "ipython3",
   "version": "3.7.6"
  }
 },
 "nbformat": 4,
 "nbformat_minor": 4
}

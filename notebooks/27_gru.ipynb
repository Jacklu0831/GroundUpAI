{
 "cells": [
  {
   "cell_type": "markdown",
   "metadata": {},
   "source": [
    "# GRU"
   ]
  },
  {
   "cell_type": "code",
   "execution_count": 1,
   "metadata": {},
   "outputs": [],
   "source": [
    "%load_ext autoreload\n",
    "%autoreload 2\n",
    "\n",
    "%matplotlib inline"
   ]
  },
  {
   "cell_type": "code",
   "execution_count": 2,
   "metadata": {},
   "outputs": [],
   "source": [
    "#export\n",
    "import sys\n",
    "from os.path import join\n",
    "\n",
    "sys.path.insert(0, '/'.join(sys.path[0].split('/')[:-1] + ['scripts']))\n",
    "from lstm import *"
   ]
  },
  {
   "cell_type": "code",
   "execution_count": 3,
   "metadata": {},
   "outputs": [],
   "source": [
    "#export\n",
    "class GRUCell(nn.Module):\n",
    "    '''GRU cell'''\n",
    "    def __init__(self, i_dim, h_dim):\n",
    "        super().__init__()\n",
    "        self.i_dim, self.h_dim = i_dim, h_dim\n",
    "        self.Wz = nn.Parameter(init_2d_weight((i_dim, h_dim)))\n",
    "        self.Wr = nn.Parameter(init_2d_weight((i_dim, h_dim)))\n",
    "        self.Wh = nn.Parameter(init_2d_weight((i_dim, h_dim)))\n",
    "        self.Uz = nn.Parameter(init_2d_weight((h_dim, h_dim)))\n",
    "        self.Ur = nn.Parameter(init_2d_weight((h_dim, h_dim)))\n",
    "        self.Uh = nn.Parameter(init_2d_weight((h_dim, h_dim)))\n",
    "        self.bz = nn.Parameter(torch.zeros(h_dim))\n",
    "        self.br = nn.Parameter(torch.zeros(h_dim))\n",
    "        \n",
    "    def forward(self, x, h):\n",
    "        z =   (x @ self.Wz + h @ self.Uz).sigmoid()\n",
    "        r =   (x @ self.Wr + h @ self.Ur).sigmoid()\n",
    "        h_t = (x @ self.Wh + r * h @ self.Uh).tanh()\n",
    "        h = weighted_sum(h, h_t, z)\n",
    "        return h"
   ]
  },
  {
   "cell_type": "code",
   "execution_count": 4,
   "metadata": {},
   "outputs": [],
   "source": [
    "#export\n",
    "class GRULayer(nn.Module):\n",
    "    '''Wrapper for passing different input timestamps into GRU cell'''\n",
    "    def __init__(self, i_dim, h_dim):\n",
    "        super().__init__()\n",
    "        self.cell = GRUCell(i_dim, h_dim)\n",
    "        \n",
    "    def forward(self, inps, h):\n",
    "        outputs = []\n",
    "        for inp in inps.unbind(1):\n",
    "            h = self.cell(inp, h)\n",
    "            outputs.append(h)\n",
    "        return torch.stack(outputs, 1), h"
   ]
  },
  {
   "cell_type": "markdown",
   "metadata": {},
   "source": [
    "# Tests"
   ]
  },
  {
   "cell_type": "code",
   "execution_count": 5,
   "metadata": {},
   "outputs": [],
   "source": [
    "gru = GRULayer(1024, 1024)"
   ]
  },
  {
   "cell_type": "code",
   "execution_count": 6,
   "metadata": {},
   "outputs": [
    {
     "name": "stdout",
     "output_type": "stream",
     "text": [
      "GRU shapes:\n",
      "torch.Size([128, 100, 1024])\n",
      "torch.Size([128, 1024])\n"
     ]
    }
   ],
   "source": [
    "x = torch.randn(128, 100, 1024)\n",
    "h = torch.zeros(128, 1024)\n",
    "\n",
    "y, h_out = gru(x, h)\n",
    "print('GRU shapes:')\n",
    "print(y.shape)\n",
    "print(h_out.shape)"
   ]
  },
  {
   "cell_type": "code",
   "execution_count": null,
   "metadata": {},
   "outputs": [],
   "source": []
  }
 ],
 "metadata": {
  "kernelspec": {
   "display_name": "Python 3",
   "language": "python",
   "name": "python3"
  },
  "language_info": {
   "codemirror_mode": {
    "name": "ipython",
    "version": 3
   },
   "file_extension": ".py",
   "mimetype": "text/x-python",
   "name": "python",
   "nbconvert_exporter": "python",
   "pygments_lexer": "ipython3",
   "version": "3.7.6"
  }
 },
 "nbformat": 4,
 "nbformat_minor": 4
}

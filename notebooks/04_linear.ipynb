{
 "cells": [
  {
   "cell_type": "code",
   "execution_count": 1,
   "metadata": {},
   "outputs": [],
   "source": [
    "#export\n",
    "import sys\n",
    "from os.path import join\n",
    "import math\n",
    "\n",
    "sys.path.insert(0, '/'.join(sys.path[0].split('/')[:-1] + ['scripts']))\n",
    "from model import *"
   ]
  },
  {
   "cell_type": "code",
   "execution_count": 2,
   "metadata": {},
   "outputs": [],
   "source": [
    "#export\n",
    "def init_weight_he(d1, d2):\n",
    "    return torch.randn(d1, d2) * (2./d1) ** 0.5\n",
    "\n",
    "def init_weight_norm(d1, d2):\n",
    "    return torch.randn(d1, d2) * (2./d1) ** 0.5\n",
    "\n",
    "def init_weight(d1, d2, end=False):\n",
    "    return init_weight_norm(d1, d2) if end else init_weight_he(d1, d2)\n",
    "\n",
    "def init_bias_zero(d):\n",
    "    return torch.zeros(d)\n",
    "\n",
    "def init_bias_uni(d):\n",
    "    return torch.randn(d)\n",
    "\n",
    "def init_bias(d, zero=True):\n",
    "    return init_bias_zero(d) if zero else init_bias_uni(d)"
   ]
  },
  {
   "cell_type": "code",
   "execution_count": 3,
   "metadata": {},
   "outputs": [],
   "source": [
    "#export\n",
    "def softmax(inp):\n",
    "    # prone to overflow (floating aint precise)\n",
    "    return inp.exp() / inp.exp().sum(-1, keepdim=True)\n",
    "\n",
    "def log_sum_exp(inp):\n",
    "    e = inp.max(-1)[0]\n",
    "    return e + (inp - e[:, None]).exp().sum(-1).log()\n",
    "    \n",
    "def log_softmax(inp):\n",
    "    # LogSumExp trick to avoid floating point error\n",
    "    return inp - log_sum_exp(inp).unsqueeze(-1)\n",
    "\n",
    "def nll_loss(pre, tar):\n",
    "    # use multiple indexing \n",
    "    return -pre[range(tar.shape[0]), tar].mean()\n",
    "\n",
    "def cross_entropy(inp, tar):\n",
    "    return nll_loss(log_softmax(inp), tar)\n",
    "\n",
    "def compute_accuracy(pre, tar):\n",
    "    return (torch.argmax(pre, dim=1) == tar).float().mean()"
   ]
  },
  {
   "cell_type": "code",
   "execution_count": 4,
   "metadata": {},
   "outputs": [],
   "source": [
    "#export\n",
    "class Module():\n",
    "    def __init__(self):\n",
    "        self._parameters = {}\n",
    "        \n",
    "    def __setattr__(self, k, v):\n",
    "        if isinstance(v, Parameter): \n",
    "            self._parameters[k] = v\n",
    "        super().__setattr__(k, v)\n",
    "        \n",
    "    def __call__(self, *args):\n",
    "        self.args = args\n",
    "        self.out = self.fwd(*args)\n",
    "        return self.out\n",
    "    \n",
    "    def parameters(self):\n",
    "        for p in self._parameters.values():\n",
    "            yield p\n",
    "    \n",
    "    def forward(self):\n",
    "        raise NotImplementedError('Module.forward')\n",
    "    \n",
    "    def backward(self):\n",
    "        self.bwd(self.out, *self.args)"
   ]
  },
  {
   "cell_type": "code",
   "execution_count": 5,
   "metadata": {},
   "outputs": [],
   "source": [
    "#export\n",
    "class Linear(Module):\n",
    "    def __init__(self, in_dim, num_hidden, end=False, require_grad=True):\n",
    "        super().__init__()\n",
    "        self.w = Parameter(init_weight(in_dim, num_hidden, end), require_grad)\n",
    "        self.b = Parameter(init_bias(num_hidden), require_grad)\n",
    "    \n",
    "    def __repr__(self):\n",
    "        return f'Linear({self.w.data.shape[0]}, {self.w.data.shape[1]})'\n",
    "        \n",
    "    def fwd(self, inp):\n",
    "        return inp @ self.w.data + self.b.data\n",
    "    \n",
    "    def bwd(self, out, inp):\n",
    "        inp.g = out.g @ self.w.data.t()\n",
    "        self.w.update(inp.t() @ out.g)\n",
    "        self.b.update(out.g.sum(0))\n",
    "\n",
    "class ReLU(Module):\n",
    "    def __repr__(self):\n",
    "        return f'ReLU()'\n",
    "    \n",
    "    def fwd(self, inp):\n",
    "        return inp.clamp_min(0.) - 0.5\n",
    "    \n",
    "    def bwd(self, out, inp):\n",
    "        inp.g = (inp > 0).float() * out.g\n",
    "        \n",
    "class CrossEntropy(Module):\n",
    "    def __repr__(self):\n",
    "        return f'(CrossEntropy)'\n",
    "        \n",
    "    def fwd(self, inp, tar):\n",
    "        return cross_entropy(inp, tar)\n",
    "    \n",
    "    def bwd(self, loss, inp, tar):\n",
    "        inp_soft = softmax(inp)\n",
    "        inp_soft[range(tar.shape[0]), tar] -= 1\n",
    "        inp.g = inp_soft / tar.shape[0]"
   ]
  },
  {
   "cell_type": "code",
   "execution_count": 6,
   "metadata": {},
   "outputs": [],
   "source": [
    "nh = 50\n",
    "\n",
    "x_train, y_train, x_valid, y_valid = get_mnist_data()\n",
    "(num_data, in_dim), out_dim = x_train.shape, int(y_train.max() + 1)"
   ]
  },
  {
   "cell_type": "code",
   "execution_count": 7,
   "metadata": {},
   "outputs": [],
   "source": [
    "model = Sequential(Linear(in_dim, nh), \n",
    "                   ReLU(), \n",
    "                   Linear(nh, out_dim, True))\n",
    "loss_fn = CrossEntropy()"
   ]
  },
  {
   "cell_type": "code",
   "execution_count": 8,
   "metadata": {},
   "outputs": [
    {
     "data": {
      "text/plain": [
       "(Sequential)\n",
       "\t(Layer1) Linear(784, 50)\n",
       "\t(Layer2) ReLU()\n",
       "\t(Layer3) Linear(50, 10)"
      ]
     },
     "execution_count": 8,
     "metadata": {},
     "output_type": "execute_result"
    }
   ],
   "source": [
    "model"
   ]
  },
  {
   "cell_type": "code",
   "execution_count": 9,
   "metadata": {},
   "outputs": [
    {
     "name": "stdout",
     "output_type": "stream",
     "text": [
      "shape: (784, 50), grad: True\n",
      "shape: (50,), grad: True\n",
      "shape: (50, 10), grad: True\n",
      "shape: (10,), grad: True\n"
     ]
    }
   ],
   "source": [
    "for p in model.parameters():\n",
    "    print(p)"
   ]
  },
  {
   "cell_type": "code",
   "execution_count": 10,
   "metadata": {},
   "outputs": [],
   "source": [
    "loss = loss_fn(model(x_train), y_train)\n",
    "loss_fn.backward()\n",
    "model.backward()\n",
    "\n",
    "xtg = x_train.g.clone()\n",
    "w1g = model.layers[0].w.grad.clone()\n",
    "b1g = model.layers[0].b.grad.clone()\n",
    "w2g = model.layers[2].w.grad.clone()\n",
    "b2g = model.layers[2].b.grad.clone()\n",
    "\n",
    "x_train2 = x_train.clone().requires_grad_(True)\n",
    "model.layers[0].w.data.requires_grad_(True)\n",
    "model.layers[0].b.data.requires_grad_(True)\n",
    "model.layers[2].w.data.requires_grad_(True)\n",
    "model.layers[2].b.data.requires_grad_(True)\n",
    "\n",
    "loss = loss_fn(model(x_train2), y_train)\n",
    "loss.backward()\n",
    "\n",
    "test_near(w1g, model.layers[0].w.data.grad)\n",
    "test_near(b1g, model.layers[0].b.data.grad)\n",
    "test_near(w2g, model.layers[2].w.data.grad)\n",
    "test_near(b2g, model.layers[2].b.data.grad)"
   ]
  },
  {
   "cell_type": "code",
   "execution_count": 11,
   "metadata": {},
   "outputs": [],
   "source": [
    "#export\n",
    "def get_lin_model(data_bunch, num_hidden=50):\n",
    "    in_dim = data_bunch.train_ds.x_data.shape[1]\n",
    "    out_dim = int(max(data_bunch.train_ds.y_data) + 1)\n",
    "    return Sequential(Linear(in_dim, 50), \n",
    "                      ReLU(), \n",
    "                      Linear(num_hidden, out_dim, end=True))"
   ]
  }
 ],
 "metadata": {
  "kernelspec": {
   "display_name": "Python 3",
   "language": "python",
   "name": "python3"
  },
  "language_info": {
   "codemirror_mode": {
    "name": "ipython",
    "version": 3
   },
   "file_extension": ".py",
   "mimetype": "text/x-python",
   "name": "python",
   "nbconvert_exporter": "python",
   "pygments_lexer": "ipython3",
   "version": "3.7.6"
  }
 },
 "nbformat": 4,
 "nbformat_minor": 4
}

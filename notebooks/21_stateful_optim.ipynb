{
 "cells": [
  {
   "cell_type": "code",
   "execution_count": 1,
   "metadata": {},
   "outputs": [],
   "source": [
    "%load_ext autoreload\n",
    "%autoreload 2\n",
    "\n",
    "%matplotlib inline"
   ]
  },
  {
   "cell_type": "code",
   "execution_count": 2,
   "metadata": {},
   "outputs": [],
   "source": [
    "#export\n",
    "import sys\n",
    "from os.path import join\n",
    "\n",
    "sys.path.insert(0, '/'.join(sys.path[0].split('/')[:-1] + ['scripts']))\n",
    "from stateless_optim import *"
   ]
  },
  {
   "cell_type": "code",
   "execution_count": 3,
   "metadata": {},
   "outputs": [],
   "source": [
    "#export\n",
    "def compose_inplace(item, fns, **hyper_params):\n",
    "    for fn in fns:\n",
    "        fn(item, **hyper_params)"
   ]
  },
  {
   "cell_type": "code",
   "execution_count": 4,
   "metadata": {},
   "outputs": [],
   "source": [
    "#export\n",
    "def momentum_step(param, learning_rate, avg_grad, **kwargs):\n",
    "    param.data -= learning_rate * avg_grad"
   ]
  },
  {
   "cell_type": "code",
   "execution_count": 5,
   "metadata": {},
   "outputs": [],
   "source": [
    "#export\n",
    "class StatefulOpt():\n",
    "    def __init__(self, params, steppers=None, stats=None, **hyper_params):\n",
    "        self.params = [params] if isinstance(params, list) else [[params]]\n",
    "        self.steppers = steppers if steppers != None else [sgd_step]\n",
    "        self.stats = stats if stats != None else []\n",
    "        self.state = {}\n",
    "        self.hypers = [dict(hyper_params) for p in self.params]\n",
    "\n",
    "    def _grad_params(self):\n",
    "        return [(p, h) for ps, h in zip(self.params, self.hypers) for p in ps if p.grad != None]\n",
    "    \n",
    "    def step(self):\n",
    "        for p, hps in self._grad_params():\n",
    "            if p not in self.state:\n",
    "                self.state[p] = {}\n",
    "                for stat in self.stats:\n",
    "                    self.state[p].update(stat.init_state(p).items())\n",
    "            # update individual stat states\n",
    "            p_state = self.state[p]\n",
    "            for stat in self.stats:\n",
    "                p_state = stat.update_state(p, p_state, **hps)\n",
    "            # step\n",
    "            compose_inplace(p, self.steppers, **p_state, **hps)\n",
    "            self.state[p] = p_state\n",
    "\n",
    "    def zero_grad(self):\n",
    "        for hps in self.params: \n",
    "            for hp in hps:\n",
    "                hp.zero_grad()\n",
    "\n",
    "    def __repr__(self):\n",
    "        return f'(StatefulOpt) steppers: {[stepper.__name__ for stepper in self.steppers]}, stats: {[stat.__class__.__name__ for stat in self.stats]}'"
   ]
  },
  {
   "cell_type": "code",
   "execution_count": 6,
   "metadata": {},
   "outputs": [],
   "source": [
    "#export\n",
    "class Stat():    \n",
    "    def init_state(self, param): \n",
    "        raise NotImplementedError('Stat.init_state')\n",
    "        \n",
    "    def update_state(self, param, state, **kwargs): \n",
    "        raise NotImplementedError('Stat.update')\n",
    "\n",
    "class WeightedSumGrad(Stat):    \n",
    "    def init_state(self, param):\n",
    "        return {'avg_grad': torch.zeros_like(param.grad.data)}\n",
    "    \n",
    "    def update_state(self, param, state, mom, **kwargs):\n",
    "        state['avg_grad'] = weighted_sum(state['avg_grad'], param.grad, mom)\n",
    "        return state"
   ]
  },
  {
   "cell_type": "code",
   "execution_count": 7,
   "metadata": {},
   "outputs": [],
   "source": [
    "#export\n",
    "class StepCount(Stat):\n",
    "    def init_state(self,p): \n",
    "        return {'step': 0}\n",
    "    \n",
    "    def update_state(self, p, state, **kwargs):\n",
    "        state['step'] += 1\n",
    "        return state\n",
    "\n",
    "class ExpWeightedGrad(Stat):\n",
    "    # exponentially weighted moving avg of gradient\n",
    "    def __init__(self, dampening=False): \n",
    "        self.dampening = dampening\n",
    "    \n",
    "    def init_state(self, param): \n",
    "        return {'avg_grad': torch.zeros_like(param.grad.data)}\n",
    "    \n",
    "    def update_state(self, param, state, mom, **kwargs):\n",
    "        state['damp_mom'] = 1. - mom if self.dampening else 1. \n",
    "        state['avg_grad'].mul_(mom).add_(state['damp_mom'], param.grad.data)\n",
    "        return state\n",
    "\n",
    "class ExpWeightedSqrGrad(Stat):\n",
    "    def __init__(self, dampening=True):\n",
    "        self.dampening = dampening\n",
    "    \n",
    "    def init_state(self, param): \n",
    "        return {'sqr_avg_grad': torch.zeros_like(param.grad.data)}\n",
    "    \n",
    "    def update_state(self, param, state, sqr_mom, **kwargs):\n",
    "        state['sqr_damp_mom'] = 1. - sqr_mom if self.dampening else 1. \n",
    "        state['sqr_avg_grad'].mul_(sqr_mom).addcmul_(state['sqr_damp_mom'], param.grad.data, param.grad.data)\n",
    "        return state"
   ]
  },
  {
   "cell_type": "code",
   "execution_count": 8,
   "metadata": {},
   "outputs": [],
   "source": [
    "#export\n",
    "def debias(mom, damp, step): \n",
    "    return damp * (1. - mom**step) / (1. - mom)\n",
    "\n",
    "def adam(param, learning_rate, mom, damp_mom, step, sqr_mom, sqr_damp_mom, avg_grad, sqr_avg_grad, eps=1e-5, **kwargs):\n",
    "    debias1 = debias(mom,     damp_mom,     step)\n",
    "    debias2 = debias(sqr_mom, sqr_damp_mom, step)\n",
    "    param.data.addcdiv_(-learning_rate/debias1, avg_grad, (sqr_avg_grad/debias2).sqrt() + eps)    \n",
    "    return param\n",
    "\n",
    "def get_adam_opt(model, beta1=0.9, beta2=0.99, **kwargs):\n",
    "    return StatefulOpt(list(model.parameters()), [adam, l2_reg], \n",
    "                       [ExpWeightedGrad(True), ExpWeightedSqrGrad(), StepCount()],\n",
    "                       mom=beta1, sqr_mom=beta2, **kwargs)"
   ]
  },
  {
   "cell_type": "code",
   "execution_count": 9,
   "metadata": {},
   "outputs": [],
   "source": [
    "#export\n",
    "def lamb_step(param, learning_rate, mom, damp_mom, step, sqr_mom, sqr_damp_mom, avg_grad, sqr_avg_grad, weight_decay, eps=1e-5, **kwargs):\n",
    "    debias1 = debias(mom,     damp_mom,     step)\n",
    "    debias2 = debias(sqr_mom, sqr_damp_mom, step)\n",
    "    r1 = param.data.pow(2).mean().sqrt()\n",
    "    step = (avg_grad/debias1) / ((sqr_avg_grad/debias2).sqrt() + eps) + weight_decay*param.data\n",
    "    r2 = step.pow(2).mean().sqrt()\n",
    "    param.data.add_(-learning_rate * min(r1/r2, 10), step)\n",
    "    return param\n",
    "\n",
    "def get_lamb_opt(model, beta1=0.9, beta2=0.99, **kwargs):\n",
    "    return StatefulOpt(list(model.parameters()), [lamb_step], \n",
    "                       [ExpWeightedGrad(True), ExpWeightedSqrGrad(), StepCount()],\n",
    "                       mom=beta1, sqr_mom=beta2, **kwargs)"
   ]
  },
  {
   "cell_type": "markdown",
   "metadata": {},
   "source": [
    "## Try Momentum + Weight Decay"
   ]
  },
  {
   "cell_type": "code",
   "execution_count": 10,
   "metadata": {},
   "outputs": [
    {
     "name": "stdout",
     "output_type": "stream",
     "text": [
      "(DataBunch) \n",
      "\t(DataLoader) \n",
      "\t\t(Dataset) x: (50000, 784), y: (50000,)\n",
      "\t\t(Sampler) total: 50000, batch_size: 64, shuffle: True\n",
      "\t(DataLoader) \n",
      "\t\t(Dataset) x: (10000, 784), y: (10000,)\n",
      "\t\t(Sampler) total: 10000, batch_size: 128, shuffle: False\n",
      "(Sequential)\n",
      "\t(Layer1) Linear(784, 50)\n",
      "\t(Layer2) ReLU()\n",
      "\t(Layer3) Linear(50, 10)\n",
      "(CrossEntropy)\n",
      "(StatefulOpt) steppers: ['l2_reg', 'sgd'], stats: ['WeightedSumGrad']\n",
      "(Callbacks) ['TrainEval', 'ParamScheduler', 'StatsLogging']\n"
     ]
    }
   ],
   "source": [
    "hyper_params = {'weight_decay':1e-4, 'learning_rate':0.001, 'mom':0.9}\n",
    "schedule = combine_schedules([0.4, 0.6], one_cycle_cos(0.01, 0.5, 0.01))\n",
    "\n",
    "data_bunch = get_data_bunch(*get_mnist_data(), batch_size=64)\n",
    "model = get_lin_model(data_bunch)\n",
    "optimizer = StatefulOpt(list(model.parameters()), steppers=[l2_reg, sgd], stats=[WeightedSumGrad()], **hyper_params)\n",
    "loss_fn = CrossEntropy()\n",
    "callbacks = [ParamScheduler('learning_rate', schedule), StatsLogging()]\n",
    "\n",
    "learner = Learner(data_bunch, model, loss_fn, optimizer, callbacks)\n",
    "print(learner)"
   ]
  },
  {
   "cell_type": "code",
   "execution_count": 11,
   "metadata": {},
   "outputs": [
    {
     "name": "stdout",
     "output_type": "stream",
     "text": [
      "Epoch - 1\n",
      "train metrics - [4.220166206359863e-05, 0.88674]\n",
      "valid metrics - [1.9061279296875e-05, 0.9639]\n",
      "\n",
      "Epoch - 2\n",
      "train metrics - [1.0347471237182618e-05, 0.9579]\n",
      "valid metrics - [2.0520734786987305e-05, 0.9723]\n",
      "\n",
      "Epoch - 3\n",
      "train metrics - [1.59454345703125e-07, 0.9675]\n",
      "valid metrics - [5.486631393432617e-06, 0.9721]\n",
      "\n",
      "Epoch - 4\n",
      "train metrics - [0.0001637211227416992, 0.97066]\n",
      "valid metrics - [3.156948089599609e-06, 0.9736]\n",
      "\n",
      "Epoch - 5\n",
      "train metrics - [6.247329711914062e-07, 0.97548]\n",
      "valid metrics - [2.324247360229492e-06, 0.9746]\n",
      "\n"
     ]
    }
   ],
   "source": [
    "learner.fit(5)"
   ]
  },
  {
   "cell_type": "markdown",
   "metadata": {},
   "source": [
    "## Try Adam + Weight Decay"
   ]
  },
  {
   "cell_type": "code",
   "execution_count": 12,
   "metadata": {},
   "outputs": [
    {
     "name": "stdout",
     "output_type": "stream",
     "text": [
      "(DataBunch) \n",
      "\t(DataLoader) \n",
      "\t\t(Dataset) x: (50000, 784), y: (50000,)\n",
      "\t\t(Sampler) total: 50000, batch_size: 64, shuffle: True\n",
      "\t(DataLoader) \n",
      "\t\t(Dataset) x: (10000, 784), y: (10000,)\n",
      "\t\t(Sampler) total: 10000, batch_size: 128, shuffle: False\n",
      "(Sequential)\n",
      "\t(Layer1) Linear(784, 50)\n",
      "\t(Layer2) ReLU()\n",
      "\t(Layer3) Linear(50, 10)\n",
      "(CrossEntropy)\n",
      "(StatefulOpt) steppers: ['adam', 'l2_reg'], stats: ['ExpWeightedGrad', 'ExpWeightedSqrGrad', 'StepCount']\n",
      "(Callbacks) ['TrainEval', 'ParamScheduler', 'StatsLogging', 'Recorder']\n"
     ]
    }
   ],
   "source": [
    "hyper_params = {'learning_rate':0.001, 'weight_decay':1e-4}\n",
    "schedule = combine_schedules([0.4, 0.6], one_cycle_cos(0.0001, 0.003, 0.0001))\n",
    "\n",
    "data_bunch = get_data_bunch(*get_mnist_data(), batch_size=64)\n",
    "model = get_lin_model(data_bunch)\n",
    "loss_fn = CrossEntropy()\n",
    "optimizer = get_adam_opt(model, **hyper_params)\n",
    "callbacks = [ParamScheduler('learning_rate', schedule), StatsLogging(), Recorder()]\n",
    "\n",
    "learner = Learner(data_bunch, model, loss_fn, optimizer, callbacks)\n",
    "print(learner)"
   ]
  },
  {
   "cell_type": "code",
   "execution_count": 13,
   "metadata": {},
   "outputs": [
    {
     "name": "stdout",
     "output_type": "stream",
     "text": [
      "Epoch - 1\n",
      "train metrics - [5.207582950592041e-05, 0.87164]\n",
      "valid metrics - [2.294015884399414e-05, 0.9593]\n",
      "\n",
      "Epoch - 2\n",
      "train metrics - [3.344335794448853e-05, 0.95444]\n",
      "valid metrics - [8.855676651000977e-06, 0.9681]\n",
      "\n",
      "Epoch - 3\n",
      "train metrics - [6.197261810302735e-06, 0.96508]\n",
      "valid metrics - [7.2734355926513675e-06, 0.9735]\n",
      "\n",
      "Epoch - 4\n",
      "train metrics - [7.657711029052734e-05, 0.97152]\n",
      "valid metrics - [2.019023895263672e-06, 0.9741]\n",
      "\n",
      "Epoch - 5\n",
      "train metrics - [2.8411006927490234e-06, 0.97528]\n",
      "valid metrics - [9.069442749023437e-07, 0.9726]\n",
      "\n"
     ]
    }
   ],
   "source": [
    "learner.fit(5)"
   ]
  },
  {
   "cell_type": "code",
   "execution_count": 14,
   "metadata": {},
   "outputs": [
    {
     "data": {
      "image/png": "[encoded data removed]",
      "text/plain": [
       "<Figure size 432x288 with 1 Axes>"
      ]
     },
     "metadata": {
      "needs_background": "light"
     },
     "output_type": "display_data"
    }
   ],
   "source": [
    "learner.callbacks[3].plot_losses()"
   ]
  },
  {
   "cell_type": "markdown",
   "metadata": {},
   "source": [
    "## Try LAMB"
   ]
  },
  {
   "cell_type": "code",
   "execution_count": 15,
   "metadata": {},
   "outputs": [
    {
     "name": "stdout",
     "output_type": "stream",
     "text": [
      "(DataBunch) \n",
      "\t(DataLoader) \n",
      "\t\t(Dataset) x: (50000, 784), y: (50000,)\n",
      "\t\t(Sampler) total: 50000, batch_size: 64, shuffle: True\n",
      "\t(DataLoader) \n",
      "\t\t(Dataset) x: (10000, 784), y: (10000,)\n",
      "\t\t(Sampler) total: 10000, batch_size: 128, shuffle: False\n",
      "(Sequential)\n",
      "\t(Layer1) Linear(784, 50)\n",
      "\t(Layer2) ReLU()\n",
      "\t(Layer3) Linear(50, 10)\n",
      "(CrossEntropy)\n",
      "(StatefulOpt) steppers: ['lamb_step'], stats: ['ExpWeightedGrad', 'ExpWeightedSqrGrad', 'StepCount']\n",
      "(Callbacks) ['TrainEval', 'ParamScheduler', 'StatsLogging', 'Recorder']\n"
     ]
    }
   ],
   "source": [
    "hyper_params = {'weight_decay':1e-4, 'learning_rate':0.001}\n",
    "schedule = combine_schedules([0.4, 0.6], one_cycle_cos(0.0001, 0.003, 0.0001))\n",
    "\n",
    "data_bunch = get_data_bunch(*get_mnist_data(), batch_size=64)\n",
    "model = get_lin_model(data_bunch)\n",
    "loss_fn = CrossEntropy()\n",
    "optimizer = get_lamb_opt(model, **hyper_params)\n",
    "callbacks = [ParamScheduler('learning_rate', schedule), StatsLogging(), Recorder()]\n",
    "\n",
    "learner = Learner(data_bunch, model, loss_fn, optimizer, callbacks)\n",
    "print(learner)"
   ]
  },
  {
   "cell_type": "code",
   "execution_count": 16,
   "metadata": {},
   "outputs": [
    {
     "name": "stdout",
     "output_type": "stream",
     "text": [
      "Epoch - 1\n",
      "train metrics - [4.06002140045166e-05, 0.76402]\n",
      "valid metrics - [8.635261058807373e-05, 0.9442]\n",
      "\n",
      "Epoch - 2\n",
      "train metrics - [1.1307468414306641e-05, 0.94556]\n",
      "valid metrics - [6.77905559539795e-05, 0.9595]\n",
      "\n",
      "Epoch - 3\n",
      "train metrics - [1.7329893112182618e-05, 0.9592]\n",
      "valid metrics - [3.4098458290100095e-05, 0.9657]\n",
      "\n",
      "Epoch - 4\n",
      "train metrics - [1.1731534004211427e-05, 0.96632]\n",
      "valid metrics - [1.808595657348633e-05, 0.9689]\n",
      "\n",
      "Epoch - 5\n",
      "train metrics - [4.6294784545898435e-05, 0.97112]\n",
      "valid metrics - [1.4824914932250976e-05, 0.9714]\n",
      "\n"
     ]
    }
   ],
   "source": [
    "learner.fit(5)"
   ]
  },
  {
   "cell_type": "code",
   "execution_count": 17,
   "metadata": {},
   "outputs": [
    {
     "data": {
      "image/png": "[encoded data removed]",
      "text/plain": [
       "<Figure size 432x288 with 1 Axes>"
      ]
     },
     "metadata": {
      "needs_background": "light"
     },
     "output_type": "display_data"
    }
   ],
   "source": [
    "learner.callbacks[3].plot_losses()"
   ]
  },
  {
   "cell_type": "code",
   "execution_count": null,
   "metadata": {},
   "outputs": [],
   "source": []
  }
 ],
 "metadata": {
  "kernelspec": {
   "display_name": "Python 3",
   "language": "python",
   "name": "python3"
  },
  "language_info": {
   "codemirror_mode": {
    "name": "ipython",
    "version": 3
   },
   "file_extension": ".py",
   "mimetype": "text/x-python",
   "name": "python",
   "nbconvert_exporter": "python",
   "pygments_lexer": "ipython3",
   "version": "3.7.6"
  }
 },
 "nbformat": 4,
 "nbformat_minor": 4
}

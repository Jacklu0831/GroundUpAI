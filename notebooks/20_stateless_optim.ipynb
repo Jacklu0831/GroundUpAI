{
 "cells": [
  {
   "cell_type": "code",
   "execution_count": 1,
   "metadata": {},
   "outputs": [],
   "source": [
    "%load_ext autoreload\n",
    "%autoreload 2\n",
    "\n",
    "%matplotlib inline"
   ]
  },
  {
   "cell_type": "code",
   "execution_count": 2,
   "metadata": {},
   "outputs": [],
   "source": [
    "#export\n",
    "import sys\n",
    "from os.path import join\n",
    "\n",
    "sys.path.insert(0, '/'.join(sys.path[0].split('/')[:-1] + ['scripts']))\n",
    "from augmentation import *"
   ]
  },
  {
   "cell_type": "code",
   "execution_count": 3,
   "metadata": {},
   "outputs": [],
   "source": [
    "#export\n",
    "def sgd(param, learning_rate, **kwargs):\n",
    "    param.data -= learning_rate * param.grad\n",
    "    \n",
    "def l2_reg(param, weight_decay, **kwargs):\n",
    "    param.grad += weight_decay * param.data"
   ]
  },
  {
   "cell_type": "code",
   "execution_count": 4,
   "metadata": {},
   "outputs": [],
   "source": [
    "#export\n",
    "def compose_inplace(item, fns, **hyper_params):\n",
    "    for fn in fns:\n",
    "        fn(item, **hyper_params)"
   ]
  },
  {
   "cell_type": "code",
   "execution_count": 5,
   "metadata": {},
   "outputs": [],
   "source": [
    "#export\n",
    "class StatelessOpt():\n",
    "    # allow different hyper param for each layer\n",
    "    def __init__(self, params, steppers=None, **hyper_params):\n",
    "        # list of list of params\n",
    "        self.params = [params] if isinstance(params, list) else [[params]]\n",
    "        # set of hyperparams for each param\n",
    "        self.hypers = [dict(hyper_params) for p in self.params]\n",
    "        self.steppers = steppers if steppers != None else [sgd]\n",
    "\n",
    "    def step(self):\n",
    "        for params, hyper_params in zip(self.params, self.hypers):\n",
    "            for param in params:\n",
    "                compose_inplace(param, self.steppers, **hyper_params)              \n",
    "        \n",
    "    def zero_grad(self):\n",
    "        for hps in self.params: \n",
    "            for hp in hps:\n",
    "                hp.zero_grad()\n",
    "\n",
    "    def __repr__(self):\n",
    "        return f'(StatelessOpt) steppers: {[stepper.__name__ for stepper in self.steppers]}'"
   ]
  },
  {
   "cell_type": "markdown",
   "metadata": {},
   "source": [
    "## Renew callbacks"
   ]
  },
  {
   "cell_type": "code",
   "execution_count": 6,
   "metadata": {},
   "outputs": [],
   "source": [
    "#export\n",
    "class Recorder(Callback):\n",
    "    def __init__(self, param_names=['learning_rate']):\n",
    "        self.parameters = {name: [] for name in param_names}\n",
    "        \n",
    "    def before_fit(self):\n",
    "        self.losses = []\n",
    "        \n",
    "    def after_batch(self): \n",
    "        if not self.model.training: return\n",
    "        self.losses.append(self.loss)\n",
    "        for i, param in enumerate(self.parameters):\n",
    "            self.parameters[param].append(self.optimizer.hypers[i][param])       \n",
    "\n",
    "    def plot_losses(self): \n",
    "        plt.plot(self.losses)\n",
    "        plt.ylabel('loss')\n",
    "        plt.xlabel('batch')\n",
    "    \n",
    "    def plot_parameter(self, name):\n",
    "        plt.plot(self.parameters[name])\n",
    "        plt.ylabel(' '.join(name.split('_')))\n",
    "        plt.xlabel('batch')\n",
    "\n",
    "class LearningRateSearch(Callback):\n",
    "    def __init__(self, max_iter=1000, min_lr=1e-4, max_lr=1):\n",
    "        self.max_iter = max_iter\n",
    "        self.min_lr = min_lr\n",
    "        self.max_lr = max_lr\n",
    "        self.best_loss = float('inf')\n",
    "        \n",
    "    def before_batch(self): \n",
    "        if self.model.training:\n",
    "            position = self.iters_count / self.iters\n",
    "            learning_rate = self.min_lr * (self.max_lr / self.min_lr) ** position\n",
    "            for hp in self.optimizer.hypers:\n",
    "                hp['learning_rate'] = learning_rate\n",
    "            \n",
    "    def after_step(self):\n",
    "        if self.iters_count >= self.max_iter or self.loss > self.best_loss*10:\n",
    "            raise CancelTrainException()\n",
    "        self.best_loss = min(self.best_loss, self.loss)\n",
    "            \n",
    "class ParamScheduler(Callback):\n",
    "    def __init__(self, param_name, schedule_fn): \n",
    "        self.param_name = param_name\n",
    "        self.schedule_fn = schedule_fn\n",
    "        \n",
    "    def set_param(self):\n",
    "        for hp in self.optimizer.hypers:\n",
    "            hp[self.param_name] = self.schedule_fn(self.iters_count / self.iters)\n",
    "            \n",
    "    def before_batch(self): \n",
    "        if self.model.training:\n",
    "            self.set_param()"
   ]
  },
  {
   "cell_type": "markdown",
   "metadata": {},
   "source": [
    "# Tests"
   ]
  },
  {
   "cell_type": "code",
   "execution_count": 7,
   "metadata": {},
   "outputs": [],
   "source": [
    "hyper_params = {'weight_decay':1e-4, 'learning_rate':0.1}\n",
    "\n",
    "data_bunch = get_data_bunch(*get_mnist_data(), batch_size=64)\n",
    "model = get_lin_model(data_bunch)\n",
    "optimizer = StatelessOpt(list(model.parameters()), [l2_reg, sgd], **hyper_params)\n",
    "loss_fn = CrossEntropy()"
   ]
  },
  {
   "cell_type": "markdown",
   "metadata": {},
   "source": [
    "### Test LearningRateSearch and Recorder"
   ]
  },
  {
   "cell_type": "code",
   "execution_count": 8,
   "metadata": {},
   "outputs": [
    {
     "name": "stdout",
     "output_type": "stream",
     "text": [
      "(DataBunch) \n",
      "\t(DataLoader) \n",
      "\t\t(Dataset) x: (50000, 784), y: (50000,)\n",
      "\t\t(Sampler) total: 50000, batch_size: 64, shuffle: True\n",
      "\t(DataLoader) \n",
      "\t\t(Dataset) x: (10000, 784), y: (10000,)\n",
      "\t\t(Sampler) total: 10000, batch_size: 128, shuffle: False\n",
      "(Sequential)\n",
      "\t(Layer1) Linear(784, 50)\n",
      "\t(Layer2) ReLU()\n",
      "\t(Layer3) Linear(50, 10)\n",
      "(CrossEntropy)\n",
      "(StatelessOpt) steppers: ['l2_reg', 'sgd']\n",
      "(Callbacks) ['TrainEval', 'LearningRateSearch', 'Recorder']\n"
     ]
    }
   ],
   "source": [
    "callbacks = [LearningRateSearch(500), Recorder()]\n",
    "learner = Learner(data_bunch, model, loss_fn, optimizer, callbacks)\n",
    "print(learner)"
   ]
  },
  {
   "cell_type": "code",
   "execution_count": 9,
   "metadata": {},
   "outputs": [],
   "source": [
    "learner.fit(100)"
   ]
  },
  {
   "cell_type": "code",
   "execution_count": 10,
   "metadata": {},
   "outputs": [
    {
     "data": {
      "image/png": "[encoded data removed]",
      "text/plain": [
       "<Figure size 432x288 with 1 Axes>"
      ]
     },
     "metadata": {
      "needs_background": "light"
     },
     "output_type": "display_data"
    }
   ],
   "source": [
    "plot_lr_loss(learner.callbacks[2])"
   ]
  },
  {
   "cell_type": "markdown",
   "metadata": {},
   "source": [
    "### Test ParamScheduler"
   ]
  },
  {
   "cell_type": "code",
   "execution_count": 11,
   "metadata": {},
   "outputs": [
    {
     "name": "stdout",
     "output_type": "stream",
     "text": [
      "(DataBunch) \n",
      "\t(DataLoader) \n",
      "\t\t(Dataset) x: (50000, 784), y: (50000,)\n",
      "\t\t(Sampler) total: 50000, batch_size: 64, shuffle: True\n",
      "\t(DataLoader) \n",
      "\t\t(Dataset) x: (10000, 784), y: (10000,)\n",
      "\t\t(Sampler) total: 10000, batch_size: 128, shuffle: False\n",
      "(Sequential)\n",
      "\t(Layer1) Linear(784, 50)\n",
      "\t(Layer2) ReLU()\n",
      "\t(Layer3) Linear(50, 10)\n",
      "(CrossEntropy)\n",
      "(StatelessOpt) steppers: ['l2_reg', 'sgd']\n",
      "(Callbacks) ['TrainEval', 'ParamScheduler', 'Recorder']\n"
     ]
    }
   ],
   "source": [
    "schedule = combine_schedules([0.4, 0.6], one_cycle_cos(0.01, 0.5, 0.01))\n",
    "callbacks = [ParamScheduler('learning_rate', schedule), Recorder()]\n",
    "\n",
    "learner = Learner(data_bunch, model, loss_fn, optimizer, callbacks)\n",
    "print(learner)"
   ]
  },
  {
   "cell_type": "code",
   "execution_count": 12,
   "metadata": {},
   "outputs": [],
   "source": [
    "learner.fit(3)"
   ]
  },
  {
   "cell_type": "code",
   "execution_count": 13,
   "metadata": {},
   "outputs": [
    {
     "data": {
      "image/png": "[encoded data removed]",
      "text/plain": [
       "<Figure size 432x288 with 1 Axes>"
      ]
     },
     "metadata": {
      "needs_background": "light"
     },
     "output_type": "display_data"
    }
   ],
   "source": [
    "learner.callbacks[2].plot_losses()"
   ]
  },
  {
   "cell_type": "code",
   "execution_count": 14,
   "metadata": {},
   "outputs": [
    {
     "data": {
      "image/png": "[encoded data removed]",
      "text/plain": [
       "<Figure size 432x288 with 1 Axes>"
      ]
     },
     "metadata": {
      "needs_background": "light"
     },
     "output_type": "display_data"
    }
   ],
   "source": [
    "learner.callbacks[2].plot_parameter('learning_rate')"
   ]
  },
  {
   "cell_type": "code",
   "execution_count": null,
   "metadata": {},
   "outputs": [],
   "source": []
  }
 ],
 "metadata": {
  "kernelspec": {
   "display_name": "Python 3",
   "language": "python",
   "name": "python3"
  },
  "language_info": {
   "codemirror_mode": {
    "name": "ipython",
    "version": 3
   },
   "file_extension": ".py",
   "mimetype": "text/x-python",
   "name": "python",
   "nbconvert_exporter": "python",
   "pygments_lexer": "ipython3",
   "version": "3.7.6"
  }
 },
 "nbformat": 4,
 "nbformat_minor": 4
}

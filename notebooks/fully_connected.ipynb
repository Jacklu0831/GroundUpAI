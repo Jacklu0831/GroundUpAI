{
 "cells": [
  {
   "cell_type": "code",
   "execution_count": 1,
   "metadata": {},
   "outputs": [],
   "source": [
    "%load_ext autoreload\n",
    "%autoreload 2\n",
    "\n",
    "%matplotlib inline"
   ]
  },
  {
   "cell_type": "code",
   "execution_count": 2,
   "metadata": {},
   "outputs": [],
   "source": [
    "#export\n",
    "import sys\n",
    "from os.path import join\n",
    "import math\n",
    "\n",
    "sys.path.insert(1, join(sys.path[0], '..'))\n",
    "from generated.operations import *"
   ]
  },
  {
   "cell_type": "code",
   "execution_count": 3,
   "metadata": {},
   "outputs": [],
   "source": [
    "def lin(x, w, b): \n",
    "    return x @ w + b\n",
    "\n",
    "def lin_grad(inp, out, w, b):\n",
    "    inp.g = out.g @ w.t()\n",
    "    w.g = inp.t() @ out.g\n",
    "    b.g = out.g.sum(0)\n",
    "    \n",
    "def relu(x):\n",
    "    return x.clamp_min(0.) - 0.5\n",
    "\n",
    "def relu_grad(inp, out):\n",
    "    inp.g = (inp > 0).float() * out.g\n",
    "\n",
    "def Flatten(inp):\n",
    "    return inp.view(-1)    \n",
    "    \n",
    "def mse(pred, y):\n",
    "    return (pred.squeeze(-1) - y).pow(2).mean()\n",
    "\n",
    "def mse_grad(inp, tar):\n",
    "    inp.g = 2.*(inp.squeeze() - tar).unsqueeze(-1) / inp.shape[0]"
   ]
  },
  {
   "cell_type": "code",
   "execution_count": 4,
   "metadata": {},
   "outputs": [],
   "source": [
    "#export\n",
    "def he_init(m, n):\n",
    "    return torch.randn(m, n) * (2./m)**0.5\n",
    "\n",
    "def init(m, n, relu):\n",
    "    if relu:\n",
    "        return he_init(m, n)\n",
    "    return torch.randn(m, n) * (1./m)**0.5"
   ]
  },
  {
   "cell_type": "code",
   "execution_count": 5,
   "metadata": {},
   "outputs": [],
   "source": [
    "def forward_backward(inp, tar):\n",
    "    # forward\n",
    "    l1 = lin(inp, w1, b1)\n",
    "    l2 = relu(l1)\n",
    "    out = lin(l2, w2, b2)\n",
    "    loss = mse(out, tar)\n",
    "    # backward\n",
    "    mse_grad(out, tar)\n",
    "    lin_grad(l2, out, w2, b2)\n",
    "    relu_grad(l1, l2)\n",
    "    lin_grad(inp, l1, w1, b1)"
   ]
  },
  {
   "cell_type": "code",
   "execution_count": 6,
   "metadata": {},
   "outputs": [],
   "source": [
    "#export\n",
    "class Module():\n",
    "    def __call__(self, *args):\n",
    "        self.args = args\n",
    "        self.out = self.fwd(*args)\n",
    "        return self.out\n",
    "    \n",
    "    def forward(self):\n",
    "        raise Exception('not implemented')\n",
    "    \n",
    "    def backward(self):\n",
    "        self.bwd(self.out, *self.args)\n",
    "\n",
    "class ReLU(Module):\n",
    "    def fwd(self, inp):\n",
    "        return inp.clamp_min(0.) - 0.5\n",
    "    \n",
    "    def bwd(self, out, inp):\n",
    "        inp.g = (inp > 0).float() * out.g\n",
    "\n",
    "class Lin(Module):\n",
    "    def __init__(self, w, b):\n",
    "        self.w = w\n",
    "        self.b = b\n",
    "    \n",
    "    def fwd(self, inp):\n",
    "        return inp @ self.w + self.b\n",
    "    \n",
    "    def bwd(self, out, inp):\n",
    "        inp.g = out.g @ self.w.t()\n",
    "        self.w.g = inp.t() @ out.g\n",
    "        self.b.g = out.g.sum(0)\n",
    "\n",
    "class Flatten(Module):\n",
    "    def fwd(self,x): \n",
    "        return x.view(-1)\n",
    "    \n",
    "    def bwd(self):\n",
    "        pass\n",
    "    \n",
    "class Mse(Module):\n",
    "    def fwd(self, inp, tar):\n",
    "        return (inp.squeeze() - tar).pow(2).mean()\n",
    "    \n",
    "    def bwd(self, out, inp, tar):\n",
    "        inp.g = 2 * (inp.squeeze() - tar).unsqueeze(-1) / tar.shape[0]\n",
    "\n",
    "class Model():\n",
    "    def __init__(self, layers):\n",
    "        self.layers = layers\n",
    "        self.loss = Mse()\n",
    "    \n",
    "    def __call__(self, x, tar):\n",
    "        for layer in self.layers:\n",
    "            x = layer(x)\n",
    "        return self.loss(x, tar)\n",
    "    \n",
    "    def backward(self):\n",
    "        self.loss.backward()\n",
    "        for l in reversed(self.layers):\n",
    "            l.backward()"
   ]
  },
  {
   "cell_type": "code",
   "execution_count": 7,
   "metadata": {},
   "outputs": [],
   "source": [
    "x_train, y_train, x_valid, y_valid = get_mnist_data()\n",
    "x_train, x_valid = normalize_data(x_train, x_valid)\n",
    "\n",
    "nh = 50 # hidden cells\n",
    "(n, m), c = x_train.shape, y_train.max() + 1"
   ]
  },
  {
   "cell_type": "code",
   "execution_count": 8,
   "metadata": {},
   "outputs": [],
   "source": [
    "w1 = init(m, nh, True)\n",
    "b1 = torch.zeros(nh)\n",
    "w2 = init(nh, 1, False)\n",
    "b2 = torch.zeros(1)"
   ]
  },
  {
   "cell_type": "code",
   "execution_count": 9,
   "metadata": {},
   "outputs": [],
   "source": [
    "forward_backward(x_train, y_train)"
   ]
  },
  {
   "cell_type": "code",
   "execution_count": 10,
   "metadata": {},
   "outputs": [],
   "source": [
    "xt2 = x_train.clone().requires_grad_(True)\n",
    "w12 = w1.clone().requires_grad_(True)\n",
    "w22 = w2.clone().requires_grad_(True)\n",
    "b12 = b1.clone().requires_grad_(True)\n",
    "b22 = b2.clone().requires_grad_(True)\n",
    "\n",
    "model = Model([Lin(w12, b12), ReLU(), Lin(w22, b22)])\n",
    "loss = model(xt2, y_train)\n",
    "model.backward()\n",
    "\n",
    "test_near(w22.g, w2.g)\n",
    "test_near(b22.g, b2.g)\n",
    "test_near(w12.g, w1.g)\n",
    "test_near(b12.g, b1.g)\n",
    "test_near(xt2.g, x_train.g)"
   ]
  },
  {
   "cell_type": "code",
   "execution_count": 11,
   "metadata": {},
   "outputs": [],
   "source": [
    "xt3 = x_train.clone().requires_grad_(True)\n",
    "w13 = w1.clone().requires_grad_(True)\n",
    "w23 = w2.clone().requires_grad_(True)\n",
    "b13 = b1.clone().requires_grad_(True)\n",
    "b23 = b2.clone().requires_grad_(True)\n",
    "\n",
    "def forward(x, targ):\n",
    "    x = lin(x, w13, b13)\n",
    "    x = relu(x)\n",
    "    out = lin(x, w23, b23)\n",
    "    return mse(out, targ)\n",
    "\n",
    "loss = forward(xt3, y_train)\n",
    "loss.backward()\n",
    "\n",
    "test_near(w23.grad, w2.g)\n",
    "test_near(b23.grad, b2.g)\n",
    "test_near(w13.grad, w1.g)\n",
    "test_near(b13.grad, b1.g)\n",
    "test_near(xt3.grad, x_train.g)"
   ]
  },
  {
   "cell_type": "code",
   "execution_count": 12,
   "metadata": {},
   "outputs": [
    {
     "name": "stdout",
     "output_type": "stream",
     "text": [
      "Converted fully_connected.ipynb to ../generated/fully_connected.py\r\n"
     ]
    }
   ],
   "source": [
    "!python3 ../notebook2script.py fully_connected.ipynb"
   ]
  },
  {
   "cell_type": "code",
   "execution_count": null,
   "metadata": {},
   "outputs": [],
   "source": []
  }
 ],
 "metadata": {
  "kernelspec": {
   "display_name": "Python 3",
   "language": "python",
   "name": "python3"
  },
  "language_info": {
   "codemirror_mode": {
    "name": "ipython",
    "version": 3
   },
   "file_extension": ".py",
   "mimetype": "text/x-python",
   "name": "python",
   "nbconvert_exporter": "python",
   "pygments_lexer": "ipython3",
   "version": "3.7.6"
  }
 },
 "nbformat": 4,
 "nbformat_minor": 4
}

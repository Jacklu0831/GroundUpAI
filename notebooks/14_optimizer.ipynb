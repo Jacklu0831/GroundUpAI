{
 "cells": [
  {
   "cell_type": "markdown",
   "metadata": {},
   "source": [
    "# Optimizer"
   ]
  },
  {
   "cell_type": "code",
   "execution_count": 1,
   "metadata": {},
   "outputs": [],
   "source": [
    "%load_ext autoreload\n",
    "%autoreload 2\n",
    "\n",
    "%matplotlib inline"
   ]
  },
  {
   "cell_type": "code",
   "execution_count": 2,
   "metadata": {},
   "outputs": [],
   "source": [
    "#export\n",
    "import sys\n",
    "sys.path.insert(0, '/'.join(sys.path[0].split('/')[:-1] + ['scripts']))\n",
    "\n",
    "from sub_model import *"
   ]
  },
  {
   "cell_type": "code",
   "execution_count": 3,
   "metadata": {},
   "outputs": [],
   "source": [
    "#export\n",
    "class Optimizer():\n",
    "    def __init__(self, parameters, learning_rate):\n",
    "        '''Vanilla optimizer with basic methods.\n",
    "            parameters: model parameters\n",
    "            learning_rate: step size of each training iteration\n",
    "        '''\n",
    "        self.parameters, self.learning_rate = parameters, learning_rate\n",
    "        \n",
    "    def step(self):\n",
    "        for parameter in self.parameters:\n",
    "            parameter.step(self.learning_rate)\n",
    "    \n",
    "    def zero_grad(self):\n",
    "        for parameter in self.parameters:\n",
    "            parameter.zero_grad()\n",
    "    \n",
    "    def __repr__(self):\n",
    "        return f'(Optimizer) learning_rate: {self.learning_rate}'"
   ]
  },
  {
   "cell_type": "code",
   "execution_count": 4,
   "metadata": {},
   "outputs": [],
   "source": [
    "#export\n",
    "class DynamicOpt():\n",
    "    def __init__(self, parameters, **hyper_params):\n",
    "        '''Dynamic optimizer to allow multiple hyper parameters and param scheduling.\n",
    "            parameters: model parameters\n",
    "            hyper_params: dictionary of hyper parameters optimizer keeps track of\n",
    "        '''\n",
    "        self.parameters = parameters\n",
    "        self.hyper_params = dict(hyper_params)\n",
    "        \n",
    "    def step(self):\n",
    "        for parameter in self.parameters:\n",
    "            parameter.step(self.hyper_params['learning_rate'])\n",
    "    \n",
    "    def zero_grad(self):\n",
    "        for parameter in self.parameters:\n",
    "            parameter.zero_grad()\n",
    "    \n",
    "    def __repr__(self):\n",
    "        return f'(DynamicOpt) hyper_params: {list(self.hyper_params)}'"
   ]
  },
  {
   "cell_type": "markdown",
   "metadata": {},
   "source": [
    "# Tests"
   ]
  },
  {
   "cell_type": "code",
   "execution_count": 5,
   "metadata": {},
   "outputs": [
    {
     "name": "stdout",
     "output_type": "stream",
     "text": [
      "(Model)\n",
      "    Reshape(1, 28, 28)\n",
      "    Conv(1, 8, 5, 4)\n",
      "    ReLU()\n",
      "    Conv(8, 16, 3, 2)\n",
      "    Flatten()\n",
      "    Linear(256, 10)\n",
      "(Optimizer) learning_rate: 0.1\n"
     ]
    }
   ],
   "source": [
    "data_bunch = get_data_bunch(*get_mnist_data(), batch_size=64)\n",
    "model = get_conv_model(data_bunch)\n",
    "optimizer = Optimizer(list(model.parameters()), learning_rate=0.1)\n",
    "\n",
    "print(model)\n",
    "print(optimizer)"
   ]
  },
  {
   "cell_type": "code",
   "execution_count": 6,
   "metadata": {},
   "outputs": [
    {
     "name": "stdout",
     "output_type": "stream",
     "text": [
      "(Model)\n",
      "    Reshape(1, 28, 28)\n",
      "    Conv(1, 8, 5, 4)\n",
      "    ReLU()\n",
      "    Conv(8, 16, 3, 2)\n",
      "    Flatten()\n",
      "    Linear(256, 10)\n",
      "(DynamicOpt) hyper_params: ['learning_rate']\n"
     ]
    }
   ],
   "source": [
    "data_bunch = get_data_bunch(*get_mnist_data(), batch_size=64)\n",
    "model = get_conv_model(data_bunch)\n",
    "optimizer = DynamicOpt(list(model.parameters()), learning_rate=0.1)\n",
    "\n",
    "print(model)\n",
    "print(optimizer)"
   ]
  }
 ],
 "metadata": {
  "kernelspec": {
   "display_name": "Python 3",
   "language": "python",
   "name": "python3"
  },
  "language_info": {
   "codemirror_mode": {
    "name": "ipython",
    "version": 3
   },
   "file_extension": ".py",
   "mimetype": "text/x-python",
   "name": "python",
   "nbconvert_exporter": "python",
   "pygments_lexer": "ipython3",
   "version": "3.7.6"
  },
  "toc": {
   "base_numbering": 1,
   "nav_menu": {},
   "number_sections": true,
   "sideBar": true,
   "skip_h1_title": false,
   "title_cell": "Table of Contents",
   "title_sidebar": "Contents",
   "toc_cell": false,
   "toc_position": {},
   "toc_section_display": true,
   "toc_window_display": false
  }
 },
 "nbformat": 4,
 "nbformat_minor": 4
}

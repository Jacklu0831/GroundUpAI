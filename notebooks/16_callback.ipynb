{
 "cells": [
  {
   "cell_type": "markdown",
   "metadata": {},
   "source": [
    "# Callback"
   ]
  },
  {
   "cell_type": "code",
   "execution_count": 1,
   "metadata": {},
   "outputs": [],
   "source": [
    "%load_ext autoreload\n",
    "%autoreload 2\n",
    "\n",
    "%matplotlib inline"
   ]
  },
  {
   "cell_type": "code",
   "execution_count": 2,
   "metadata": {},
   "outputs": [],
   "source": [
    "#export\n",
    "import sys\n",
    "sys.path.insert(0, '/'.join(sys.path[0].split('/')[:-1] + ['scripts']))\n",
    "\n",
    "from training import *"
   ]
  },
  {
   "cell_type": "code",
   "execution_count": 3,
   "metadata": {},
   "outputs": [],
   "source": [
    "#export\n",
    "import re\n",
    "\n",
    "def camel2snake(name):\n",
    "    '''Camel case to snake case with regex.\n",
    "        name: name of callback\n",
    "    '''\n",
    "    camel_re1 = re.compile('(.)([A-Z][a-z]+)')\n",
    "    camel_re2 = re.compile('([a-z0-9])([A-Z])')\n",
    "    s1 = re.sub(camel_re1, r'\\1_\\2', name)\n",
    "    return re.sub(camel_re2, r'\\1_\\2', s1).lower()\n",
    "\n",
    "class Callback():\n",
    "    order = 0\n",
    "    \n",
    "    def __init__(self):\n",
    "        '''Callback class with order.'''\n",
    "        pass\n",
    "    \n",
    "    def __getattr__(self, k): \n",
    "        # delegate attribute checking to learner\n",
    "        return getattr(self.learner, k)\n",
    "\n",
    "    def set_learner(self, learner): self.learner = learner\n",
    "        \n",
    "    @property\n",
    "    def name(self):\n",
    "        return re.sub(r'Callback$', '', self.__class__.__name__) or 'callback'\n",
    "        \n",
    "    def __repr__(self): return f'(callback) {camel2snake(self.name)}'\n",
    "    \n",
    "    def __call__(self, cb_name):\n",
    "        fn = getattr(self, cb_name, None)\n",
    "        if fn and fn(): return True\n",
    "        return False"
   ]
  },
  {
   "cell_type": "code",
   "execution_count": 4,
   "metadata": {},
   "outputs": [
    {
     "name": "stdout",
     "output_type": "stream",
     "text": [
      "hello_world_my_name_is_jack\n"
     ]
    }
   ],
   "source": [
    "print(camel2snake('helloWorldMyNameIsJack'))"
   ]
  },
  {
   "cell_type": "code",
   "execution_count": 5,
   "metadata": {},
   "outputs": [],
   "source": [
    "#export\n",
    "class TrainEval(Callback):\n",
    "    def __init__(self):\n",
    "        '''Basic training and evaluation callback.'''\n",
    "        super().__init__()\n",
    "    \n",
    "    def before_train(self):\n",
    "        self.model.train()\n",
    "\n",
    "    def before_valid(self):\n",
    "        self.model.eval_()"
   ]
  },
  {
   "cell_type": "markdown",
   "metadata": {},
   "source": [
    "# Tests\n",
    "Refer to Learner.ipynb"
   ]
  },
  {
   "cell_type": "code",
   "execution_count": null,
   "metadata": {},
   "outputs": [],
   "source": []
  }
 ],
 "metadata": {
  "kernelspec": {
   "display_name": "Python 3",
   "language": "python",
   "name": "python3"
  },
  "language_info": {
   "codemirror_mode": {
    "name": "ipython",
    "version": 3
   },
   "file_extension": ".py",
   "mimetype": "text/x-python",
   "name": "python",
   "nbconvert_exporter": "python",
   "pygments_lexer": "ipython3",
   "version": "3.7.6"
  }
 },
 "nbformat": 4,
 "nbformat_minor": 4
}

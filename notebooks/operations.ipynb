{
 "cells": [
  {
   "cell_type": "code",
   "execution_count": 1,
   "metadata": {},
   "outputs": [],
   "source": [
    "%load_ext autoreload\n",
    "%autoreload 2\n",
    "\n",
    "%matplotlib inline"
   ]
  },
  {
   "cell_type": "code",
   "execution_count": 6,
   "metadata": {},
   "outputs": [],
   "source": [
    "#export\n",
    "from fastai import datasets\n",
    "from pathlib import Path\n",
    "import torch\n",
    "import gzip\n",
    "import pickle\n",
    "import matplotlib as mpl\n",
    "import matplotlib.pyplot as plt\n",
    "from torch import tensor\n",
    "import random\n",
    "import operator\n",
    "import os \n",
    "\n",
    "os.environ['KMP_DUPLICATE_LIB_OK']='True'"
   ]
  },
  {
   "cell_type": "code",
   "execution_count": 7,
   "metadata": {},
   "outputs": [],
   "source": [
    "#export\n",
    "mpl.rcParams['image.cmap'] = 'gray'\n",
    "\n",
    "def get_mnist_data():\n",
    "    return get_data('http://deeplearning.net/data/mnist/mnist.pkl')\n",
    "    \n",
    "def get_data(URL):\n",
    "    path = datasets.download_data(URL, ext='.gz')\n",
    "    with gzip.open(path, 'rb') as f:\n",
    "        ((x_train, y_train), (x_valid, y_valid), _) = pickle.load(f, encoding='latin-1')\n",
    "    x_train, y_train, x_valid, y_valid = map(tensor, (x_train, y_train, x_valid, y_valid))\n",
    "    return x_train.float(), y_train.float(), x_valid.float(), y_valid.float()\n",
    "\n",
    "def show_image(imgs):\n",
    "    img = random.choice(imgs)\n",
    "    if len(img.shape) == 1:\n",
    "        size = int(img.shape[0] ** 0.5)\n",
    "        shape = (size, size)\n",
    "    else:\n",
    "        shape = img.shape\n",
    "    plt.imshow(img.view(shape))"
   ]
  },
  {
   "cell_type": "code",
   "execution_count": 8,
   "metadata": {},
   "outputs": [],
   "source": [
    "#export\n",
    "def test(a, b, cmp, cname=None):\n",
    "    assert cmp(a, b), f\"{cname or cmp.__name__}: \\n{a}\\n{b}\"\n",
    "\n",
    "def near(a, b): \n",
    "    return torch.allclose(a, b, rtol=1e-3, atol=1e-5)\n",
    "\n",
    "def test_near(a, b): \n",
    "    test(a, b, near)\n",
    "\n",
    "def test_near_zero(a,tol=1e-3):\n",
    "    assert a.abs() < tol, f\"Near zero: {a}\""
   ]
  },
  {
   "cell_type": "code",
   "execution_count": 9,
   "metadata": {},
   "outputs": [],
   "source": [
    "#export\n",
    "def matmul_naive(a, b):\n",
    "    ar,ac = a.shape\n",
    "    br,bc = b.shape\n",
    "    assert ac==br\n",
    "    c = torch.zeros(ar, bc)\n",
    "    for i in range(ar):\n",
    "        for j in range(bc):\n",
    "            for k in range(ac): # or br\n",
    "                c[i,j] += a[i,k] * b[k,j]\n",
    "    return c\n",
    "\n",
    "def matmul_element(a, b):\n",
    "    ar,ac = a.shape\n",
    "    br,bc = b.shape\n",
    "    assert ac==br\n",
    "    c = torch.zeros(ar, bc)\n",
    "    for i in range(ar):\n",
    "        for j in range(bc):\n",
    "            c[i,j] = (a[i,:] * b[:,j]).sum()\n",
    "    return c\n",
    "\n",
    "def matmul_broadcast(a, b):\n",
    "    ar,ac = a.shape\n",
    "    br,bc = b.shape\n",
    "    assert ac==br\n",
    "    c = torch.zeros(ar, bc)\n",
    "    for i in range(ar):\n",
    "        c[i] = (a[i].unsqueeze(-1) * b).sum(dim=0)\n",
    "    return c\n",
    "\n",
    "def matmul_einsum(a, b): \n",
    "    return torch.einsum('ik,kj->ij', a, b)\n",
    "\n",
    "def matmul_torch(a, b):\n",
    "    return a@b"
   ]
  },
  {
   "cell_type": "code",
   "execution_count": 10,
   "metadata": {},
   "outputs": [],
   "source": [
    "#export\n",
    "def normalize(x, m=None, s=None):\n",
    "    m = m if m else x.mean()\n",
    "    s = s if s else x.std()\n",
    "    return (x-m)/s\n",
    "\n",
    "def normalize_data(x_train, x_valid):\n",
    "    m, s = x_train.mean(), x_train.std()\n",
    "    x_train, xv = normalize(x_train), normalize(x_valid, m, s)\n",
    "    return x_train, x_valid"
   ]
  },
  {
   "cell_type": "code",
   "execution_count": 11,
   "metadata": {},
   "outputs": [],
   "source": [
    "x_train, y_train, x_valid, y_valid = get_mnist_data()\n",
    "x_train, x_valid = normalize_data(x_train, x_valid)"
   ]
  },
  {
   "cell_type": "code",
   "execution_count": 12,
   "metadata": {},
   "outputs": [
    {
     "name": "stdout",
     "output_type": "stream",
     "text": [
      "CPU times: user 959 ms, sys: 4.76 ms, total: 964 ms\n",
      "Wall time: 967 ms\n",
      "CPU times: user 1.34 ms, sys: 89 µs, total: 1.43 ms\n",
      "Wall time: 1.4 ms\n",
      "CPU times: user 415 µs, sys: 76 µs, total: 491 µs\n",
      "Wall time: 450 µs\n",
      "CPU times: user 957 µs, sys: 425 µs, total: 1.38 ms\n",
      "Wall time: 1.24 ms\n",
      "CPU times: user 180 µs, sys: 75 µs, total: 255 µs\n",
      "Wall time: 213 µs\n"
     ]
    }
   ],
   "source": [
    "m1, m2 = x_valid[:5], torch.randn(784, 10)\n",
    "%time _ = matmul_naive(m1, m2)\n",
    "%time _ = matmul_element(m1, m2)\n",
    "%time _ = matmul_broadcast(m1, m2)\n",
    "%time _ = matmul_einsum(m1, m2)\n",
    "%time _ = matmul_torch(m1, m2) # now that's fast"
   ]
  },
  {
   "cell_type": "code",
   "execution_count": 13,
   "metadata": {
    "scrolled": true
   },
   "outputs": [
    {
     "data": {
      "image/png": "[encoded data removed]",
      "text/plain": [
       "<Figure size 432x288 with 1 Axes>"
      ]
     },
     "metadata": {
      "needs_background": "light"
     },
     "output_type": "display_data"
    }
   ],
   "source": [
    "show_image(x_train) # rerun to reselect images"
   ]
  },
  {
   "cell_type": "code",
   "execution_count": 14,
   "metadata": {},
   "outputs": [],
   "source": [
    "train_mean, train_std = x_train.mean(), x_train.std()\n",
    "test_near_zero(x_train.mean())\n",
    "test_near_zero(1 - x_train.std())"
   ]
  },
  {
   "cell_type": "code",
   "execution_count": 15,
   "metadata": {},
   "outputs": [
    {
     "name": "stdout",
     "output_type": "stream",
     "text": [
      "Converted operations.ipynb to ../generated/operations.py\r\n"
     ]
    }
   ],
   "source": [
    "!python3 ../notebook2script.py operations.ipynb"
   ]
  },
  {
   "cell_type": "code",
   "execution_count": null,
   "metadata": {},
   "outputs": [],
   "source": []
  }
 ],
 "metadata": {
  "kernelspec": {
   "display_name": "Python 3",
   "language": "python",
   "name": "python3"
  },
  "language_info": {
   "codemirror_mode": {
    "name": "ipython",
    "version": 3
   },
   "file_extension": ".py",
   "mimetype": "text/x-python",
   "name": "python",
   "nbconvert_exporter": "python",
   "pygments_lexer": "ipython3",
   "version": "3.7.6"
  }
 },
 "nbformat": 4,
 "nbformat_minor": 4
}

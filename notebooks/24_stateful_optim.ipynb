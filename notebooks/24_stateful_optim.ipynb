{
 "cells": [
  {
   "cell_type": "code",
   "execution_count": 1,
   "metadata": {},
   "outputs": [],
   "source": [
    "%load_ext autoreload\n",
    "%autoreload 2\n",
    "\n",
    "%matplotlib inline"
   ]
  },
  {
   "cell_type": "code",
   "execution_count": 2,
   "metadata": {},
   "outputs": [],
   "source": [
    "#export\n",
    "import sys\n",
    "sys.path.insert(0, '/'.join(sys.path[0].split('/')[:-1] + ['scripts']))\n",
    "\n",
    "from stateless_optim import *"
   ]
  },
  {
   "cell_type": "code",
   "execution_count": 3,
   "metadata": {},
   "outputs": [],
   "source": [
    "#export\n",
    "def compose_inplace(item, fns, **hyper_params):\n",
    "    for fn in fns:\n",
    "        fn(item, **hyper_params)"
   ]
  },
  {
   "cell_type": "code",
   "execution_count": 4,
   "metadata": {},
   "outputs": [],
   "source": [
    "#export\n",
    "def momentum_step(param, learning_rate, avg_grad, **kwargs):\n",
    "    param.data -= learning_rate * avg_grad"
   ]
  },
  {
   "cell_type": "code",
   "execution_count": 5,
   "metadata": {},
   "outputs": [],
   "source": [
    "#export\n",
    "class StatefulOpt():\n",
    "    def __init__(self, params, steppers=None, stats=None, **hyper_params):\n",
    "        self.params = [params] if isinstance(params, list) else [[params]]\n",
    "        self.steppers = steppers if steppers != None else [sgd_step]\n",
    "        self.stats = stats if stats != None else []\n",
    "        self.state = {}\n",
    "        self.hypers = [dict(hyper_params) for p in self.params]\n",
    "\n",
    "    def _grad_params(self):\n",
    "        return [(p, h) for ps, h in zip(self.params, self.hypers) for p in ps if p.grad != None]\n",
    "    \n",
    "    def step(self):\n",
    "        for p, hps in self._grad_params():\n",
    "            if p not in self.state:\n",
    "                self.state[p] = {}\n",
    "                for stat in self.stats:\n",
    "                    self.state[p].update(stat.init_state(p).items())\n",
    "            # update individual stat states\n",
    "            p_state = self.state[p]\n",
    "            for stat in self.stats:\n",
    "                p_state = stat.update_state(p, p_state, **hps)\n",
    "            # step\n",
    "            compose_inplace(p, self.steppers, **p_state, **hps)\n",
    "            self.state[p] = p_state\n",
    "\n",
    "    def zero_grad(self):\n",
    "        for hps in self.params: \n",
    "            for hp in hps:\n",
    "                hp.zero_grad()\n",
    "\n",
    "    def __repr__(self):\n",
    "        return f'(StatefulOpt) steppers: {[stepper.__name__ for stepper in self.steppers]}, stats: {[stat.__class__.__name__ for stat in self.stats]}'"
   ]
  },
  {
   "cell_type": "code",
   "execution_count": 6,
   "metadata": {},
   "outputs": [],
   "source": [
    "#export\n",
    "class Stat():    \n",
    "    def init_state(self, param): \n",
    "        raise NotImplementedError('Stat.init_state')\n",
    "        \n",
    "    def update_state(self, param, state, **kwargs): \n",
    "        raise NotImplementedError('Stat.update')\n",
    "\n",
    "class WeightedSumGrad(Stat):    \n",
    "    def init_state(self, param):\n",
    "        return {'avg_grad': torch.zeros_like(param.grad.data)}\n",
    "    \n",
    "    def update_state(self, param, state, mom, **kwargs):\n",
    "        state['avg_grad'] = weighted_sum(state['avg_grad'], param.grad, mom)\n",
    "        return state"
   ]
  },
  {
   "cell_type": "code",
   "execution_count": 7,
   "metadata": {},
   "outputs": [],
   "source": [
    "#export\n",
    "class StepCount(Stat):\n",
    "    def init_state(self,p): \n",
    "        return {'step': 0}\n",
    "    \n",
    "    def update_state(self, p, state, **kwargs):\n",
    "        state['step'] += 1\n",
    "        return state\n",
    "\n",
    "class ExpWeightedGrad(Stat):\n",
    "    # exponentially weighted moving avg of gradient\n",
    "    def __init__(self, dampening=False): \n",
    "        self.dampening = dampening\n",
    "    \n",
    "    def init_state(self, param): \n",
    "        return {'avg_grad': torch.zeros_like(param.grad.data)}\n",
    "    \n",
    "    def update_state(self, param, state, mom, **kwargs):\n",
    "        state['damp_mom'] = 1. - mom if self.dampening else 1. \n",
    "        state['avg_grad'].mul_(mom).add_(state['damp_mom'], param.grad.data)\n",
    "        return state\n",
    "\n",
    "class ExpWeightedSqrGrad(Stat):\n",
    "    def __init__(self, dampening=True):\n",
    "        self.dampening = dampening\n",
    "    \n",
    "    def init_state(self, param): \n",
    "        return {'sqr_avg_grad': torch.zeros_like(param.grad.data)}\n",
    "    \n",
    "    def update_state(self, param, state, sqr_mom, **kwargs):\n",
    "        state['sqr_damp_mom'] = 1. - sqr_mom if self.dampening else 1. \n",
    "        state['sqr_avg_grad'].mul_(sqr_mom).addcmul_(state['sqr_damp_mom'], param.grad.data, param.grad.data)\n",
    "        return state"
   ]
  },
  {
   "cell_type": "code",
   "execution_count": 8,
   "metadata": {},
   "outputs": [],
   "source": [
    "#export\n",
    "def debias(mom, damp, step): \n",
    "    return damp * (1. - mom**step) / (1. - mom)\n",
    "\n",
    "def adam(param, learning_rate, mom, damp_mom, step, sqr_mom, sqr_damp_mom, avg_grad, sqr_avg_grad, eps=1e-5, **kwargs):\n",
    "    debias1 = debias(mom,     damp_mom,     step)\n",
    "    debias2 = debias(sqr_mom, sqr_damp_mom, step)\n",
    "    param.data.addcdiv_(-learning_rate/debias1, avg_grad, (sqr_avg_grad/debias2).sqrt() + eps)    \n",
    "    return param\n",
    "\n",
    "def adam_opt(model, beta1=0.9, beta2=0.99, **kwargs):\n",
    "    return StatefulOpt(list(model.parameters()), [adam, l2_reg], \n",
    "                       [ExpWeightedGrad(True), ExpWeightedSqrGrad(), StepCount()],\n",
    "                       mom=beta1, sqr_mom=beta2, **kwargs)"
   ]
  },
  {
   "cell_type": "code",
   "execution_count": 9,
   "metadata": {},
   "outputs": [],
   "source": [
    "#export\n",
    "def lamb_step(param, learning_rate, mom, damp_mom, step, sqr_mom, sqr_damp_mom, avg_grad, sqr_avg_grad, weight_decay, eps=1e-5, **kwargs):\n",
    "    debias1 = debias(mom,     damp_mom,     step)\n",
    "    debias2 = debias(sqr_mom, sqr_damp_mom, step)\n",
    "    r1 = param.data.pow(2).mean().sqrt()\n",
    "    step = (avg_grad/debias1) / ((sqr_avg_grad/debias2).sqrt() + eps) + weight_decay*param.data\n",
    "    r2 = step.pow(2).mean().sqrt()\n",
    "    param.data.add_(-learning_rate * min(r1/r2, 10), step)\n",
    "    return param\n",
    "\n",
    "def lamb_opt(model, beta1=0.9, beta2=0.99, **kwargs):\n",
    "    return StatefulOpt(list(model.parameters()), [lamb_step], \n",
    "                       [ExpWeightedGrad(True), ExpWeightedSqrGrad(), StepCount()],\n",
    "                       mom=beta1, sqr_mom=beta2, **kwargs)"
   ]
  },
  {
   "cell_type": "markdown",
   "metadata": {},
   "source": [
    "## Try Momentum + Weight Decay"
   ]
  },
  {
   "cell_type": "code",
   "execution_count": 10,
   "metadata": {},
   "outputs": [
    {
     "name": "stdout",
     "output_type": "stream",
     "text": [
      "(DataBunch) \n",
      "    (DataLoader) \n",
      "        (Dataset) x: (50000, 784), y: (50000,)\n",
      "        (Sampler) total: 50000, batch_size: 64, shuffle: True\n",
      "    (DataLoader) \n",
      "        (Dataset) x: (10000, 784), y: (10000,)\n",
      "        (Sampler) total: 10000, batch_size: 128, shuffle: False\n",
      "(Model)\n",
      "    Linear(784, 50)\n",
      "    ReLU()\n",
      "    Linear(50, 10)\n",
      "(CrossEntropy)\n",
      "(StatefulOpt) steppers: ['l2_reg', 'sgd'], stats: ['WeightedSumGrad']\n",
      "(Callbacks) ['TrainEval', 'ParamScheduler', 'StatsLogging']\n"
     ]
    }
   ],
   "source": [
    "hyper_params = {'weight_decay':1e-4, 'learning_rate':0.001, 'mom':0.9}\n",
    "schedule = combine_schedules([0.4, 0.6], one_cycle_cos(0.01, 0.5, 0.01))\n",
    "\n",
    "data_bunch = get_data_bunch(*get_mnist_data(), batch_size=64)\n",
    "model = get_lin_model(data_bunch)\n",
    "optimizer = StatefulOpt(list(model.parameters()), steppers=[l2_reg, sgd], stats=[WeightedSumGrad()], **hyper_params)\n",
    "loss_fn = CrossEntropy()\n",
    "callbacks = [ParamScheduler('learning_rate', schedule), StatsLogging()]\n",
    "\n",
    "learner = Learner(data_bunch, model, loss_fn, optimizer, callbacks)\n",
    "print(learner)"
   ]
  },
  {
   "cell_type": "code",
   "execution_count": 11,
   "metadata": {},
   "outputs": [
    {
     "name": "stdout",
     "output_type": "stream",
     "text": [
      "Epoch - 1\n",
      "train metrics - [0.00028108856201171877, 0.88826]\n",
      "valid metrics - [1.8227243423461913e-05, 0.9633]\n",
      "\n",
      "Epoch - 2\n",
      "train metrics - [4.000959396362305e-06, 0.95636]\n",
      "valid metrics - [1.00006103515625e-05, 0.9684]\n",
      "\n",
      "Epoch - 3\n",
      "train metrics - [0.00015014328956604003, 0.966]\n",
      "valid metrics - [1.3134193420410156e-05, 0.9722]\n",
      "\n",
      "Epoch - 4\n",
      "train metrics - [2.1616554260253905e-06, 0.97036]\n",
      "valid metrics - [3.2955169677734375e-06, 0.9731]\n",
      "\n",
      "Epoch - 5\n",
      "train metrics - [2.049203872680664e-05, 0.97344]\n",
      "valid metrics - [2.381134033203125e-06, 0.9749]\n",
      "\n"
     ]
    }
   ],
   "source": [
    "learner.fit(5)"
   ]
  },
  {
   "cell_type": "markdown",
   "metadata": {},
   "source": [
    "## Try Adam + Weight Decay"
   ]
  },
  {
   "cell_type": "code",
   "execution_count": 12,
   "metadata": {},
   "outputs": [
    {
     "name": "stdout",
     "output_type": "stream",
     "text": [
      "(DataBunch) \n",
      "    (DataLoader) \n",
      "        (Dataset) x: (50000, 784), y: (50000,)\n",
      "        (Sampler) total: 50000, batch_size: 64, shuffle: True\n",
      "    (DataLoader) \n",
      "        (Dataset) x: (10000, 784), y: (10000,)\n",
      "        (Sampler) total: 10000, batch_size: 128, shuffle: False\n",
      "(Model)\n",
      "    Linear(784, 50)\n",
      "    ReLU()\n",
      "    Linear(50, 10)\n",
      "(CrossEntropy)\n",
      "(StatefulOpt) steppers: ['adam', 'l2_reg'], stats: ['ExpWeightedGrad', 'ExpWeightedSqrGrad', 'StepCount']\n",
      "(Callbacks) ['TrainEval', 'ParamScheduler', 'StatsLogging', 'Recorder']\n"
     ]
    }
   ],
   "source": [
    "hyper_params = {'learning_rate':0.001, 'weight_decay':1e-4}\n",
    "schedule = combine_schedules([0.4, 0.6], one_cycle_cos(0.0001, 0.003, 0.0001))\n",
    "\n",
    "data_bunch = get_data_bunch(*get_mnist_data(), batch_size=64)\n",
    "model = get_lin_model(data_bunch)\n",
    "loss_fn = CrossEntropy()\n",
    "optimizer = adam_opt(model, **hyper_params)\n",
    "callbacks = [ParamScheduler('learning_rate', schedule), StatsLogging(), Recorder()]\n",
    "\n",
    "learner = Learner(data_bunch, model, loss_fn, optimizer, callbacks)\n",
    "print(learner)"
   ]
  },
  {
   "cell_type": "code",
   "execution_count": 13,
   "metadata": {},
   "outputs": [
    {
     "name": "stdout",
     "output_type": "stream",
     "text": [
      "Epoch - 1\n",
      "train metrics - [1.8053569793701172e-05, 0.85898]\n",
      "valid metrics - [3.791632652282715e-05, 0.959]\n",
      "\n",
      "Epoch - 2\n",
      "train metrics - [2.90731143951416e-05, 0.95446]\n",
      "valid metrics - [2.0032882690429688e-05, 0.9703]\n",
      "\n",
      "Epoch - 3\n",
      "train metrics - [6.13229751586914e-05, 0.9634]\n",
      "valid metrics - [1.1788225173950195e-05, 0.9698]\n",
      "\n",
      "Epoch - 4\n",
      "train metrics - [5.3541851043701175e-06, 0.96956]\n",
      "valid metrics - [4.039287567138672e-06, 0.9722]\n",
      "\n",
      "Epoch - 5\n",
      "train metrics - [1.6351699829101563e-07, 0.97354]\n",
      "valid metrics - [2.5911331176757813e-06, 0.9719]\n",
      "\n"
     ]
    }
   ],
   "source": [
    "learner.fit(5)"
   ]
  },
  {
   "cell_type": "code",
   "execution_count": 14,
   "metadata": {},
   "outputs": [
    {
     "data": {
      "image/png": "[encoded data removed]",
      "text/plain": [
       "<Figure size 432x288 with 1 Axes>"
      ]
     },
     "metadata": {
      "needs_background": "light"
     },
     "output_type": "display_data"
    }
   ],
   "source": [
    "learner.callbacks[3].plot_losses()"
   ]
  },
  {
   "cell_type": "markdown",
   "metadata": {},
   "source": [
    "## Try LAMB"
   ]
  },
  {
   "cell_type": "code",
   "execution_count": 15,
   "metadata": {},
   "outputs": [
    {
     "name": "stdout",
     "output_type": "stream",
     "text": [
      "(DataBunch) \n",
      "    (DataLoader) \n",
      "        (Dataset) x: (50000, 784), y: (50000,)\n",
      "        (Sampler) total: 50000, batch_size: 64, shuffle: True\n",
      "    (DataLoader) \n",
      "        (Dataset) x: (10000, 784), y: (10000,)\n",
      "        (Sampler) total: 10000, batch_size: 128, shuffle: False\n",
      "(Model)\n",
      "    Linear(784, 50)\n",
      "    ReLU()\n",
      "    Linear(50, 10)\n",
      "(CrossEntropy)\n",
      "(StatefulOpt) steppers: ['lamb_step'], stats: ['ExpWeightedGrad', 'ExpWeightedSqrGrad', 'StepCount']\n",
      "(Callbacks) ['TrainEval', 'ParamScheduler', 'StatsLogging', 'Recorder']\n"
     ]
    }
   ],
   "source": [
    "hyper_params = {'weight_decay':1e-4, 'learning_rate':0.001}\n",
    "schedule = combine_schedules([0.4, 0.6], one_cycle_cos(0.0001, 0.003, 0.0001))\n",
    "\n",
    "data_bunch = get_data_bunch(*get_mnist_data(), batch_size=64)\n",
    "model = get_lin_model(data_bunch)\n",
    "loss_fn = CrossEntropy()\n",
    "optimizer = lamb_opt(model, **hyper_params)\n",
    "callbacks = [ParamScheduler('learning_rate', schedule), StatsLogging(), Recorder()]\n",
    "\n",
    "learner = Learner(data_bunch, model, loss_fn, optimizer, callbacks)\n",
    "print(learner)"
   ]
  },
  {
   "cell_type": "code",
   "execution_count": 16,
   "metadata": {},
   "outputs": [
    {
     "name": "stdout",
     "output_type": "stream",
     "text": [
      "Epoch - 1\n",
      "train metrics - [3.1355996131896974e-05, 0.77714]\n",
      "valid metrics - [0.00012791762351989746, 0.947]\n",
      "\n",
      "Epoch - 2\n",
      "train metrics - [1.0095691680908203e-05, 0.94534]\n",
      "valid metrics - [5.886983871459961e-05, 0.9621]\n",
      "\n",
      "Epoch - 3\n",
      "train metrics - [2.003335952758789e-05, 0.95894]\n",
      "valid metrics - [4.677410125732422e-05, 0.9654]\n",
      "\n",
      "Epoch - 4\n",
      "train metrics - [9.08242130279541e-05, 0.96594]\n",
      "valid metrics - [3.3396291732788084e-05, 0.9691]\n",
      "\n",
      "Epoch - 5\n",
      "train metrics - [4.072021961212158e-05, 0.97088]\n",
      "valid metrics - [1.6801071166992188e-05, 0.9692]\n",
      "\n"
     ]
    }
   ],
   "source": [
    "learner.fit(5)"
   ]
  },
  {
   "cell_type": "code",
   "execution_count": 17,
   "metadata": {},
   "outputs": [
    {
     "data": {
      "image/png": "[encoded data removed]",
      "text/plain": [
       "<Figure size 432x288 with 1 Axes>"
      ]
     },
     "metadata": {
      "needs_background": "light"
     },
     "output_type": "display_data"
    }
   ],
   "source": [
    "learner.callbacks[3].plot_losses()"
   ]
  },
  {
   "cell_type": "code",
   "execution_count": null,
   "metadata": {},
   "outputs": [],
   "source": []
  }
 ],
 "metadata": {
  "kernelspec": {
   "display_name": "Python 3",
   "language": "python",
   "name": "python3"
  },
  "language_info": {
   "codemirror_mode": {
    "name": "ipython",
    "version": 3
   },
   "file_extension": ".py",
   "mimetype": "text/x-python",
   "name": "python",
   "nbconvert_exporter": "python",
   "pygments_lexer": "ipython3",
   "version": "3.7.6"
  }
 },
 "nbformat": 4,
 "nbformat_minor": 4
}

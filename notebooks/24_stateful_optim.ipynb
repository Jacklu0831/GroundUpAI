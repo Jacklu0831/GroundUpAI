{
 "cells": [
  {
   "cell_type": "markdown",
   "metadata": {},
   "source": [
    "# Stateful Optimizer"
   ]
  },
  {
   "cell_type": "code",
   "execution_count": 1,
   "metadata": {},
   "outputs": [],
   "source": [
    "%load_ext autoreload\n",
    "%autoreload 2\n",
    "\n",
    "%matplotlib inline"
   ]
  },
  {
   "cell_type": "code",
   "execution_count": 2,
   "metadata": {},
   "outputs": [],
   "source": [
    "#export\n",
    "import sys\n",
    "sys.path.insert(0, '/'.join(sys.path[0].split('/')[:-1] + ['scripts']))\n",
    "\n",
    "from stateless_optim import *"
   ]
  },
  {
   "cell_type": "code",
   "execution_count": 3,
   "metadata": {},
   "outputs": [],
   "source": [
    "#export\n",
    "def momentum_step(param, learning_rate, avg_grad, **kwargs):\n",
    "    '''Momentum Stepping Function.'''\n",
    "    param.data -= learning_rate * avg_grad"
   ]
  },
  {
   "cell_type": "code",
   "execution_count": 4,
   "metadata": {},
   "outputs": [],
   "source": [
    "#export\n",
    "class StatefulOpt():\n",
    "    def __init__(self, params, steppers=None, stats=None, **hyper_params):\n",
    "        '''Improved StatelessOpt by allowing past hyperparameters values to be stored in states.\n",
    "            steppers: list of stepper functions\n",
    "            stats: internal optimizer stats (ex. average gradient of parameters)\n",
    "        '''\n",
    "        self.params = [params] if isinstance(params, list) else [[params]]\n",
    "        self.steppers = steppers if steppers != None else [sgd_step]\n",
    "        self.stats = stats if stats != None else []\n",
    "        self.state = {}\n",
    "        self.hypers = [dict(hyper_params) for p in self.params]\n",
    "\n",
    "    def _grad_params(self):\n",
    "        return [(p, h) for ps, h in zip(self.params, self.hypers) for p in ps if p.grad != None]\n",
    "    \n",
    "    def step(self):\n",
    "        for p, hps in self._grad_params():\n",
    "            if p not in self.state:\n",
    "                self.state[p] = {}\n",
    "                for stat in self.stats:\n",
    "                    self.state[p].update(stat.init_state(p).items())\n",
    "            # update individual stat states\n",
    "            p_state = self.state[p]\n",
    "            for stat in self.stats:\n",
    "                p_state = stat.update_state(p, p_state, **hps)\n",
    "            # step\n",
    "            compose_inplace(p, self.steppers, **p_state, **hps)\n",
    "            self.state[p] = p_state\n",
    "\n",
    "    def zero_grad(self):\n",
    "        for hps in self.params: \n",
    "            for hp in hps:\n",
    "                hp.zero_grad()\n",
    "\n",
    "    def __repr__(self):\n",
    "        return f'(StatefulOpt) steppers: {[stepper.__name__ for stepper in self.steppers]}, stats: {[stat.__class__.__name__ for stat in self.stats]}'"
   ]
  },
  {
   "cell_type": "code",
   "execution_count": 5,
   "metadata": {},
   "outputs": [],
   "source": [
    "#export\n",
    "class Stat():\n",
    "    def __init__(self):\n",
    "        '''Class for keeping track of measurement.'''\n",
    "        pass\n",
    "    \n",
    "    def init_state(self, param): \n",
    "        raise NotImplementedError('Stat.init_state')\n",
    "        \n",
    "    def update_state(self, param, state, **kwargs): \n",
    "        raise NotImplementedError('Stat.update')\n",
    "\n",
    "class WeightedSumGrad(Stat):\n",
    "    def __init__(self):\n",
    "        '''Weighted gradient measurement.'''\n",
    "        pass\n",
    "    \n",
    "    def init_state(self, param):\n",
    "        return {'avg_grad': torch.zeros_like(param.grad.data)}\n",
    "    \n",
    "    def update_state(self, param, state, mom, **kwargs):\n",
    "        state['avg_grad'] = weighted_sum(state['avg_grad'], param.grad, mom)\n",
    "        return state"
   ]
  },
  {
   "cell_type": "code",
   "execution_count": 6,
   "metadata": {},
   "outputs": [],
   "source": [
    "#export\n",
    "class StepCount(Stat):\n",
    "    def __init__(self):\n",
    "        '''Simple measurement to keep track of how many updates were done.'''\n",
    "        pass\n",
    "    \n",
    "    def init_state(self,p): \n",
    "        return {'step': 0}\n",
    "    \n",
    "    def update_state(self, p, state, **kwargs):\n",
    "        state['step'] += 1\n",
    "        return state\n",
    "\n",
    "class ExpWeightedGrad(Stat):\n",
    "    def __init__(self, dampening=False): \n",
    "        '''Exponentially weighted moving avg of gradient.'''\n",
    "        self.dampening = dampening\n",
    "    \n",
    "    def init_state(self, param): \n",
    "        return {'avg_grad': torch.zeros_like(param.grad.data)}\n",
    "    \n",
    "    def update_state(self, param, state, mom, **kwargs):\n",
    "        state['damp_mom'] = 1. - mom if self.dampening else 1. \n",
    "        state['avg_grad'].mul_(mom).add_(state['damp_mom'], param.grad.data)\n",
    "        return state\n",
    "\n",
    "class ExpWeightedSqrGrad(Stat):\n",
    "    def __init__(self, dampening=True):\n",
    "        '''Exponentially weighted moving avg of squared gradient.'''\n",
    "        self.dampening = dampening\n",
    "    \n",
    "    def init_state(self, param): \n",
    "        return {'sqr_avg_grad': torch.zeros_like(param.grad.data)}\n",
    "    \n",
    "    def update_state(self, param, state, sqr_mom, **kwargs):\n",
    "        state['sqr_damp_mom'] = 1. - sqr_mom if self.dampening else 1. \n",
    "        state['sqr_avg_grad'].mul_(sqr_mom).addcmul_(state['sqr_damp_mom'], param.grad.data, param.grad.data)\n",
    "        return state"
   ]
  },
  {
   "cell_type": "code",
   "execution_count": 7,
   "metadata": {},
   "outputs": [],
   "source": [
    "#export\n",
    "def debias(mom, damp, step): \n",
    "    '''Util function to compute the debias coefficient for adam optimizer.'''\n",
    "    return damp * (1. - mom**step) / (1. - mom)\n",
    "\n",
    "def adam(param, learning_rate, mom, damp_mom, step, sqr_mom, sqr_damp_mom, avg_grad, sqr_avg_grad, eps=1e-5, **kwargs):\n",
    "    '''Adam optimizer stepper (for details: https://arxiv.org/abs/1412.6980).\n",
    "        mom: momentum for avg\n",
    "        damp_mom: damping parameter for mom\n",
    "        step: number of steps taken by optimizer\n",
    "        sqr_mom: momentum for sqr avg grad\n",
    "        sqr_damp_mom: damping parameter for sqr_mom\n",
    "        avg_grad: average (momentum weighted) past gradient of parameter\n",
    "        sqr_avg_grad: average (momentum weight) past squared gradient of parameter\n",
    "    '''\n",
    "    debias1 = debias(mom,     damp_mom,     step)\n",
    "    debias2 = debias(sqr_mom, sqr_damp_mom, step)\n",
    "    param.data.addcdiv_(-learning_rate/debias1, avg_grad, (sqr_avg_grad/debias2).sqrt() + eps)    \n",
    "    return param\n",
    "\n",
    "def adam_opt(model, beta1=0.9, beta2=0.99, **kwargs):\n",
    "    '''Util function to get adam optimizer.'''\n",
    "    return StatefulOpt(list(model.parameters()), [adam, l2_reg], \n",
    "                       [ExpWeightedGrad(True), ExpWeightedSqrGrad(), StepCount()],\n",
    "                       mom=beta1, sqr_mom=beta2, **kwargs)"
   ]
  },
  {
   "cell_type": "code",
   "execution_count": 8,
   "metadata": {},
   "outputs": [],
   "source": [
    "#export\n",
    "def lamb_step(param, learning_rate, mom, damp_mom, step, sqr_mom, sqr_damp_mom, avg_grad, sqr_avg_grad, weight_decay, eps=1e-5, **kwargs):\n",
    "    '''LAMB optimizer stepper (https://arxiv.org/abs/1904.00962).\n",
    "        mom: momentum for avg\n",
    "        damp_mom: damping parameter for mom\n",
    "        step: number of steps taken by optimizer\n",
    "        sqr_mom: momentum for sqr avg grad\n",
    "        sqr_damp_mom: damping parameter for sqr_mom\n",
    "        avg_grad: average (momentum weighted) past gradient of parameter\n",
    "        sqr_avg_grad: average (momentum weight) past squared gradient of parameter\n",
    "        weight_decay: weight decay parameter (from L2 regularization)\n",
    "        eps: small epsilon value to prevent gradient explosion\n",
    "    '''\n",
    "    debias1 = debias(mom,     damp_mom,     step)\n",
    "    debias2 = debias(sqr_mom, sqr_damp_mom, step)\n",
    "    r1 = param.data.pow(2).mean().sqrt()\n",
    "    step = (avg_grad/debias1) / ((sqr_avg_grad/debias2).sqrt() + eps) + weight_decay*param.data\n",
    "    r2 = step.pow(2).mean().sqrt()\n",
    "    param.data.add_(-learning_rate * min(r1/r2, 10), step)\n",
    "    return param\n",
    "\n",
    "def lamb_opt(model, beta1=0.9, beta2=0.99, **kwargs):\n",
    "    '''Util function to get LAMB optimizer.'''\n",
    "    return StatefulOpt(list(model.parameters()), [lamb_step], \n",
    "                       [ExpWeightedGrad(True), ExpWeightedSqrGrad(), StepCount()],\n",
    "                       mom=beta1, sqr_mom=beta2, **kwargs)"
   ]
  },
  {
   "cell_type": "markdown",
   "metadata": {},
   "source": [
    "# Tests"
   ]
  },
  {
   "cell_type": "markdown",
   "metadata": {},
   "source": [
    "### Try Momentum + Weight Decay"
   ]
  },
  {
   "cell_type": "code",
   "execution_count": 9,
   "metadata": {},
   "outputs": [
    {
     "name": "stdout",
     "output_type": "stream",
     "text": [
      "(DataBunch) \n",
      "    (DataLoader) \n",
      "        (Dataset) x: (50000, 784), y: (50000,)\n",
      "        (Sampler) total: 50000, batch_size: 64, shuffle: True\n",
      "    (DataLoader) \n",
      "        (Dataset) x: (10000, 784), y: (10000,)\n",
      "        (Sampler) total: 10000, batch_size: 128, shuffle: False\n",
      "(Model)\n",
      "    Linear(784, 50)\n",
      "    ReLU()\n",
      "    Linear(50, 10)\n",
      "(CrossEntropy)\n",
      "(StatefulOpt) steppers: ['l2_reg', 'sgd'], stats: ['WeightedSumGrad']\n",
      "(Callbacks) ['TrainEval', 'ParamScheduler', 'StatsLogging']\n"
     ]
    }
   ],
   "source": [
    "hyper_params = {'weight_decay':1e-4, 'learning_rate':0.001, 'mom':0.9}\n",
    "schedule = combine_schedules([0.4, 0.6], one_cycle_cos(0.01, 0.5, 0.01))\n",
    "\n",
    "data_bunch = get_data_bunch(*get_mnist_data(), batch_size=64)\n",
    "model = get_lin_model(data_bunch)\n",
    "optimizer = StatefulOpt(list(model.parameters()), steppers=[l2_reg, sgd], stats=[WeightedSumGrad()], **hyper_params)\n",
    "loss_fn = CrossEntropy()\n",
    "callbacks = [ParamScheduler('learning_rate', schedule), StatsLogging()]\n",
    "\n",
    "learner = Learner(data_bunch, model, loss_fn, optimizer, callbacks)\n",
    "print(learner)"
   ]
  },
  {
   "cell_type": "code",
   "execution_count": 10,
   "metadata": {},
   "outputs": [
    {
     "name": "stdout",
     "output_type": "stream",
     "text": [
      "Epoch - 1\n",
      "train metrics - [8.678611755371094e-05, 0.88266]\n",
      "valid metrics - [9.483480453491211e-06, 0.9662]\n",
      "\n",
      "Epoch - 2\n",
      "train metrics - [4.987874031066895e-05, 0.95948]\n",
      "valid metrics - [6.599998474121094e-06, 0.9704]\n",
      "\n",
      "Epoch - 3\n",
      "train metrics - [0.00020117170333862304, 0.96694]\n",
      "valid metrics - [2.579975128173828e-06, 0.9697]\n",
      "\n",
      "Epoch - 4\n",
      "train metrics - [0.00010209306716918945, 0.97164]\n",
      "valid metrics - [4.142093658447266e-06, 0.9734]\n",
      "\n",
      "Epoch - 5\n",
      "train metrics - [9.567150115966796e-05, 0.9738]\n",
      "valid metrics - [2.089881896972656e-06, 0.9736]\n",
      "\n"
     ]
    }
   ],
   "source": [
    "learner.fit(5)"
   ]
  },
  {
   "cell_type": "markdown",
   "metadata": {},
   "source": [
    "### Try Adam + Weight Decay"
   ]
  },
  {
   "cell_type": "code",
   "execution_count": 11,
   "metadata": {},
   "outputs": [
    {
     "name": "stdout",
     "output_type": "stream",
     "text": [
      "(DataBunch) \n",
      "    (DataLoader) \n",
      "        (Dataset) x: (50000, 784), y: (50000,)\n",
      "        (Sampler) total: 50000, batch_size: 64, shuffle: True\n",
      "    (DataLoader) \n",
      "        (Dataset) x: (10000, 784), y: (10000,)\n",
      "        (Sampler) total: 10000, batch_size: 128, shuffle: False\n",
      "(Model)\n",
      "    Linear(784, 50)\n",
      "    ReLU()\n",
      "    Linear(50, 10)\n",
      "(CrossEntropy)\n",
      "(StatefulOpt) steppers: ['adam', 'l2_reg'], stats: ['ExpWeightedGrad', 'ExpWeightedSqrGrad', 'StepCount']\n",
      "(Callbacks) ['TrainEval', 'ParamScheduler', 'StatsLogging', 'Recorder']\n"
     ]
    }
   ],
   "source": [
    "hyper_params = {'learning_rate':0.001, 'weight_decay':1e-4}\n",
    "schedule = combine_schedules([0.4, 0.6], one_cycle_cos(0.0001, 0.003, 0.0001))\n",
    "\n",
    "data_bunch = get_data_bunch(*get_mnist_data(), batch_size=64)\n",
    "model = get_lin_model(data_bunch)\n",
    "loss_fn = CrossEntropy()\n",
    "optimizer = adam_opt(model, **hyper_params)\n",
    "callbacks = [ParamScheduler('learning_rate', schedule), StatsLogging(), Recorder()]\n",
    "\n",
    "learner = Learner(data_bunch, model, loss_fn, optimizer, callbacks)\n",
    "print(learner)"
   ]
  },
  {
   "cell_type": "code",
   "execution_count": 12,
   "metadata": {},
   "outputs": [
    {
     "name": "stdout",
     "output_type": "stream",
     "text": [
      "Epoch - 1\n",
      "train metrics - [1.1998071670532227e-05, 0.86358]\n",
      "valid metrics - [3.2520294189453126e-05, 0.9577]\n",
      "\n",
      "Epoch - 2\n",
      "train metrics - [2.7314167022705077e-05, 0.95508]\n",
      "valid metrics - [5.349588394165039e-06, 0.968]\n",
      "\n",
      "Epoch - 3\n",
      "train metrics - [1.4609241485595703e-06, 0.96588]\n",
      "valid metrics - [2.9569625854492188e-06, 0.9704]\n",
      "\n",
      "Epoch - 4\n",
      "train metrics - [3.53607177734375e-06, 0.9715]\n",
      "valid metrics - [1.604175567626953e-06, 0.971]\n",
      "\n",
      "Epoch - 5\n",
      "train metrics - [6.957721710205078e-06, 0.97534]\n",
      "valid metrics - [2.2681236267089842e-06, 0.9729]\n",
      "\n"
     ]
    }
   ],
   "source": [
    "learner.fit(5)"
   ]
  },
  {
   "cell_type": "code",
   "execution_count": 13,
   "metadata": {},
   "outputs": [
    {
     "data": {
      "image/png": "[encoded data removed]",
      "text/plain": [
       "<Figure size 432x288 with 1 Axes>"
      ]
     },
     "metadata": {
      "needs_background": "light"
     },
     "output_type": "display_data"
    }
   ],
   "source": [
    "learner.callbacks[3].plot_losses()"
   ]
  },
  {
   "cell_type": "markdown",
   "metadata": {},
   "source": [
    "### Try LAMB"
   ]
  },
  {
   "cell_type": "code",
   "execution_count": 14,
   "metadata": {},
   "outputs": [
    {
     "name": "stdout",
     "output_type": "stream",
     "text": [
      "(DataBunch) \n",
      "    (DataLoader) \n",
      "        (Dataset) x: (50000, 784), y: (50000,)\n",
      "        (Sampler) total: 50000, batch_size: 64, shuffle: True\n",
      "    (DataLoader) \n",
      "        (Dataset) x: (10000, 784), y: (10000,)\n",
      "        (Sampler) total: 10000, batch_size: 128, shuffle: False\n",
      "(Model)\n",
      "    Linear(784, 50)\n",
      "    ReLU()\n",
      "    Linear(50, 10)\n",
      "(CrossEntropy)\n",
      "(StatefulOpt) steppers: ['lamb_step'], stats: ['ExpWeightedGrad', 'ExpWeightedSqrGrad', 'StepCount']\n",
      "(Callbacks) ['TrainEval', 'ParamScheduler', 'StatsLogging', 'Recorder']\n"
     ]
    }
   ],
   "source": [
    "hyper_params = {'weight_decay':1e-4, 'learning_rate':0.001}\n",
    "schedule = combine_schedules([0.4, 0.6], one_cycle_cos(0.0001, 0.003, 0.0001))\n",
    "\n",
    "data_bunch = get_data_bunch(*get_mnist_data(), batch_size=64)\n",
    "model = get_lin_model(data_bunch)\n",
    "loss_fn = CrossEntropy()\n",
    "optimizer = lamb_opt(model, **hyper_params)\n",
    "callbacks = [ParamScheduler('learning_rate', schedule), StatsLogging(), Recorder()]\n",
    "\n",
    "learner = Learner(data_bunch, model, loss_fn, optimizer, callbacks)\n",
    "print(learner)"
   ]
  },
  {
   "cell_type": "code",
   "execution_count": 15,
   "metadata": {},
   "outputs": [
    {
     "name": "stdout",
     "output_type": "stream",
     "text": [
      "Epoch - 1\n",
      "train metrics - [0.00013985222816467285, 0.76514]\n",
      "valid metrics - [0.00010092415809631348, 0.9393]\n",
      "\n",
      "Epoch - 2\n",
      "train metrics - [5.3280801773071287e-05, 0.9388]\n",
      "valid metrics - [5.575425624847412e-05, 0.9545]\n",
      "\n",
      "Epoch - 3\n",
      "train metrics - [4.264811515808106e-05, 0.95444]\n",
      "valid metrics - [3.352808952331543e-05, 0.9625]\n",
      "\n",
      "Epoch - 4\n",
      "train metrics - [0.0001719019317626953, 0.96278]\n",
      "valid metrics - [2.134218215942383e-05, 0.9668]\n",
      "\n",
      "Epoch - 5\n",
      "train metrics - [5.2276577949523924e-05, 0.9681]\n",
      "valid metrics - [2.254796028137207e-05, 0.9691]\n",
      "\n"
     ]
    }
   ],
   "source": [
    "learner.fit(5)"
   ]
  },
  {
   "cell_type": "code",
   "execution_count": 16,
   "metadata": {},
   "outputs": [
    {
     "data": {
      "image/png": "[encoded data removed]",
      "text/plain": [
       "<Figure size 432x288 with 1 Axes>"
      ]
     },
     "metadata": {
      "needs_background": "light"
     },
     "output_type": "display_data"
    }
   ],
   "source": [
    "learner.callbacks[3].plot_losses()"
   ]
  },
  {
   "cell_type": "code",
   "execution_count": null,
   "metadata": {},
   "outputs": [],
   "source": []
  }
 ],
 "metadata": {
  "kernelspec": {
   "display_name": "Python 3",
   "language": "python",
   "name": "python3"
  },
  "language_info": {
   "codemirror_mode": {
    "name": "ipython",
    "version": 3
   },
   "file_extension": ".py",
   "mimetype": "text/x-python",
   "name": "python",
   "nbconvert_exporter": "python",
   "pygments_lexer": "ipython3",
   "version": "3.7.6"
  }
 },
 "nbformat": 4,
 "nbformat_minor": 4
}

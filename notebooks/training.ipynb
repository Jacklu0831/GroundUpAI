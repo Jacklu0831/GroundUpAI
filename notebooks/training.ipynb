{
 "cells": [
  {
   "cell_type": "code",
   "execution_count": 1,
   "metadata": {},
   "outputs": [],
   "source": [
    "%load_ext autoreload\n",
    "%autoreload 2\n",
    "\n",
    "%matplotlib inline"
   ]
  },
  {
   "cell_type": "code",
   "execution_count": 2,
   "metadata": {},
   "outputs": [],
   "source": [
    "#export\n",
    "import sys\n",
    "from os.path import join\n",
    "import math\n",
    "import matplotlib.pyplot as plt\n",
    "\n",
    "sys.path.insert(0, '/'.join(sys.path[0].split('/')[:-1] + ['scripts']))\n",
    "from operations import *\n",
    "from sequential_model import *"
   ]
  },
  {
   "cell_type": "code",
   "execution_count": 3,
   "metadata": {},
   "outputs": [],
   "source": [
    "#export\n",
    "class Dataset():\n",
    "    def __init__(self, x_data, y_data):\n",
    "        self.x_data = x_data\n",
    "        self.y_data = y_data\n",
    "    \n",
    "    def __repr__(self):\n",
    "        return f'(Dataset) x: {tuple(self.x_data.shape)}, y: {tuple(self.y_data.shape)}'\n",
    "    \n",
    "    def __len__(self):\n",
    "        return len(self.x_data)\n",
    "    \n",
    "    def __getitem__(self, i):\n",
    "        return self.x_data[i], self.y_data[i]"
   ]
  },
  {
   "cell_type": "code",
   "execution_count": 4,
   "metadata": {},
   "outputs": [],
   "source": [
    "#export\n",
    "class Sampler():\n",
    "    def __init__(self, size, batch_size, shuffle):\n",
    "        self.size = size\n",
    "        self.batch_size = batch_size\n",
    "        self.shuffle = shuffle\n",
    "    \n",
    "    def __iter__(self):\n",
    "        self.idxs = torch.randperm(self.size) if self.shuffle else torch.arange(self.size)\n",
    "        for i in range(0, self.size, self.batch_size):\n",
    "            yield self.idxs[i: i+self.batch_size]\n",
    "    \n",
    "    def __repr__(self):\n",
    "        return f'(Sampler) total: {self.size}, batch_size: {self.batch_size}, shuffle: {self.shuffle}'\n",
    "        \n",
    "    def __len__(self):\n",
    "        return self.batch_size\n",
    "            \n",
    "def collate(batch):\n",
    "    x_batch, y_batch = zip(*batch)\n",
    "    return torch.stack(x_batch), torch.stack(y_batch)"
   ]
  },
  {
   "cell_type": "code",
   "execution_count": 5,
   "metadata": {},
   "outputs": [],
   "source": [
    "#export\n",
    "class DataLoader():\n",
    "    def __init__(self, dataset, sampler, collate_fn=collate):\n",
    "        self.dataset = dataset\n",
    "        self.sampler = sampler\n",
    "        self.collate_fn = collate_fn\n",
    "        \n",
    "    def __iter__(self):\n",
    "        for idxs in self.sampler:\n",
    "            yield self.collate_fn([self.dataset[i] for i in idxs])\n",
    "    \n",
    "    def __repr__(self):\n",
    "        return f'(DataLoader) \\n\\t\\t{self.dataset}\\n\\t\\t{self.sampler}'\n",
    "        \n",
    "    def __len__(self):\n",
    "        return math.ceil(len(self.dataset) / len(self.sampler))\n",
    "\n",
    "class DataBunch():\n",
    "    def __init__(self, train_dl, valid_dl):\n",
    "        self.train_dl = train_dl\n",
    "        self.valid_dl = valid_dl\n",
    "    \n",
    "    @property\n",
    "    def train_ds(self):\n",
    "        return self.train_dl.dataset\n",
    "    \n",
    "    @property\n",
    "    def valid_ds(self):\n",
    "        return self.valid_dl.dataset\n",
    "    \n",
    "    def __repr__(self):\n",
    "        return f'(DataBunch) \\n\\t{self.train_dl}\\n\\t{self.valid_dl}'\n",
    "        \n",
    "    def __len__(self):\n",
    "        return len(self.train_dl)"
   ]
  },
  {
   "cell_type": "code",
   "execution_count": 6,
   "metadata": {},
   "outputs": [],
   "source": [
    "#export\n",
    "def compute_accuracy(pre, tar):\n",
    "    return (torch.argmax(pre, dim=1) == tar).float().mean()"
   ]
  },
  {
   "cell_type": "code",
   "execution_count": 7,
   "metadata": {},
   "outputs": [],
   "source": [
    "#export\n",
    "class Optimizer():\n",
    "    def __init__(self, parameters, learning_rate):\n",
    "        self.parameters = parameters\n",
    "        self.learning_rate = learning_rate\n",
    "    \n",
    "    def __repr__(self):\n",
    "        return f'(Optimizer) num_params: {len(self.parameters)}, learning_rate: {self.learning_rate}'\n",
    "        \n",
    "    def step(self):\n",
    "        for parameter in self.parameters:\n",
    "            parameter.step(self.learning_rate)\n",
    "    \n",
    "    def zero_grad(self):\n",
    "        for parameter in self.parameters:\n",
    "            parameter.zero_grad()"
   ]
  },
  {
   "cell_type": "code",
   "execution_count": 8,
   "metadata": {},
   "outputs": [],
   "source": [
    "#export\n",
    "def get_data_bunch(x_train, y_train, x_valid, y_valid, batch_size):\n",
    "    train_ds = Dataset(x_train, y_train)\n",
    "    valid_ds = Dataset(x_valid, y_valid)\n",
    "    train_dl = DataLoader(train_ds, Sampler(len(train_ds), batch_size, True))\n",
    "    valid_dl = DataLoader(valid_ds, Sampler(len(valid_ds), batch_size*2, False)) # twice batch size (no backprop)\n",
    "    return DataBunch(train_dl, valid_dl)\n",
    "\n",
    "def get_model(data_bunch, learning_rate=0.1, num_hidden=50):\n",
    "    in_dim = data_bunch.train_ds.x_data.shape[1]\n",
    "    out_dim = int(max(data_bunch.train_ds.y_data) + 1)\n",
    "    model = Sequential(Linear(in_dim, num_hidden), ReLU(), Linear(num_hidden, out_dim, end=True))\n",
    "    return model, Optimizer(list(model.parameters()), learning_rate)\n",
    "\n",
    "class Learner():\n",
    "    def __init__(self, model, optimizer, loss_fn, data_bunch):\n",
    "        self.model = model\n",
    "        self.optimizer = optimizer\n",
    "        self.loss_fn = loss_fn\n",
    "        self.data_bunch = data_bunch\n",
    "    \n",
    "    def __repr__(self):\n",
    "        return f'{self.data_bunch}\\n{self.model}\\n{self.loss_fn}\\n{self.optimizer}'"
   ]
  },
  {
   "cell_type": "code",
   "execution_count": 9,
   "metadata": {},
   "outputs": [],
   "source": [
    "#export\n",
    "def fit(num_epochs, learner):\n",
    "    accuracies = []\n",
    "    losses = []\n",
    "    \n",
    "    for epoch in range(1, num_epochs+1):\n",
    "        for x_batch, y_batch in learner.data_bunch.train_dl:\n",
    "            pred = learner.model(x_batch)\n",
    "            loss = learner.loss_fn(pred, y_batch)\n",
    "            \n",
    "            learner.loss_fn.backward()\n",
    "            learner.model.backward()\n",
    "            \n",
    "            learner.optimizer.step()\n",
    "            learner.optimizer.zero_grad()\n",
    "            \n",
    "        count = accuracy = loss = 0\n",
    "        for x_batch, y_batch in learner.data_bunch.valid_dl:\n",
    "            pred = learner.model(x_batch)\n",
    "            accuracy += compute_accuracy(pred, y_batch)\n",
    "            loss += learner.loss_fn(pred, y_batch)\n",
    "            count += 1\n",
    "        accuracy /= count\n",
    "        loss /= count\n",
    "        \n",
    "        accuracies.append(accuracy)\n",
    "        losses.append(loss)\n",
    "        print(f'Epoch {epoch}    Accuracy {round(accuracy.item(), 3)}    Loss {round(loss.item(), 3)}')\n",
    "    \n",
    "    return accuracies, losses"
   ]
  },
  {
   "cell_type": "code",
   "execution_count": 10,
   "metadata": {},
   "outputs": [
    {
     "data": {
      "text/plain": [
       "(DataBunch) \n",
       "\t(DataLoader) \n",
       "\t\t(Dataset) x: (50000, 784), y: (50000,)\n",
       "\t\t(Sampler) total: 50000, batch_size: 64, shuffle: True\n",
       "\t(DataLoader) \n",
       "\t\t(Dataset) x: (10000, 784), y: (10000,)\n",
       "\t\t(Sampler) total: 10000, batch_size: 128, shuffle: False\n",
       "(Sequential)\n",
       "\t(Layer1) Linear(784, 50)\n",
       "\t(Layer2) ReLU()\n",
       "\t(Layer3) Linear(50, 10)\n",
       "(CrossEntropy)\n",
       "(Optimizer) num_params: 4, learning_rate: 0.1"
      ]
     },
     "execution_count": 10,
     "metadata": {},
     "output_type": "execute_result"
    }
   ],
   "source": [
    "num_hidden = 50\n",
    "batch_size = 64\n",
    "num_epochs = 20\n",
    "learning_rate = 0.1\n",
    "\n",
    "data_bunch = get_data_bunch(*get_mnist_data(), batch_size)\n",
    "model, optimizer = get_model(data_bunch, learning_rate, num_hidden)\n",
    "loss_fn = CrossEntropy()\n",
    "learner = Learner(model, optimizer, loss_fn, data_bunch)\n",
    "learner"
   ]
  },
  {
   "cell_type": "code",
   "execution_count": 11,
   "metadata": {},
   "outputs": [
    {
     "name": "stdout",
     "output_type": "stream",
     "text": [
      "Epoch 1    Accuracy 0.93    Loss 0.252\n",
      "Epoch 2    Accuracy 0.924    Loss 0.255\n",
      "Epoch 3    Accuracy 0.955    Loss 0.168\n",
      "Epoch 4    Accuracy 0.959    Loss 0.15\n",
      "Epoch 5    Accuracy 0.957    Loss 0.154\n",
      "Epoch 6    Accuracy 0.963    Loss 0.132\n",
      "Epoch 7    Accuracy 0.964    Loss 0.128\n",
      "Epoch 8    Accuracy 0.97    Loss 0.108\n",
      "Epoch 9    Accuracy 0.97    Loss 0.109\n",
      "Epoch 10    Accuracy 0.969    Loss 0.108\n",
      "Epoch 11    Accuracy 0.957    Loss 0.139\n",
      "Epoch 12    Accuracy 0.971    Loss 0.104\n",
      "Epoch 13    Accuracy 0.972    Loss 0.1\n",
      "Epoch 14    Accuracy 0.971    Loss 0.101\n",
      "Epoch 15    Accuracy 0.97    Loss 0.106\n",
      "Epoch 16    Accuracy 0.973    Loss 0.093\n",
      "Epoch 17    Accuracy 0.974    Loss 0.092\n",
      "Epoch 18    Accuracy 0.973    Loss 0.094\n",
      "Epoch 19    Accuracy 0.974    Loss 0.091\n",
      "Epoch 20    Accuracy 0.974    Loss 0.09\n"
     ]
    }
   ],
   "source": [
    "accuracies, losses = fit(num_epochs, learner)"
   ]
  },
  {
   "cell_type": "code",
   "execution_count": 12,
   "metadata": {},
   "outputs": [],
   "source": [
    "#export\n",
    "def plot(data, label):\n",
    "    plt.plot(list(range(1,len(data)+1)), data)\n",
    "    plt.xlabel('epoch')\n",
    "    plt.ylabel(label)\n",
    "    plt.xticks(list(range(1,len(data)+1)))\n",
    "    plt.show()"
   ]
  },
  {
   "cell_type": "code",
   "execution_count": 13,
   "metadata": {},
   "outputs": [
    {
     "data": {
      "image/png": "[encoded data removed]",
      "text/plain": [
       "<Figure size 432x288 with 1 Axes>"
      ]
     },
     "metadata": {
      "needs_background": "light"
     },
     "output_type": "display_data"
    }
   ],
   "source": [
    "plot(accuracies, 'accuracies')"
   ]
  },
  {
   "cell_type": "code",
   "execution_count": 14,
   "metadata": {},
   "outputs": [
    {
     "data": {
      "image/png": "[encoded data removed]",
      "text/plain": [
       "<Figure size 432x288 with 1 Axes>"
      ]
     },
     "metadata": {
      "needs_background": "light"
     },
     "output_type": "display_data"
    }
   ],
   "source": [
    "plot(losses, 'losses')"
   ]
  },
  {
   "cell_type": "code",
   "execution_count": null,
   "metadata": {},
   "outputs": [],
   "source": []
  }
 ],
 "metadata": {
  "kernelspec": {
   "display_name": "Python 3",
   "language": "python",
   "name": "python3"
  },
  "language_info": {
   "codemirror_mode": {
    "name": "ipython",
    "version": 3
   },
   "file_extension": ".py",
   "mimetype": "text/x-python",
   "name": "python",
   "nbconvert_exporter": "python",
   "pygments_lexer": "ipython3",
   "version": "3.7.6"
  }
 },
 "nbformat": 4,
 "nbformat_minor": 4
}

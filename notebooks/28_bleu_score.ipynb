{
 "cells": [
  {
   "cell_type": "markdown",
   "metadata": {},
   "source": [
    "# BLEU Score"
   ]
  },
  {
   "cell_type": "code",
   "execution_count": 1,
   "metadata": {},
   "outputs": [],
   "source": [
    "%load_ext autoreload\n",
    "%autoreload 2\n",
    "\n",
    "%matplotlib inline"
   ]
  },
  {
   "cell_type": "code",
   "execution_count": 2,
   "metadata": {},
   "outputs": [],
   "source": [
    "#export\n",
    "import sys\n",
    "from os.path import join\n",
    "\n",
    "sys.path.insert(0, '/'.join(sys.path[0].split('/')[:-1] + ['scripts']))\n",
    "from gru import *"
   ]
  },
  {
   "cell_type": "code",
   "execution_count": 3,
   "metadata": {},
   "outputs": [
    {
     "name": "stdout",
     "output_type": "stream",
     "text": [
      "10\n"
     ]
    }
   ],
   "source": [
    "#simple ints experimentation\n",
    "tar = [1, 2, 3, 4, 5, 1, 6, 7, 8, 9, 10] # she read the book because she was interested in world history\n",
    "pre = [1, 6, 7, 8, 9, 0, 5, 1, 2, 3, 4] # she was interested in world history because she read the book\n",
    "c_tar = Counter(tar)\n",
    "c_pre = Counter(pre)\n",
    "\n",
    "single_gram = sum([min(c_pre[g], c_tar[g]) for g in c_pre])\n",
    "print(single_gram)"
   ]
  },
  {
   "cell_type": "code",
   "execution_count": 4,
   "metadata": {},
   "outputs": [],
   "source": [
    "#export\n",
    "import numpy as np\n",
    "\n",
    "class NGram():\n",
    "    '''NGram class for preprocess texts'''\n",
    "    def __init__(self, n_gram, vocab_size=5000):\n",
    "        self.n_gram, self.vocab_size = n_gram, vocab_size\n",
    "        \n",
    "    def __eq__(self, other):\n",
    "        if len(self.n_gram) != len(other.n_gram): return False\n",
    "        return np.all(np.array(self.n_gram) == np.array(other.n_gram))\n",
    "    \n",
    "    def __hash__(self):\n",
    "        return int(sum([self.n_gram[i] * self.vocab_size**i for i, o in enumerate(self.n_gram)]))\n",
    "    \n",
    "    def __repr__(self):\n",
    "        return f'{self.n_gram}'"
   ]
  },
  {
   "cell_type": "code",
   "execution_count": 5,
   "metadata": {},
   "outputs": [],
   "source": [
    "#export\n",
    "def get_grams(inp, n, vocab_size=5000):\n",
    "    '''Util function for grabbing multiple input NGrams of varying sizes'''\n",
    "    return [NGram(inp[i:i+n], vocab_size) for i in range(len(inp)-n+1)]"
   ]
  },
  {
   "cell_type": "code",
   "execution_count": 6,
   "metadata": {},
   "outputs": [
    {
     "name": "stdout",
     "output_type": "stream",
     "text": [
      "Counter({[1]: 2, [6]: 1, [7]: 1, [8]: 1, [9]: 1, [0]: 1, [5]: 1, [2]: 1, [3]: 1, [4]: 1})\n",
      "Counter({[1, 6]: 1, [6, 7]: 1, [7, 8]: 1, [8, 9]: 1, [9, 0]: 1, [0, 5]: 1, [5, 1]: 1, [1, 2]: 1, [2, 3]: 1, [3, 4]: 1})\n",
      "Counter({[1, 6, 7]: 1, [6, 7, 8]: 1, [7, 8, 9]: 1, [8, 9, 0]: 1, [9, 0, 5]: 1, [0, 5, 1]: 1, [5, 1, 2]: 1, [1, 2, 3]: 1, [2, 3, 4]: 1})\n",
      "Counter({[1, 6, 7, 8]: 1, [6, 7, 8, 9]: 1, [7, 8, 9, 0]: 1, [8, 9, 0, 5]: 1, [9, 0, 5, 1]: 1, [0, 5, 1, 2]: 1, [5, 1, 2, 3]: 1, [1, 2, 3, 4]: 1})\n"
     ]
    }
   ],
   "source": [
    "for i in range(4):\n",
    "    print(Counter(get_grams(pre, i+1)))"
   ]
  },
  {
   "cell_type": "code",
   "execution_count": 7,
   "metadata": {},
   "outputs": [],
   "source": [
    "#export\n",
    "def get_correct_n_grams(pre, tar, n, vocab_size=5000):\n",
    "    '''Compute number of matching n-grams between two sentences'''\n",
    "    pre_grams = get_grams(pre, n, vocab_size)\n",
    "    tar_grams = get_grams(tar, n, vocab_size)\n",
    "    c_pre = Counter(pre_grams)\n",
    "    c_tar = Counter(tar_grams)\n",
    "    return sum([min(c_pre[g], c_tar[g]) for g in c_pre]), len(pre_grams)"
   ]
  },
  {
   "cell_type": "code",
   "execution_count": 8,
   "metadata": {},
   "outputs": [
    {
     "name": "stdout",
     "output_type": "stream",
     "text": [
      "(10, 11)\n",
      "(8, 10)\n",
      "(5, 9)\n",
      "(3, 8)\n"
     ]
    }
   ],
   "source": [
    "for i in range(4):\n",
    "    print(get_correct_n_grams(pre, tar, i+1, 2))"
   ]
  },
  {
   "cell_type": "code",
   "execution_count": 9,
   "metadata": {},
   "outputs": [],
   "source": [
    "#export\n",
    "def bleu(pre, tar, max_grams=4, vocab_size=5000):\n",
    "    '''Compute BLEU score between two sentences with length penalty'''\n",
    "    corrects = [get_correct_n_grams(pre, tar, n+1, vocab_size) for n in range(max_grams)]\n",
    "    precision = reduce(lambda x,y: x*y, [p/l for p,l in corrects])\n",
    "    len_penalty = exp(1 - len(tar)/len(pre)) if len(pre) < len(tar) else 1\n",
    "    return len_penalty * precision ** 0.25"
   ]
  },
  {
   "cell_type": "code",
   "execution_count": 10,
   "metadata": {},
   "outputs": [
    {
     "data": {
      "text/plain": [
       "0.6238986072117501"
      ]
     },
     "execution_count": 10,
     "metadata": {},
     "output_type": "execute_result"
    }
   ],
   "source": [
    "bleu(pre, tar)"
   ]
  },
  {
   "cell_type": "code",
   "execution_count": 11,
   "metadata": {},
   "outputs": [],
   "source": [
    "#export\n",
    "def corpus_bleu_score(pres, tars, max_grams=4, vocab_size=5000):\n",
    "    '''Compute BLEU score between two list of sentences (corpus) with length penalty'''\n",
    "    pre_len, tar_len = 0, 0\n",
    "    precisions, lengths = [0] * max_grams, [0] * max_grams\n",
    "    for pre, tar in zip(pres, tars):\n",
    "        pre_len += len(pre)\n",
    "        tar_len += len(tar)\n",
    "        for n in range(max_grams):\n",
    "            precision, length = get_correct_n_grams(pre, tar, n+1, vocab_size)\n",
    "            precisions[n] += precision\n",
    "            lengths[n] += length\n",
    "    precision = reduce(lambda x,y: x*y, [p/l for p,l in zip(precisions, lengths)])\n",
    "    len_penalty = exp(1 - tar_len/pre_len) if pre_len < tar_len else 1\n",
    "    return len_penalty * precision ** 0.25"
   ]
  },
  {
   "cell_type": "code",
   "execution_count": 12,
   "metadata": {
    "scrolled": true
   },
   "outputs": [],
   "source": [
    "tars = [tar] # she read the book because she was interested in world history\n",
    "pres = [pre] # she was interested in world history because she read the book\n",
    "bleu_score = bleu(tars[0], pres[0])\n",
    "corpus_score = corpus_bleu_score(pres, tars)\n",
    "test_near(torch.Tensor([bleu_score]), torch.Tensor([corpus_score]))"
   ]
  },
  {
   "cell_type": "code",
   "execution_count": 13,
   "metadata": {},
   "outputs": [
    {
     "name": "stdout",
     "output_type": "stream",
     "text": [
      "0.6238986072117501\n"
     ]
    }
   ],
   "source": [
    "print(bleu_score)"
   ]
  },
  {
   "cell_type": "markdown",
   "metadata": {},
   "source": [
    "## Callback"
   ]
  },
  {
   "cell_type": "code",
   "execution_count": 14,
   "metadata": {},
   "outputs": [],
   "source": [
    "#export\n",
    "class BLEUScore(Callback):\n",
    "    '''Callback to compute BLEU score for training NLP models'''\n",
    "    def __init__(self, max_grams=4, vocab_size=5000):\n",
    "        self.vocab_size = vocab_size\n",
    "        self.max_grams = max_grams\n",
    "        self.bleu_scores = []\n",
    "    \n",
    "    def before_epoch(self, **kwargs):\n",
    "        self.pre_len, self.tar_len = 0, 0\n",
    "        self.precisions, self.lengths = [0] * max_grams, [0] * max_grams    \n",
    "        \n",
    "    def after_batch(self, pres, tars):\n",
    "        for pre, tar in zip(pres, tars):\n",
    "            self.pre_len += len(pre)\n",
    "            self.tar_len += len(tar)\n",
    "            for n in range(max_grams):\n",
    "                precision, length = get_correct_n_grams(pre, tar, n+1, vocab_size)\n",
    "                self.precisions[n] += precision\n",
    "                self.lengths[n] += length\n",
    "    \n",
    "    def after_epoch(self):\n",
    "        precision = reduce(lambda x,y: x*y, [p/l for p,l in zip(self.precisions, self.lengths)])\n",
    "        len_penalty = exp(1 - tar_len/pre_len) if pre_len < tar_len else 1\n",
    "        bleu_score = len_penalty * precision ** 0.25\n",
    "        self.bleu_scores.append(bleu_score)\n",
    "        print(f'BLEU: {bleu_score}')\n",
    "    \n",
    "    def __repr__(self):\n",
    "        return f'BLEUScore({self.max_grams})'"
   ]
  },
  {
   "cell_type": "code",
   "execution_count": 15,
   "metadata": {},
   "outputs": [
    {
     "data": {
      "text/plain": [
       "BLEUScore(4)"
      ]
     },
     "execution_count": 15,
     "metadata": {},
     "output_type": "execute_result"
    }
   ],
   "source": [
    "bleuScore = BLEUScore()\n",
    "bleuScore"
   ]
  }
 ],
 "metadata": {
  "kernelspec": {
   "display_name": "Python 3",
   "language": "python",
   "name": "python3"
  },
  "language_info": {
   "codemirror_mode": {
    "name": "ipython",
    "version": 3
   },
   "file_extension": ".py",
   "mimetype": "text/x-python",
   "name": "python",
   "nbconvert_exporter": "python",
   "pygments_lexer": "ipython3",
   "version": "3.7.6"
  },
  "toc": {
   "base_numbering": 1,
   "nav_menu": {},
   "number_sections": true,
   "sideBar": true,
   "skip_h1_title": false,
   "title_cell": "Table of Contents",
   "title_sidebar": "Contents",
   "toc_cell": false,
   "toc_position": {},
   "toc_section_display": true,
   "toc_window_display": false
  }
 },
 "nbformat": 4,
 "nbformat_minor": 4
}

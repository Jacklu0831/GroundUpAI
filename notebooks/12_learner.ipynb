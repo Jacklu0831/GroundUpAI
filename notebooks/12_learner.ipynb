{
 "cells": [
  {
   "cell_type": "code",
   "execution_count": 1,
   "metadata": {},
   "outputs": [],
   "source": [
    "%load_ext autoreload\n",
    "%autoreload 2\n",
    "\n",
    "%matplotlib inline"
   ]
  },
  {
   "cell_type": "code",
   "execution_count": 2,
   "metadata": {},
   "outputs": [],
   "source": [
    "#export\n",
    "import sys\n",
    "from os.path import join\n",
    "\n",
    "sys.path.insert(0, '/'.join(sys.path[0].split('/')[:-1] + ['scripts']))\n",
    "from callback import *"
   ]
  },
  {
   "cell_type": "code",
   "execution_count": 3,
   "metadata": {},
   "outputs": [],
   "source": [
    "#export\n",
    "class EpochLogger(Callback):\n",
    "    def before_epoch(self):\n",
    "        print(f'Epoch {self.epoch}')"
   ]
  },
  {
   "cell_type": "code",
   "execution_count": 4,
   "metadata": {},
   "outputs": [],
   "source": [
    "#export\n",
    "class CancelTrainException(Exception): pass\n",
    "class CancelEpochException(Exception): pass\n",
    "class CancelBatchException(Exception): pass"
   ]
  },
  {
   "cell_type": "code",
   "execution_count": 5,
   "metadata": {},
   "outputs": [],
   "source": [
    "#export\n",
    "class Learner():\n",
    "    def __init__(self, data_bunch, model, loss_fn, optimizer, callbacks=[]):\n",
    "        self.data_bunch = data_bunch\n",
    "        self.model = model\n",
    "        self.loss_fn = loss_fn\n",
    "        self.optimizer = optimizer\n",
    "        self.callbacks = sorted([TrainEval()] + callbacks, key=lambda cb: cb.order)\n",
    "        for callback in self.callbacks:\n",
    "            callback.learner = self\n",
    "    \n",
    "    def __repr__(self):\n",
    "        return f'{self.data_bunch}\\n{self.model}\\n{self.loss_fn}\\n{self.optimizer}\\n(Callbacks) {[cb.__class__.__name__ for cb in self.callbacks]}'\n",
    "\n",
    "    def one_batch(self, x_batch, y_batch):\n",
    "        try:\n",
    "            self.x_batch = x_batch\n",
    "            self.y_batch = y_batch\n",
    "            if self('before_batch'):     return\n",
    "            self.pred = self.model(self.x_batch)\n",
    "            if self('after_pred'):       return\n",
    "            self.loss = self.loss_fn(self.pred, self.y_batch)\n",
    "            if self('after_loss'):       return\n",
    "            if not self.model.training:  return\n",
    "            self.loss_fn.backward()\n",
    "            if self('after_loss_back'):  return\n",
    "            self.model.backward()\n",
    "            if self('after_model_back'): return\n",
    "            self.optimizer.step()\n",
    "            if self('after_step'):       return\n",
    "            self.optimizer.zero_grad()\n",
    "        except CancelBatchException:\n",
    "            self('after_cancel_batch')\n",
    "\n",
    "    def all_batches(self):\n",
    "        data_loader = self.data_bunch.train_dl if self.model.training else self.data_bunch.valid_dl\n",
    "        self.iters_count, self.iters = 0, len(data_loader)\n",
    "        try:\n",
    "            for x_batch, y_batch in data_loader:\n",
    "                self.one_batch(x_batch, y_batch)\n",
    "                self.iters_count += 1\n",
    "                self('after_batch')\n",
    "        except CancelEpochException: \n",
    "            self('after_cancel_epoch')\n",
    "\n",
    "    def fit(self, num_epochs):\n",
    "        self.num_epochs = num_epochs\n",
    "\n",
    "        for callback in self.callbacks:\n",
    "            callback.set_learner(self)\n",
    "            \n",
    "        if self('before_fit'):       return\n",
    "        try:\n",
    "            for epoch in range(1, num_epochs+1):\n",
    "                self.epoch = epoch\n",
    "                if self('before_epoch'): return\n",
    "                if self('before_train'): return \n",
    "                self.all_batches()\n",
    "                if self('before_valid'): return\n",
    "                self.all_batches()\n",
    "                if self('after_epoch'): break\n",
    "        except CancelTrainException:\n",
    "            self('after_cancel_train')\n",
    "        finally:\n",
    "            self('after_fit')\n",
    "\n",
    "    def __call__(self, callback_name):\n",
    "        for callback in self.callbacks:\n",
    "            if callback(callback_name):\n",
    "                return True\n",
    "        return False"
   ]
  },
  {
   "cell_type": "code",
   "execution_count": 6,
   "metadata": {},
   "outputs": [],
   "source": [
    "data_bunch = get_data_bunch(*get_mnist_data(), batch_size=64)\n",
    "model = get_lin_model(data_bunch)\n",
    "optimizer = Optimizer(list(model.parameters()), learning_rate=0.1)\n",
    "loss_fn = CrossEntropy()\n",
    "callbacks = [EpochLogger()]"
   ]
  },
  {
   "cell_type": "code",
   "execution_count": 7,
   "metadata": {},
   "outputs": [
    {
     "name": "stdout",
     "output_type": "stream",
     "text": [
      "(DataBunch) \n",
      "\t(DataLoader) \n",
      "\t\t(Dataset) x: (50000, 784), y: (50000,)\n",
      "\t\t(Sampler) total: 50000, batch_size: 64, shuffle: True\n",
      "\t(DataLoader) \n",
      "\t\t(Dataset) x: (10000, 784), y: (10000,)\n",
      "\t\t(Sampler) total: 10000, batch_size: 128, shuffle: False\n",
      "(Sequential)\n",
      "\t(Layer1) Linear(784, 50)\n",
      "\t(Layer2) ReLU()\n",
      "\t(Layer3) Linear(50, 10)\n",
      "(CrossEntropy)\n",
      "(Optimizer) learning_rate: 0.1\n",
      "(Callbacks) ['TrainEval', 'EpochLogger']\n"
     ]
    }
   ],
   "source": [
    "learner = Learner(data_bunch, model, loss_fn, optimizer, callbacks)\n",
    "print(learner)"
   ]
  },
  {
   "cell_type": "code",
   "execution_count": 8,
   "metadata": {},
   "outputs": [
    {
     "name": "stdout",
     "output_type": "stream",
     "text": [
      "Epoch 1\n",
      "Epoch 2\n",
      "Epoch 3\n"
     ]
    }
   ],
   "source": [
    "learner.fit(3)"
   ]
  },
  {
   "cell_type": "code",
   "execution_count": 9,
   "metadata": {},
   "outputs": [],
   "source": [
    "x_train, y_train, x_valid, y_valid = get_mnist_data()\n",
    "x_train, y_train, x_valid, y_valid = x_train[:8000], y_train[:8000], x_valid[:2000], y_valid[:2000]\n",
    "\n",
    "data_bunch = get_data_bunch(x_train, y_train, x_valid, y_valid, batch_size=64)\n",
    "model = get_conv_model(data_bunch)\n",
    "optimizer = DynamicOpt(list(model.parameters()), learning_rate=0.1) # dynamic optimizer\n",
    "loss_fn = CrossEntropy()\n",
    "callbacks = [EpochLogger()]"
   ]
  },
  {
   "cell_type": "code",
   "execution_count": 10,
   "metadata": {},
   "outputs": [
    {
     "name": "stdout",
     "output_type": "stream",
     "text": [
      "(DataBunch) \n",
      "\t(DataLoader) \n",
      "\t\t(Dataset) x: (8000, 784), y: (8000,)\n",
      "\t\t(Sampler) total: 8000, batch_size: 64, shuffle: True\n",
      "\t(DataLoader) \n",
      "\t\t(Dataset) x: (2000, 784), y: (2000,)\n",
      "\t\t(Sampler) total: 2000, batch_size: 128, shuffle: False\n",
      "(Sequential)\n",
      "\t(Layer1) Reshape(1, 28, 28)\n",
      "\t(Layer2) Conv2D(in: 1, out: 8, kernel: 5, stride: 4, pad: 2)\n",
      "\t(Layer3) ReLU()\n",
      "\t(Layer4) Conv2D(in: 8, out: 16, kernel: 3, stride: 2, pad: 1)\n",
      "\t(Layer5) Flatten()\n",
      "\t(Layer6) Linear(256, 10)\n",
      "(CrossEntropy)\n",
      "(DynamicOpt) hyper_params: ['learning_rate']\n",
      "(Callbacks) ['TrainEval', 'EpochLogger']\n"
     ]
    }
   ],
   "source": [
    "learner = Learner(data_bunch, model, loss_fn, optimizer, callbacks)\n",
    "print(learner)"
   ]
  },
  {
   "cell_type": "code",
   "execution_count": 11,
   "metadata": {},
   "outputs": [
    {
     "name": "stdout",
     "output_type": "stream",
     "text": [
      "Epoch 1\n",
      "Epoch 2\n",
      "Epoch 3\n"
     ]
    }
   ],
   "source": [
    "learner.fit(3)"
   ]
  },
  {
   "cell_type": "code",
   "execution_count": 12,
   "metadata": {},
   "outputs": [],
   "source": [
    "x_train, y_train, x_valid, y_valid = get_mnist_data()\n",
    "x_train, y_train, x_valid, y_valid = x_train[:8000], y_train[:8000], x_valid[:2000], y_valid[:2000]\n",
    "\n",
    "data_bunch = get_data_bunch(x_train, y_train, x_valid, y_valid, batch_size=64)\n",
    "model = get_conv_final_model(data_bunch)\n",
    "optimizer = DynamicOpt(list(model.parameters()), learning_rate=0.1)\n",
    "loss_fn = CrossEntropy()\n",
    "callbacks = [EpochLogger()]"
   ]
  },
  {
   "cell_type": "code",
   "execution_count": 13,
   "metadata": {},
   "outputs": [
    {
     "name": "stdout",
     "output_type": "stream",
     "text": [
      "(DataBunch) \n",
      "\t(DataLoader) \n",
      "\t\t(Dataset) x: (8000, 784), y: (8000,)\n",
      "\t\t(Sampler) total: 8000, batch_size: 64, shuffle: True\n",
      "\t(DataLoader) \n",
      "\t\t(Dataset) x: (2000, 784), y: (2000,)\n",
      "\t\t(Sampler) total: 2000, batch_size: 128, shuffle: False\n",
      "(Sequential)\n",
      "\t(Layer1) Reshape(1, 28, 28)\n",
      "\t(Layer2) Conv2D(in: 1, out: 4, kernel: 5, stride: 2, pad: 1)\n",
      "\t(Layer3) AvgPool2d(kernel: 2, stride: 1, pad: 0)\n",
      "\t(Layer4) BatchNorm()\n",
      "\t(Layer5) Conv2D(in: 4, out: 16, kernel: 3, stride: 2, pad: 0)\n",
      "\t(Layer6) BatchNorm()\n",
      "\t(Layer7) Flatten()\n",
      "\t(Layer8) Linear(400, 64)\n",
      "\t(Layer9) ReLU()\n",
      "\t(Layer10) Linear(64, 10)\n",
      "(CrossEntropy)\n",
      "(DynamicOpt) hyper_params: ['learning_rate']\n",
      "(Callbacks) ['TrainEval', 'EpochLogger']\n"
     ]
    }
   ],
   "source": [
    "learner = Learner(data_bunch, model, loss_fn, optimizer, callbacks)\n",
    "print(learner)"
   ]
  },
  {
   "cell_type": "code",
   "execution_count": 14,
   "metadata": {},
   "outputs": [
    {
     "name": "stdout",
     "output_type": "stream",
     "text": [
      "Epoch 1\n",
      "Epoch 2\n",
      "Epoch 3\n"
     ]
    }
   ],
   "source": [
    "learner.fit(3)"
   ]
  }
 ],
 "metadata": {
  "kernelspec": {
   "display_name": "Python 3",
   "language": "python",
   "name": "python3"
  },
  "language_info": {
   "codemirror_mode": {
    "name": "ipython",
    "version": 3
   },
   "file_extension": ".py",
   "mimetype": "text/x-python",
   "name": "python",
   "nbconvert_exporter": "python",
   "pygments_lexer": "ipython3",
   "version": "3.7.6"
  }
 },
 "nbformat": 4,
 "nbformat_minor": 4
}

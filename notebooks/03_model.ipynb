{
 "cells": [
  {
   "cell_type": "code",
   "execution_count": 1,
   "metadata": {},
   "outputs": [],
   "source": [
    "#export\n",
    "import sys\n",
    "from os.path import join\n",
    "import math\n",
    "\n",
    "sys.path.insert(0, '/'.join(sys.path[0].split('/')[:-1] + ['scripts']))\n",
    "from data_bunch import *"
   ]
  },
  {
   "cell_type": "code",
   "execution_count": 2,
   "metadata": {},
   "outputs": [],
   "source": [
    "#export\n",
    "class Sequential():\n",
    "    def __init__(self, *args):\n",
    "        self.layers = list(args)\n",
    "        self.training = True\n",
    "    \n",
    "    def __call__(self, data):\n",
    "        for layer in self.layers:\n",
    "            data = layer(data)\n",
    "        return data\n",
    "    \n",
    "    def __repr__(self):\n",
    "        return '(Sequential)\\n\\t' + '\\n\\t'.join(f'(Layer{i}) {layer}' for i, layer in enumerate(self.layers, 1))\n",
    "    \n",
    "    def train(self):\n",
    "        self.training = True\n",
    "    \n",
    "    def eval_(self):\n",
    "        self.training = False\n",
    "        \n",
    "    def backward(self):\n",
    "        for layer in reversed(self.layers):\n",
    "            layer.backward()\n",
    "        \n",
    "    def parameters(self):\n",
    "        for layer in self.layers:\n",
    "            for parameter in layer.parameters():\n",
    "                yield parameter"
   ]
  },
  {
   "cell_type": "code",
   "execution_count": 3,
   "metadata": {},
   "outputs": [
    {
     "data": {
      "text/plain": [
       "(Sequential)\n",
       "\t(Layer1) im layer1\n",
       "\t(Layer2) im layer2\n",
       "\t(Layer3) im not layer4"
      ]
     },
     "execution_count": 3,
     "metadata": {},
     "output_type": "execute_result"
    }
   ],
   "source": [
    "model = Sequential('im layer1', 'im layer2', 'im not layer4')\n",
    "model"
   ]
  },
  {
   "cell_type": "code",
   "execution_count": null,
   "metadata": {},
   "outputs": [],
   "source": []
  }
 ],
 "metadata": {
  "kernelspec": {
   "display_name": "Python 3",
   "language": "python",
   "name": "python3"
  },
  "language_info": {
   "codemirror_mode": {
    "name": "ipython",
    "version": 3
   },
   "file_extension": ".py",
   "mimetype": "text/x-python",
   "name": "python",
   "nbconvert_exporter": "python",
   "pygments_lexer": "ipython3",
   "version": "3.7.6"
  }
 },
 "nbformat": 4,
 "nbformat_minor": 4
}

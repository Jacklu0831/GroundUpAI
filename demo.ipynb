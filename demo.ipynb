{
 "cells": [
  {
   "cell_type": "code",
   "execution_count": null,
   "metadata": {
    "colab": {},
    "colab_type": "code",
    "id": "mh3MAmLjEssA"
   },
   "outputs": [],
   "source": [
    "# first import stateful optimizer and all it's dependencies\n",
    "from stateful_optim import *"
   ]
  },
  {
   "cell_type": "code",
   "execution_count": 0,
   "metadata": {
    "colab": {},
    "colab_type": "code",
    "id": "FuKSVazkW6UO"
   },
   "outputs": [],
   "source": [
    "data_bunch = get_data_bunch(*get_mnist_data(), batch_size=64)\n",
    "loss_fn = CrossEntropy()"
   ]
  },
  {
   "cell_type": "markdown",
   "metadata": {
    "colab_type": "text",
    "id": "-RaP2HSaTryL"
   },
   "source": [
    "## Search Learning Rate"
   ]
  },
  {
   "cell_type": "code",
   "execution_count": 0,
   "metadata": {
    "colab": {},
    "colab_type": "code",
    "id": "FO5EqOSDFLG4"
   },
   "outputs": [],
   "source": [
    "model = get_conv_final_model(data_bunch)\n",
    "optimizer = adam_opt(model, learning_rate=1e-3, weight_decay=1e-4)\n",
    "callbacks = [LearningRateSearch(min_lr=1e-5, max_lr=1e-2), Recorder()]"
   ]
  },
  {
   "cell_type": "code",
   "execution_count": 5,
   "metadata": {
    "colab": {
     "base_uri": "https://localhost:8080/",
     "height": 374
    },
    "colab_type": "code",
    "id": "C7B-Xeb-FXNn",
    "outputId": "edf7b916-082b-4c67-bf1d-84542113ebee"
   },
   "outputs": [
    {
     "name": "stdout",
     "output_type": "stream",
     "text": [
      "(DataBunch) \n",
      "    (DataLoader) \n",
      "        (Dataset) x: (50000, 784), y: (50000,)\n",
      "        (Sampler) total: 50000, batch_size: 64, shuffle: True\n",
      "    (DataLoader) \n",
      "        (Dataset) x: (10000, 784), y: (10000,)\n",
      "        (Sampler) total: 10000, batch_size: 128, shuffle: False\n",
      "(Model)\n",
      "    Reshape(1, 28, 28)\n",
      "    Conv(1, 4, 5, 2)\n",
      "    AvgPool(2, 1)\n",
      "    BatchNorm()\n",
      "    Conv(4, 16, 3, 2)\n",
      "    BatchNorm()\n",
      "    Flatten()\n",
      "    Linear(400, 64)\n",
      "    ReLU()\n",
      "    Linear(64, 10)\n",
      "(CrossEntropy)\n",
      "(StatefulOpt) steppers: ['adam', 'l2_reg'], stats: ['ExpWeightedGrad', 'ExpWeightedSqrGrad', 'StepCount']\n",
      "(Callbacks) ['TrainEval', 'LearningRateSearch', 'Recorder']\n"
     ]
    }
   ],
   "source": [
    "learner = Learner(data_bunch, model, loss_fn, optimizer, callbacks)\n",
    "print(learner)"
   ]
  },
  {
   "cell_type": "code",
   "execution_count": 0,
   "metadata": {
    "colab": {},
    "colab_type": "code",
    "id": "4eskOhHQPCho"
   },
   "outputs": [],
   "source": [
    "learner.fit(1)"
   ]
  },
  {
   "cell_type": "code",
   "execution_count": 7,
   "metadata": {
    "colab": {
     "base_uri": "https://localhost:8080/",
     "height": 283
    },
    "colab_type": "code",
    "id": "WMHpLwHfF6ln",
    "outputId": "95e2b7e7-4cfa-41fe-fef7-21247365ceec"
   },
   "outputs": [
    {
     "data": {
      "image/png": "[encoded data removed]",
      "text/plain": [
       "<Figure size 432x288 with 1 Axes>"
      ]
     },
     "metadata": {
      "needs_background": "light",
      "tags": []
     },
     "output_type": "display_data"
    }
   ],
   "source": [
    "plot_lr_loss(learner.callbacks[2])"
   ]
  },
  {
   "cell_type": "code",
   "execution_count": 163,
   "metadata": {
    "colab": {
     "base_uri": "https://localhost:8080/",
     "height": 34
    },
    "colab_type": "code",
    "id": "50AXK5TJExks",
    "outputId": "9dbe01ad-43ba-49ee-b4fc-5e54a1797173"
   },
   "outputs": [
    {
     "name": "stdout",
     "output_type": "stream",
     "text": [
      "learning rate found: 0.004283273648329838\n"
     ]
    }
   ],
   "source": [
    "lr = learner.callbacks[1].lr\n",
    "print(f'learning rate found: {lr}')"
   ]
  },
  {
   "cell_type": "markdown",
   "metadata": {
    "colab_type": "text",
    "id": "QRegsdWXTyFb"
   },
   "source": [
    "## Training"
   ]
  },
  {
   "cell_type": "code",
   "execution_count": 0,
   "metadata": {
    "colab": {},
    "colab_type": "code",
    "id": "5rWAQBNsXEEs"
   },
   "outputs": [],
   "source": [
    "schedule = combine_schedules([0.4, 0.6], one_cycle_cos(lr/3, lr*3, lr/3))"
   ]
  },
  {
   "cell_type": "code",
   "execution_count": 0,
   "metadata": {
    "colab": {},
    "colab_type": "code",
    "id": "i7H8pYfbG-jd"
   },
   "outputs": [],
   "source": [
    "model = get_conv_final_model(data_bunch)\n",
    "optimizer = adam_opt(model, learning_rate=lr, weight_decay=1e-4)\n",
    "callbacks = [ParamScheduler('learning_rate', schedule), StatsLogging(), Recorder()]"
   ]
  },
  {
   "cell_type": "code",
   "execution_count": 11,
   "metadata": {
    "colab": {
     "base_uri": "https://localhost:8080/",
     "height": 374
    },
    "colab_type": "code",
    "id": "1hgHlcx-UBB7",
    "outputId": "812c4a7f-d2a2-4c06-b771-21f5abc7c581"
   },
   "outputs": [
    {
     "name": "stdout",
     "output_type": "stream",
     "text": [
      "(DataBunch) \n",
      "    (DataLoader) \n",
      "        (Dataset) x: (50000, 784), y: (50000,)\n",
      "        (Sampler) total: 50000, batch_size: 64, shuffle: True\n",
      "    (DataLoader) \n",
      "        (Dataset) x: (10000, 784), y: (10000,)\n",
      "        (Sampler) total: 10000, batch_size: 128, shuffle: False\n",
      "(Model)\n",
      "    Reshape(1, 28, 28)\n",
      "    Conv(1, 4, 5, 2)\n",
      "    AvgPool(2, 1)\n",
      "    BatchNorm()\n",
      "    Conv(4, 16, 3, 2)\n",
      "    BatchNorm()\n",
      "    Flatten()\n",
      "    Linear(400, 64)\n",
      "    ReLU()\n",
      "    Linear(64, 10)\n",
      "(CrossEntropy)\n",
      "(StatefulOpt) steppers: ['adam', 'l2_reg'], stats: ['ExpWeightedGrad', 'ExpWeightedSqrGrad', 'StepCount']\n",
      "(Callbacks) ['TrainEval', 'ParamScheduler', 'StatsLogging', 'Recorder']\n"
     ]
    }
   ],
   "source": [
    "learner = Learner(data_bunch, model, loss_fn, optimizer, callbacks)\n",
    "print(learner)"
   ]
  },
  {
   "cell_type": "code",
   "execution_count": 175,
   "metadata": {
    "colab": {
     "base_uri": "https://localhost:8080/",
     "height": 221
    },
    "colab_type": "code",
    "id": "fUFRMkOjdrUU",
    "outputId": "05bf2436-c017-442d-96f5-488f1117484c"
   },
   "outputs": [
    {
     "name": "stdout",
     "output_type": "stream",
     "text": [
      "Epoch - 1\n",
      "train metrics - [5.624208450317383e-06, 0.89082]\n",
      "valid metrics - [2.2692584991455077e-05, 0.9622]\n",
      "\n",
      "Epoch - 2\n",
      "train metrics - [6.513986587524414e-06, 0.95746]\n",
      "valid metrics - [2.0359230041503905e-05, 0.9706]\n",
      "\n",
      "Epoch - 3\n",
      "train metrics - [6.942987442016601e-06, 0.96688]\n",
      "valid metrics - [1.5890932083129882e-05, 0.9731]\n",
      "\n"
     ]
    }
   ],
   "source": [
    "learner.fit(3)"
   ]
  },
  {
   "cell_type": "code",
   "execution_count": 159,
   "metadata": {
    "colab": {
     "base_uri": "https://localhost:8080/",
     "height": 279
    },
    "colab_type": "code",
    "id": "zkfNY5k3acs6",
    "outputId": "b9212097-ac84-4c2c-a27b-44a471ed31f9"
   },
   "outputs": [
    {
     "data": {
      "image/png": "[encoded data removed]",
      "text/plain": [
       "<Figure size 432x288 with 1 Axes>"
      ]
     },
     "metadata": {
      "needs_background": "light",
      "tags": []
     },
     "output_type": "display_data"
    }
   ],
   "source": [
    "learner.callbacks[3].plot_losses()"
   ]
  },
  {
   "cell_type": "code",
   "execution_count": 176,
   "metadata": {
    "colab": {
     "base_uri": "https://localhost:8080/",
     "height": 279
    },
    "colab_type": "code",
    "id": "FzdeS-yAaf4j",
    "outputId": "d7ee0daa-068d-45e3-8d3d-39f420c7c80c"
   },
   "outputs": [
    {
     "data": {
      "image/png": "[encoded data removed]",
      "text/plain": [
       "<Figure size 432x288 with 1 Axes>"
      ]
     },
     "metadata": {
      "needs_background": "light",
      "tags": []
     },
     "output_type": "display_data"
    }
   ],
   "source": [
    "learner.callbacks[3].plot_parameter('learning_rate')"
   ]
  },
  {
   "cell_type": "code",
   "execution_count": 0,
   "metadata": {
    "colab": {},
    "colab_type": "code",
    "id": "TXLCGsmwWeDJ"
   },
   "outputs": [],
   "source": []
  }
 ],
 "metadata": {
  "accelerator": "GPU",
  "colab": {
   "collapsed_sections": [],
   "name": "32_demo.ipynb",
   "provenance": []
  },
  "kernelspec": {
   "display_name": "Python 3",
   "language": "python",
   "name": "python3"
  },
  "language_info": {
   "codemirror_mode": {
    "name": "ipython",
    "version": 3
   },
   "file_extension": ".py",
   "mimetype": "text/x-python",
   "name": "python",
   "nbconvert_exporter": "python",
   "pygments_lexer": "ipython3",
   "version": "3.7.6"
  }
 },
 "nbformat": 4,
 "nbformat_minor": 1
}
